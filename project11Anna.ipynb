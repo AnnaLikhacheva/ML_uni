{
  "cells": [
    {
      "cell_type": "markdown",
      "id": "e02876c8",
      "metadata": {
        "id": "e02876c8"
      },
      "source": [
        "## Проект 11\n",
        "\n",
        "# Тема: Многоклассовая и полиномиальная классификация"
      ]
    },
    {
      "cell_type": "code",
      "execution_count": null,
      "id": "ee348694",
      "metadata": {
        "id": "ee348694"
      },
      "outputs": [],
      "source": [
        "import numpy as np\n",
        "import pandas as pd\n",
        "import matplotlib.pyplot as plt\n",
        "import seaborn as sns\n",
        "from sklearn.model_selection import train_test_split\n",
        "from sklearn.linear_model import LogisticRegression\n",
        "from sklearn.preprocessing import StandardScaler\n",
        "from sklearn.preprocessing import PolynomialFeatures\n",
        "import time\n",
        "from sklearn.metrics import accuracy_score, f1_score, confusion_matrix, classification_report, recall_score, precision_score, classification_report\n",
        "from sklearn.pipeline import Pipeline\n",
        "\n",
        "from sklearn.datasets import make_classification, load_iris"
      ]
    },
    {
      "cell_type": "markdown",
      "id": "fc995a7b-1022-4130-9abe-3e20343d58be",
      "metadata": {
        "id": "fc995a7b-1022-4130-9abe-3e20343d58be"
      },
      "source": [
        "Сгенерируем данные и значения целевой переменной для задачи многоклассовой классификации:"
      ]
    },
    {
      "cell_type": "code",
      "execution_count": null,
      "id": "e33a6945-a8a6-46e1-8a2c-7c63d9fda18f",
      "metadata": {
        "id": "e33a6945-a8a6-46e1-8a2c-7c63d9fda18f"
      },
      "outputs": [],
      "source": [
        "X, y = make_classification(n_samples=1000,\n",
        "                           n_features=2,\n",
        "                           n_informative=2,\n",
        "                           n_redundant=0,\n",
        "                           n_classes=3,\n",
        "                           n_clusters_per_class = 1,\n",
        "                           class_sep=3,\n",
        "                           random_state=0)"
      ]
    },
    {
      "cell_type": "markdown",
      "id": "ae943d25-225d-48aa-bed9-389c8fdcba2c",
      "metadata": {
        "id": "ae943d25-225d-48aa-bed9-389c8fdcba2c"
      },
      "source": [
        "Выведем их в виде датафрейма, дав названия колонкам:"
      ]
    },
    {
      "cell_type": "code",
      "execution_count": null,
      "id": "29acb06a-2c8a-4798-ba45-aa7e846f5093",
      "metadata": {
        "id": "29acb06a-2c8a-4798-ba45-aa7e846f5093",
        "outputId": "2d07715b-d2f5-40b7-aaf5-35a23cfbd85f"
      },
      "outputs": [
        {
          "data": {
            "text/html": [
              "<div>\n",
              "<style scoped>\n",
              "    .dataframe tbody tr th:only-of-type {\n",
              "        vertical-align: middle;\n",
              "    }\n",
              "\n",
              "    .dataframe tbody tr th {\n",
              "        vertical-align: top;\n",
              "    }\n",
              "\n",
              "    .dataframe thead th {\n",
              "        text-align: right;\n",
              "    }\n",
              "</style>\n",
              "<table border=\"1\" class=\"dataframe\">\n",
              "  <thead>\n",
              "    <tr style=\"text-align: right;\">\n",
              "      <th></th>\n",
              "      <th>x1</th>\n",
              "      <th>x2</th>\n",
              "      <th>y</th>\n",
              "    </tr>\n",
              "  </thead>\n",
              "  <tbody>\n",
              "    <tr>\n",
              "      <th>0</th>\n",
              "      <td>2.407448</td>\n",
              "      <td>-2.764747</td>\n",
              "      <td>0</td>\n",
              "    </tr>\n",
              "    <tr>\n",
              "      <th>1</th>\n",
              "      <td>3.921765</td>\n",
              "      <td>2.759140</td>\n",
              "      <td>1</td>\n",
              "    </tr>\n",
              "    <tr>\n",
              "      <th>2</th>\n",
              "      <td>2.581345</td>\n",
              "      <td>2.396164</td>\n",
              "      <td>1</td>\n",
              "    </tr>\n",
              "    <tr>\n",
              "      <th>3</th>\n",
              "      <td>3.431664</td>\n",
              "      <td>2.693400</td>\n",
              "      <td>1</td>\n",
              "    </tr>\n",
              "    <tr>\n",
              "      <th>4</th>\n",
              "      <td>4.208167</td>\n",
              "      <td>-4.953762</td>\n",
              "      <td>0</td>\n",
              "    </tr>\n",
              "  </tbody>\n",
              "</table>\n",
              "</div>"
            ],
            "text/plain": [
              "         x1        x2  y\n",
              "0  2.407448 -2.764747  0\n",
              "1  3.921765  2.759140  1\n",
              "2  2.581345  2.396164  1\n",
              "3  3.431664  2.693400  1\n",
              "4  4.208167 -4.953762  0"
            ]
          },
          "execution_count": 3,
          "metadata": {},
          "output_type": "execute_result"
        }
      ],
      "source": [
        "df = pd.DataFrame(data =X, columns = ['x'+str(i) for i in range(1,3)])\n",
        "df['y'] = y\n",
        "df.head()"
      ]
    },
    {
      "cell_type": "markdown",
      "id": "994e77f3-212f-470a-8024-c1b314cacb49",
      "metadata": {
        "id": "994e77f3-212f-470a-8024-c1b314cacb49"
      },
      "source": [
        "Визуализируем данные на диаграмме рассеивания, подкрасив классы разными цветами:"
      ]
    },
    {
      "cell_type": "code",
      "execution_count": null,
      "id": "e2d68f1f-07c2-4657-8925-2ebc63423fde",
      "metadata": {
        "id": "e2d68f1f-07c2-4657-8925-2ebc63423fde",
        "outputId": "84415134-77f5-4988-c461-a2e2cd4bec68"
      },
      "outputs": [
        {
          "data": {
            "image/png": "[encoded data removed]",
            "text/plain": [
              "<Figure size 400x300 with 1 Axes>"
            ]
          },
          "metadata": {},
          "output_type": "display_data"
        }
      ],
      "source": [
        "plt.figure(figsize = (4,3))\n",
        "plt.scatter(X[:, 0], X[:, 1],  c=y, cmap='autumn', alpha = 0.4)\n",
        "plt.xlabel('X1')\n",
        "plt.ylabel('X2')\n",
        "plt.title(\"Визуализация классов\")\n",
        "plt.show()"
      ]
    },
    {
      "cell_type": "markdown",
      "id": "f11da481-61bb-4822-a49c-5404e92cf3f5",
      "metadata": {
        "id": "f11da481-61bb-4822-a49c-5404e92cf3f5"
      },
      "source": [
        "Разделим данные на обучающую и тестовую части:"
      ]
    },
    {
      "cell_type": "code",
      "execution_count": null,
      "id": "f885f900-64c8-4859-a243-8ee96757fd63",
      "metadata": {
        "id": "f885f900-64c8-4859-a243-8ee96757fd63"
      },
      "outputs": [],
      "source": [
        "X_train, X_test, y_train, y_test = train_test_split(X, y, test_size = 0.2, random_state=0)"
      ]
    },
    {
      "cell_type": "markdown",
      "id": "bb2a76ad-378f-4468-9b3a-3bd9bcb8a04c",
      "metadata": {
        "id": "bb2a76ad-378f-4468-9b3a-3bd9bcb8a04c"
      },
      "source": [
        "Реализуем модель логистической регрессии LogisticRegression на `sklearn`. Для этого обучим модель на обучающих данных:"
      ]
    },
    {
      "cell_type": "code",
      "execution_count": null,
      "id": "1194642c-db08-4886-ba42-0f311e8c8945",
      "metadata": {
        "id": "1194642c-db08-4886-ba42-0f311e8c8945",
        "outputId": "b6a0b306-ded4-453d-df3b-b4cd03624434"
      },
      "outputs": [
        {
          "data": {
            "text/html": [
              "<style>#sk-container-id-1 {color: black;}#sk-container-id-1 pre{padding: 0;}#sk-container-id-1 div.sk-toggleable {background-color: white;}#sk-container-id-1 label.sk-toggleable__label {cursor: pointer;display: block;width: 100%;margin-bottom: 0;padding: 0.3em;box-sizing: border-box;text-align: center;}#sk-container-id-1 label.sk-toggleable__label-arrow:before {content: \"▸\";float: left;margin-right: 0.25em;color: #696969;}#sk-container-id-1 label.sk-toggleable__label-arrow:hover:before {color: black;}#sk-container-id-1 div.sk-estimator:hover label.sk-toggleable__label-arrow:before {color: black;}#sk-container-id-1 div.sk-toggleable__content {max-height: 0;max-width: 0;overflow: hidden;text-align: left;background-color: #f0f8ff;}#sk-container-id-1 div.sk-toggleable__content pre {margin: 0.2em;color: black;border-radius: 0.25em;background-color: #f0f8ff;}#sk-container-id-1 input.sk-toggleable__control:checked~div.sk-toggleable__content {max-height: 200px;max-width: 100%;overflow: auto;}#sk-container-id-1 input.sk-toggleable__control:checked~label.sk-toggleable__label-arrow:before {content: \"▾\";}#sk-container-id-1 div.sk-estimator input.sk-toggleable__control:checked~label.sk-toggleable__label {background-color: #d4ebff;}#sk-container-id-1 div.sk-label input.sk-toggleable__control:checked~label.sk-toggleable__label {background-color: #d4ebff;}#sk-container-id-1 input.sk-hidden--visually {border: 0;clip: rect(1px 1px 1px 1px);clip: rect(1px, 1px, 1px, 1px);height: 1px;margin: -1px;overflow: hidden;padding: 0;position: absolute;width: 1px;}#sk-container-id-1 div.sk-estimator {font-family: monospace;background-color: #f0f8ff;border: 1px dotted black;border-radius: 0.25em;box-sizing: border-box;margin-bottom: 0.5em;}#sk-container-id-1 div.sk-estimator:hover {background-color: #d4ebff;}#sk-container-id-1 div.sk-parallel-item::after {content: \"\";width: 100%;border-bottom: 1px solid gray;flex-grow: 1;}#sk-container-id-1 div.sk-label:hover label.sk-toggleable__label {background-color: #d4ebff;}#sk-container-id-1 div.sk-serial::before {content: \"\";position: absolute;border-left: 1px solid gray;box-sizing: border-box;top: 0;bottom: 0;left: 50%;z-index: 0;}#sk-container-id-1 div.sk-serial {display: flex;flex-direction: column;align-items: center;background-color: white;padding-right: 0.2em;padding-left: 0.2em;position: relative;}#sk-container-id-1 div.sk-item {position: relative;z-index: 1;}#sk-container-id-1 div.sk-parallel {display: flex;align-items: stretch;justify-content: center;background-color: white;position: relative;}#sk-container-id-1 div.sk-item::before, #sk-container-id-1 div.sk-parallel-item::before {content: \"\";position: absolute;border-left: 1px solid gray;box-sizing: border-box;top: 0;bottom: 0;left: 50%;z-index: -1;}#sk-container-id-1 div.sk-parallel-item {display: flex;flex-direction: column;z-index: 1;position: relative;background-color: white;}#sk-container-id-1 div.sk-parallel-item:first-child::after {align-self: flex-end;width: 50%;}#sk-container-id-1 div.sk-parallel-item:last-child::after {align-self: flex-start;width: 50%;}#sk-container-id-1 div.sk-parallel-item:only-child::after {width: 0;}#sk-container-id-1 div.sk-dashed-wrapped {border: 1px dashed gray;margin: 0 0.4em 0.5em 0.4em;box-sizing: border-box;padding-bottom: 0.4em;background-color: white;}#sk-container-id-1 div.sk-label label {font-family: monospace;font-weight: bold;display: inline-block;line-height: 1.2em;}#sk-container-id-1 div.sk-label-container {text-align: center;}#sk-container-id-1 div.sk-container {/* jupyter's `normalize.less` sets `[hidden] { display: none; }` but bootstrap.min.css set `[hidden] { display: none !important; }` so we also need the `!important` here to be able to override the default hidden behavior on the sphinx rendered scikit-learn.org. See: https://github.com/scikit-learn/scikit-learn/issues/21755 */display: inline-block !important;position: relative;}#sk-container-id-1 div.sk-text-repr-fallback {display: none;}</style><div id=\"sk-container-id-1\" class=\"sk-top-container\"><div class=\"sk-text-repr-fallback\"><pre>LogisticRegression()</pre><b>In a Jupyter environment, please rerun this cell to show the HTML representation or trust the notebook. <br />On GitHub, the HTML representation is unable to render, please try loading this page with nbviewer.org.</b></div><div class=\"sk-container\" hidden><div class=\"sk-item\"><div class=\"sk-estimator sk-toggleable\"><input class=\"sk-toggleable__control sk-hidden--visually\" id=\"sk-estimator-id-1\" type=\"checkbox\" checked><label for=\"sk-estimator-id-1\" class=\"sk-toggleable__label sk-toggleable__label-arrow\">LogisticRegression</label><div class=\"sk-toggleable__content\"><pre>LogisticRegression()</pre></div></div></div></div></div>"
            ],
            "text/plain": [
              "LogisticRegression()"
            ]
          },
          "execution_count": 6,
          "metadata": {},
          "output_type": "execute_result"
        }
      ],
      "source": [
        "model = LogisticRegression()\n",
        "model.fit(X_train, y_train)"
      ]
    },
    {
      "cell_type": "markdown",
      "id": "444f4314-a896-4d95-9f8e-cbf09d0732ab",
      "metadata": {
        "id": "444f4314-a896-4d95-9f8e-cbf09d0732ab"
      },
      "source": [
        "Выведим коэффициенты гиперплоскостей:"
      ]
    },
    {
      "cell_type": "code",
      "execution_count": null,
      "id": "38bedfd0-48d3-4448-890a-1f8ae9a3b743",
      "metadata": {
        "id": "38bedfd0-48d3-4448-890a-1f8ae9a3b743",
        "outputId": "8616937e-b8d5-4dee-a940-2da2fa226bdb"
      },
      "outputs": [
        {
          "data": {
            "text/plain": [
              "array([ 1.2663943 , -1.52982744,  0.26343314])"
            ]
          },
          "execution_count": 7,
          "metadata": {},
          "output_type": "execute_result"
        }
      ],
      "source": [
        "model.intercept_"
      ]
    },
    {
      "cell_type": "code",
      "execution_count": null,
      "id": "ea4147ad-a3c7-44a5-9886-a56b0cea6336",
      "metadata": {
        "id": "ea4147ad-a3c7-44a5-9886-a56b0cea6336",
        "outputId": "7e169905-5ec2-44e5-bfe6-5d1071e7152b"
      },
      "outputs": [
        {
          "data": {
            "text/plain": [
              "array([[-0.09875686, -1.09480091],\n",
              "       [ 1.05541878,  0.9378374 ],\n",
              "       [-0.95666192,  0.1569635 ]])"
            ]
          },
          "execution_count": 8,
          "metadata": {},
          "output_type": "execute_result"
        }
      ],
      "source": [
        "model.coef_"
      ]
    },
    {
      "cell_type": "markdown",
      "id": "86b92b66-3749-4cc1-a47b-d3320070602c",
      "metadata": {
        "id": "86b92b66-3749-4cc1-a47b-d3320070602c"
      },
      "source": [
        "Визуализируем области разделения на классы для тестовых данных:"
      ]
    },
    {
      "cell_type": "code",
      "execution_count": null,
      "id": "ad8f0953-abd1-4dac-aee8-6bc8e05b657c",
      "metadata": {
        "id": "ad8f0953-abd1-4dac-aee8-6bc8e05b657c",
        "outputId": "4f31391c-cb92-4770-c826-5be8e089c268"
      },
      "outputs": [
        {
          "data": {
            "image/png": "[encoded data removed]",
            "text/plain": [
              "<Figure size 640x480 with 1 Axes>"
            ]
          },
          "metadata": {},
          "output_type": "display_data"
        }
      ],
      "source": [
        "X0 = np.linspace(X_test[:, 0].min()-1,X_test[:, 0].max()+1, X_test.shape[0])\n",
        "X1 = np.linspace(X_test[:, 1].min()-1,X_test[:, 1].max()+1, X_test.shape[0])\n",
        "X0_grid, X1_grid = np.meshgrid(X0, X1)\n",
        "Z_grid = model.predict(np.array([X0_grid.ravel(), X1_grid.ravel()]).T).reshape(X0_grid.shape)\n",
        "\n",
        "plt.scatter(X_test[:, 0], X_test[:, 1],  c=y_test, cmap='autumn', alpha = 0.5)\n",
        "plt.contourf(X0_grid, X1_grid, Z_grid, cmap='autumn', alpha=0.2)\n",
        "#plt.pcolormesh(X0_grid, X1_grid, Z_grid, cmap='autumn', alpha=0.2)\n",
        "plt.xlabel('X1')\n",
        "plt.ylabel('X2')\n",
        "plt.title(\"Диаграмма рассеивания с областями классификации для тестовых данных\")\n",
        "plt.show()"
      ]
    },
    {
      "cell_type": "markdown",
      "id": "09346c89-9ebd-4343-91d4-7e0c38779f62",
      "metadata": {
        "id": "09346c89-9ebd-4343-91d4-7e0c38779f62"
      },
      "source": [
        "Сделаем прогноз на тестовой выборке:"
      ]
    },
    {
      "cell_type": "code",
      "execution_count": null,
      "id": "daa16aa1-756a-4a1a-a0c2-f1ce954ffc8e",
      "metadata": {
        "id": "daa16aa1-756a-4a1a-a0c2-f1ce954ffc8e"
      },
      "outputs": [],
      "source": [
        "y_test_pred = model.predict(X_test)"
      ]
    },
    {
      "cell_type": "markdown",
      "id": "3a022a52-151f-4f5d-aa6c-6a28dd3e0d25",
      "metadata": {
        "id": "3a022a52-151f-4f5d-aa6c-6a28dd3e0d25"
      },
      "source": [
        "Вычислим метрики качества:"
      ]
    },
    {
      "cell_type": "code",
      "execution_count": null,
      "id": "97bd58f0-b46b-4462-8b3a-2fe1e88f3ef1",
      "metadata": {
        "id": "97bd58f0-b46b-4462-8b3a-2fe1e88f3ef1",
        "outputId": "ad113ac0-cf2c-42d0-ba89-67982e822e77"
      },
      "outputs": [
        {
          "data": {
            "image/png": "[encoded data removed]",
            "text/plain": [
              "<Figure size 500x400 with 2 Axes>"
            ]
          },
          "metadata": {},
          "output_type": "display_data"
        }
      ],
      "source": [
        "plt.figure(figsize = (5,4))\n",
        "plt.title(\"Матрица ошибок\")\n",
        "sns.heatmap(confusion_matrix(y_test, y_test_pred), annot=True, fmt ='d')\n",
        "plt.xlabel('Предсказанные значения')\n",
        "plt.ylabel('Действительные значения')\n",
        "plt.show()"
      ]
    },
    {
      "cell_type": "markdown",
      "id": "fd325a78-17dd-483b-bb0f-3110ac54e4e8",
      "metadata": {
        "id": "fd325a78-17dd-483b-bb0f-3110ac54e4e8"
      },
      "source": [
        "Метрика accuracy:"
      ]
    },
    {
      "cell_type": "code",
      "execution_count": null,
      "id": "ad5456cb-c1e4-43fb-acc7-3250df7a7099",
      "metadata": {
        "id": "ad5456cb-c1e4-43fb-acc7-3250df7a7099",
        "outputId": "0156968d-a8be-4219-c332-2a149b52f20c"
      },
      "outputs": [
        {
          "data": {
            "text/plain": [
              "0.99"
            ]
          },
          "execution_count": 12,
          "metadata": {},
          "output_type": "execute_result"
        }
      ],
      "source": [
        "accuracy_score(y_test, y_test_pred)"
      ]
    },
    {
      "cell_type": "markdown",
      "id": "bd833960-66ee-44b3-8293-9182690855a8",
      "metadata": {
        "id": "bd833960-66ee-44b3-8293-9182690855a8"
      },
      "source": [
        "Метрика $F_1$ - мера, которая вычисляется с указанием способа усреднения:"
      ]
    },
    {
      "cell_type": "code",
      "execution_count": null,
      "id": "0210d191-c750-42fb-8cea-53335909e88c",
      "metadata": {
        "id": "0210d191-c750-42fb-8cea-53335909e88c",
        "outputId": "0e62ea88-c09e-4636-a522-75151750524a"
      },
      "outputs": [
        {
          "data": {
            "text/plain": [
              "0.9901095866478434"
            ]
          },
          "execution_count": 13,
          "metadata": {},
          "output_type": "execute_result"
        }
      ],
      "source": [
        "f1_score(y_test, y_test_pred, average='macro')"
      ]
    },
    {
      "cell_type": "markdown",
      "id": "9aa57c2c-ff5f-4309-9cd3-1bf834b9644a",
      "metadata": {
        "id": "9aa57c2c-ff5f-4309-9cd3-1bf834b9644a"
      },
      "source": [
        "Выведем отчёт о классификации и сделаем вывод о качестве модели:"
      ]
    },
    {
      "cell_type": "code",
      "execution_count": null,
      "id": "569df0e1-a487-42c7-858c-85540900889d",
      "metadata": {
        "id": "569df0e1-a487-42c7-858c-85540900889d",
        "outputId": "5ceec2e7-638f-4cd0-9cc3-d0ac2a40a6ae"
      },
      "outputs": [
        {
          "name": "stdout",
          "output_type": "stream",
          "text": [
            "              precision    recall  f1-score   support\n",
            "\n",
            "           0       0.98      1.00      0.99        65\n",
            "           1       1.00      0.98      0.99        65\n",
            "           2       0.99      0.99      0.99        70\n",
            "\n",
            "    accuracy                           0.99       200\n",
            "   macro avg       0.99      0.99      0.99       200\n",
            "weighted avg       0.99      0.99      0.99       200\n",
            "\n"
          ]
        }
      ],
      "source": [
        "print(classification_report(y_test, y_test_pred))"
      ]
    },
    {
      "cell_type": "markdown",
      "id": "9a12a433-b490-446a-90dc-f1ee8b317df6",
      "metadata": {
        "id": "9a12a433-b490-446a-90dc-f1ee8b317df6"
      },
      "source": [
        "Модель классифицирует данные с высокой точностью, которая составляет 99%."
      ]
    },
    {
      "cell_type": "markdown",
      "id": "40c3fc67-5b0c-46a3-8f99-0fb11f4aa4ce",
      "metadata": {
        "id": "40c3fc67-5b0c-46a3-8f99-0fb11f4aa4ce"
      },
      "source": [
        "## Задания для самостоятельного выполнения:"
      ]
    },
    {
      "cell_type": "markdown",
      "id": "6c2aace2-ee6f-491c-b93c-33b3d44ede6a",
      "metadata": {
        "id": "6c2aace2-ee6f-491c-b93c-33b3d44ede6a"
      },
      "source": [
        "### 1. Загрузите встроенный датасет _iris_. Выведите его описание. Возьмите в качестве _X_ только второй и четвёртый столбцы признаков, а целевую переменную обозначьте за _y_. Выведите признаки вместе с целевой переменной в виде датафрейма с соответствующими названиями колонок. Выведите размеры полученного датафрейма, убедитесь, что в данных нет пропущенных значений. Убедитесь, что целевая переменная содержит три значения и определите сколько объектов в каждом классе.\n",
        "Указание: Для загрузки датасета напишите iris = load_iris(). Для определения количества объектов в каждом классе используйте метод _.value_counts()_ библиотеки _pandas_."
      ]
    },
    {
      "cell_type": "code",
      "execution_count": null,
      "id": "13d82587",
      "metadata": {
        "id": "13d82587",
        "outputId": "7fa0a95a-01e8-476c-fe92-66456eecfc8e"
      },
      "outputs": [
        {
          "data": {
            "text/html": [
              "<div>\n",
              "<style scoped>\n",
              "    .dataframe tbody tr th:only-of-type {\n",
              "        vertical-align: middle;\n",
              "    }\n",
              "\n",
              "    .dataframe tbody tr th {\n",
              "        vertical-align: top;\n",
              "    }\n",
              "\n",
              "    .dataframe thead th {\n",
              "        text-align: right;\n",
              "    }\n",
              "</style>\n",
              "<table border=\"1\" class=\"dataframe\">\n",
              "  <thead>\n",
              "    <tr style=\"text-align: right;\">\n",
              "      <th></th>\n",
              "      <th>sepal_width</th>\n",
              "      <th>petal_width</th>\n",
              "      <th>target</th>\n",
              "    </tr>\n",
              "  </thead>\n",
              "  <tbody>\n",
              "    <tr>\n",
              "      <th>count</th>\n",
              "      <td>150.000000</td>\n",
              "      <td>150.000000</td>\n",
              "      <td>150.000000</td>\n",
              "    </tr>\n",
              "    <tr>\n",
              "      <th>mean</th>\n",
              "      <td>3.057333</td>\n",
              "      <td>1.199333</td>\n",
              "      <td>1.000000</td>\n",
              "    </tr>\n",
              "    <tr>\n",
              "      <th>std</th>\n",
              "      <td>0.435866</td>\n",
              "      <td>0.762238</td>\n",
              "      <td>0.819232</td>\n",
              "    </tr>\n",
              "    <tr>\n",
              "      <th>min</th>\n",
              "      <td>2.000000</td>\n",
              "      <td>0.100000</td>\n",
              "      <td>0.000000</td>\n",
              "    </tr>\n",
              "    <tr>\n",
              "      <th>25%</th>\n",
              "      <td>2.800000</td>\n",
              "      <td>0.300000</td>\n",
              "      <td>0.000000</td>\n",
              "    </tr>\n",
              "    <tr>\n",
              "      <th>50%</th>\n",
              "      <td>3.000000</td>\n",
              "      <td>1.300000</td>\n",
              "      <td>1.000000</td>\n",
              "    </tr>\n",
              "    <tr>\n",
              "      <th>75%</th>\n",
              "      <td>3.300000</td>\n",
              "      <td>1.800000</td>\n",
              "      <td>2.000000</td>\n",
              "    </tr>\n",
              "    <tr>\n",
              "      <th>max</th>\n",
              "      <td>4.400000</td>\n",
              "      <td>2.500000</td>\n",
              "      <td>2.000000</td>\n",
              "    </tr>\n",
              "  </tbody>\n",
              "</table>\n",
              "</div>"
            ],
            "text/plain": [
              "       sepal_width  petal_width      target\n",
              "count   150.000000   150.000000  150.000000\n",
              "mean      3.057333     1.199333    1.000000\n",
              "std       0.435866     0.762238    0.819232\n",
              "min       2.000000     0.100000    0.000000\n",
              "25%       2.800000     0.300000    0.000000\n",
              "50%       3.000000     1.300000    1.000000\n",
              "75%       3.300000     1.800000    2.000000\n",
              "max       4.400000     2.500000    2.000000"
            ]
          },
          "execution_count": 15,
          "metadata": {},
          "output_type": "execute_result"
        }
      ],
      "source": [
        "iris = load_iris()\n",
        "\n",
        "X = iris.data[:, [1, 3]]\n",
        "y = iris.target\n",
        "df = pd.DataFrame(X, columns=['sepal_width', 'petal_width'])\n",
        "df['target'] = y\n",
        "df.describe()"
      ]
    },
    {
      "cell_type": "code",
      "execution_count": null,
      "id": "d1c98783",
      "metadata": {
        "id": "d1c98783",
        "outputId": "6cddfb00-bf5d-484d-f440-007da927d145"
      },
      "outputs": [
        {
          "data": {
            "text/plain": [
              "(150, 3)"
            ]
          },
          "execution_count": 16,
          "metadata": {},
          "output_type": "execute_result"
        }
      ],
      "source": [
        "df.shape"
      ]
    },
    {
      "cell_type": "code",
      "execution_count": null,
      "id": "3b3ab7cb",
      "metadata": {
        "id": "3b3ab7cb",
        "outputId": "0c0821bb-7983-41b3-8091-657ca0dfe4c0"
      },
      "outputs": [
        {
          "data": {
            "text/plain": [
              "0"
            ]
          },
          "execution_count": 17,
          "metadata": {},
          "output_type": "execute_result"
        }
      ],
      "source": [
        "df.isnull().sum().sum()"
      ]
    },
    {
      "cell_type": "code",
      "execution_count": null,
      "id": "151179a0",
      "metadata": {
        "id": "151179a0",
        "outputId": "b75b990b-5ce4-40bd-a483-3c0db7222791"
      },
      "outputs": [
        {
          "data": {
            "text/plain": [
              "array([0, 1, 2])"
            ]
          },
          "execution_count": 18,
          "metadata": {},
          "output_type": "execute_result"
        }
      ],
      "source": [
        "df['target'].unique()"
      ]
    },
    {
      "cell_type": "code",
      "execution_count": null,
      "id": "3a3c60f0",
      "metadata": {
        "id": "3a3c60f0",
        "outputId": "03179ffa-3af7-4aa0-879d-1e52c600d1dc"
      },
      "outputs": [
        {
          "data": {
            "text/plain": [
              "target\n",
              "0    50\n",
              "1    50\n",
              "2    50\n",
              "Name: count, dtype: int64"
            ]
          },
          "execution_count": 19,
          "metadata": {},
          "output_type": "execute_result"
        }
      ],
      "source": [
        "class_counts = df['target'].value_counts()\n",
        "class_counts"
      ]
    },
    {
      "cell_type": "markdown",
      "id": "0e0b3157",
      "metadata": {
        "id": "0e0b3157"
      },
      "source": [
        "### 2. Визуализируйте данные на диаграмме рассеяния, подкрасив классы разными цветами. Подпишите классы."
      ]
    },
    {
      "cell_type": "code",
      "execution_count": null,
      "id": "9a9766ca-a6cd-4bf0-a4e2-8b308d3cf328",
      "metadata": {
        "id": "9a9766ca-a6cd-4bf0-a4e2-8b308d3cf328",
        "outputId": "febb8619-2d02-47b8-d4c8-5117d18710b5"
      },
      "outputs": [
        {
          "data": {
            "image/png": "[encoded data removed]",
            "text/plain": [
              "<Figure size 400x300 with 1 Axes>"
            ]
          },
          "metadata": {},
          "output_type": "display_data"
        }
      ],
      "source": [
        "plt.figure(figsize = (4,3))\n",
        "plt.scatter(X[:, 0][y==0], X[:, 1][y==0],  c='yellow', label ='Class 0', alpha = 0.4)\n",
        "plt.scatter(X[:, 0][y==1], X[:, 1][y==1],  c='orange', label ='Class 1', alpha = 0.4)\n",
        "plt.scatter(X[:, 0][y==2], X[:, 1][y==2],  c='red', label ='Class 2', alpha = 0.4)\n",
        "\n",
        "plt.xlabel('X1')\n",
        "plt.ylabel('X2')\n",
        "plt.title(\"Визуализация классов\")\n",
        "plt.show()"
      ]
    },
    {
      "cell_type": "markdown",
      "id": "3a9abc48-cbc5-423c-ae76-960608f2f227",
      "metadata": {
        "id": "3a9abc48-cbc5-423c-ae76-960608f2f227"
      },
      "source": [
        "### 3. Разделите данные на обучающую и тестовую части в соотношении 3:1, зафиксировав random_state=1. Выведите получившиеся размеры обучающей и тестовой выборок. Визуализируйте тестовые данные на диаграмме рассеивания."
      ]
    },
    {
      "cell_type": "code",
      "execution_count": null,
      "id": "0617eaa0",
      "metadata": {
        "id": "0617eaa0"
      },
      "outputs": [],
      "source": [
        "X_train, X_test, y_train, y_test = train_test_split(X, y, test_size=0.25, random_state=1)"
      ]
    },
    {
      "cell_type": "code",
      "execution_count": null,
      "id": "6c725036",
      "metadata": {
        "id": "6c725036",
        "outputId": "58535c28-4649-4ca1-de41-1fa070854d46"
      },
      "outputs": [
        {
          "data": {
            "text/plain": [
              "112"
            ]
          },
          "execution_count": 22,
          "metadata": {},
          "output_type": "execute_result"
        }
      ],
      "source": [
        "X_train.shape[0]"
      ]
    },
    {
      "cell_type": "code",
      "execution_count": null,
      "id": "eda10cb8",
      "metadata": {
        "id": "eda10cb8",
        "outputId": "8c5b6ec4-06f1-48a0-eaeb-74254967f76b"
      },
      "outputs": [
        {
          "data": {
            "text/plain": [
              "38"
            ]
          },
          "execution_count": 23,
          "metadata": {},
          "output_type": "execute_result"
        }
      ],
      "source": [
        "X_test.shape[0]"
      ]
    },
    {
      "cell_type": "code",
      "execution_count": null,
      "id": "135c225b",
      "metadata": {
        "id": "135c225b",
        "outputId": "963e7f71-93e4-4708-9295-11b5c5bbe3ce"
      },
      "outputs": [
        {
          "data": {
            "image/png": "[encoded data removed]",
            "text/plain": [
              "<Figure size 400x300 with 1 Axes>"
            ]
          },
          "metadata": {},
          "output_type": "display_data"
        }
      ],
      "source": [
        "plt.figure(figsize = (4,3))\n",
        "plt.scatter(X_test[:, 0][y_test==0], X_test[:, 1][y_test==0],  c='yellow', label ='Class 0', alpha = 0.4)\n",
        "plt.scatter(X_test[:, 0][y_test==1], X_test[:, 1][y_test==1],  c='orange', label ='Class 1', alpha = 0.4)\n",
        "plt.scatter(X_test[:, 0][y_test==2], X_test[:, 1][y_test==2],  c='red', label ='Class 2', alpha = 0.4)\n",
        "\n",
        "plt.xlabel('X1')\n",
        "plt.ylabel('X2')\n",
        "plt.title(\"Визуализация тестовой классов\")\n",
        "plt.show()"
      ]
    },
    {
      "cell_type": "markdown",
      "id": "537b8765",
      "metadata": {
        "id": "537b8765"
      },
      "source": [
        "### 4. Реализуйте модель логистической регрессии LogisticRegression из _sklearn_ на этих данных. Выведите коэффициенты, полученных гиперплоскостей."
      ]
    },
    {
      "cell_type": "code",
      "execution_count": null,
      "id": "54dfae07-3855-4532-a9c6-11d4141a0a2d",
      "metadata": {
        "id": "54dfae07-3855-4532-a9c6-11d4141a0a2d",
        "outputId": "9773adba-8764-4f73-8b41-ea918e57784b"
      },
      "outputs": [
        {
          "data": {
            "text/plain": [
              "array([[ 1.21001631, -3.37160448],\n",
              "       [-0.78183056, -0.14648183],\n",
              "       [-0.42818574,  3.51808632]])"
            ]
          },
          "execution_count": 25,
          "metadata": {},
          "output_type": "execute_result"
        }
      ],
      "source": [
        "model = LogisticRegression()\n",
        "model.fit(X_train, y_train)\n",
        "model.coef_"
      ]
    },
    {
      "cell_type": "code",
      "execution_count": null,
      "id": "a8f77fd8",
      "metadata": {
        "id": "a8f77fd8",
        "outputId": "fbca5628-a6fd-47e3-8a60-965616e51a91"
      },
      "outputs": [
        {
          "data": {
            "text/plain": [
              "array([ 0.01622149,  3.3934137 , -3.40963519])"
            ]
          },
          "execution_count": 26,
          "metadata": {},
          "output_type": "execute_result"
        }
      ],
      "source": [
        "model.intercept_"
      ]
    },
    {
      "cell_type": "markdown",
      "id": "6a7190e2-696d-4e09-a8d6-8d667a719b57",
      "metadata": {
        "id": "6a7190e2-696d-4e09-a8d6-8d667a719b57"
      },
      "source": [
        "### 5. Напечатайте уравнения прямых разделения на классы, полученных в результате применения модели логистической регрессии к рассматриваемым данным.\n",
        "Указание: Используйте print. Уравнения прямых должны иметь вид $w_{01} + w_{11} x_1  + w_{21} x_2 = 0$, $w_{02} + w_{12} x_1  + w_{22} x_2 = 0$, $w_{03} + w_{13} x_1  + w_{23} x_2 = 0$. Выводите коэффициенты с точностью два знака после запятой. Учтите то, что эти коэффициенты могут быть и отрицательными."
      ]
    },
    {
      "cell_type": "code",
      "execution_count": null,
      "id": "3fc27b41-21a1-4499-a413-ae1b8a9c0de4",
      "metadata": {
        "id": "3fc27b41-21a1-4499-a413-ae1b8a9c0de4",
        "outputId": "e365e854-8546-41a8-8b7b-eaafa99a821c"
      },
      "outputs": [
        {
          "name": "stdout",
          "output_type": "stream",
          "text": [
            "0: -0.02 +1.21*x1 -3.37*x2 = 0\n",
            "1: -3.39 -0.78*x1 -0.15*x2 = 0\n",
            "2: +3.41 -0.43*x1 +3.52*x2 = 0\n"
          ]
        }
      ],
      "source": [
        "coefficients = model.coef_\n",
        "intercepts = model.intercept_\n",
        "\n",
        "for i in range(len(coefficients)):\n",
        "    w0 = -intercepts[i]\n",
        "    w1 = coefficients[i][0]\n",
        "    w2 = coefficients[i][1]\n",
        "    if w0 >= 0:\n",
        "        w0 = \"+\"+str(round(w0, 2))\n",
        "    else:\n",
        "        w0 = str(round(w0, 2))\n",
        "    if w1 >= 0:\n",
        "        w1 = \"+\"+str(round(w1, 2))\n",
        "    else:\n",
        "        w1 = str(round(w1, 2))\n",
        "    if w2 >= 0:\n",
        "        w2 = \"+\"+str(round(w2, 2))\n",
        "    else:\n",
        "        w2 = str(round(w2, 2))\n",
        "\n",
        "\n",
        "\n",
        "    print(f'{i}: {w0} {w1}*x1 {w2}*x2 = 0')"
      ]
    },
    {
      "cell_type": "markdown",
      "id": "55820000",
      "metadata": {
        "id": "55820000"
      },
      "source": [
        "### 6. Визуализируйте области разделения на классы для тестовых данных."
      ]
    },
    {
      "cell_type": "code",
      "execution_count": null,
      "id": "f8ff90c6-4de0-4061-a344-0df5b5a3856c",
      "metadata": {
        "id": "f8ff90c6-4de0-4061-a344-0df5b5a3856c",
        "outputId": "068557cb-ebd3-4ca2-e10b-6a9afeab4832"
      },
      "outputs": [
        {
          "data": {
            "image/png": "[encoded data removed]",
            "text/plain": [
              "<Figure size 640x480 with 1 Axes>"
            ]
          },
          "metadata": {},
          "output_type": "display_data"
        }
      ],
      "source": [
        "model = LogisticRegression()\n",
        "model.fit(X_train, y_train)\n",
        "\n",
        "X0 = np.linspace(X_test[:, 0].min()-1,X_test[:, 0].max()+1, X_test.shape[0])\n",
        "X1 = np.linspace(X_test[:, 1].min()-1,X_test[:, 1].max()+1, X_test.shape[0])\n",
        "X0_grid, X1_grid = np.meshgrid(X0, X1)\n",
        "Z_grid = model.predict(np.array([X0_grid.ravel(), X1_grid.ravel()]).T).reshape(X0_grid.shape)\n",
        "\n",
        "plt.scatter(X_test[:, 0], X_test[:, 1],  c=y_test, cmap='autumn', alpha = 0.5)\n",
        "plt.contourf(X0_grid, X1_grid, Z_grid, cmap='autumn', alpha=0.2)\n",
        "#plt.pcolormesh(X0_grid, X1_grid, Z_grid, cmap='autumn', alpha=0.2)\n",
        "plt.xlabel('X1')\n",
        "plt.ylabel('X2')\n",
        "plt.title(\"Диаграмма рассеивания с областями классификации для тестовых данных\")\n",
        "plt.show()"
      ]
    },
    {
      "cell_type": "markdown",
      "id": "14ec3887-59f3-49ae-b5ee-3a37ac408583",
      "metadata": {
        "id": "14ec3887-59f3-49ae-b5ee-3a37ac408583"
      },
      "source": [
        "### 7. Сделайте предсказание на тестовых данных и выведите матрицу ошибок классификации. Найдите общее количество сделанных ошибок."
      ]
    },
    {
      "cell_type": "code",
      "execution_count": null,
      "id": "ef42dd84-4f68-4763-a07a-8922337295e2",
      "metadata": {
        "id": "ef42dd84-4f68-4763-a07a-8922337295e2",
        "outputId": "fb38175b-16b3-4c70-c07a-083c6efdeed4"
      },
      "outputs": [
        {
          "data": {
            "text/plain": [
              "array([[13,  0,  0],\n",
              "       [ 0, 14,  2],\n",
              "       [ 0,  0,  9]], dtype=int64)"
            ]
          },
          "execution_count": 29,
          "metadata": {},
          "output_type": "execute_result"
        }
      ],
      "source": [
        "y_pred = model.predict(X_test)\n",
        "conf_matrix = confusion_matrix(y_test, y_pred)\n",
        "conf_matrix"
      ]
    },
    {
      "cell_type": "code",
      "execution_count": null,
      "id": "bfbd0df4",
      "metadata": {
        "id": "bfbd0df4",
        "outputId": "f909774f-e532-45e3-9217-98d10ff388a9"
      },
      "outputs": [
        {
          "data": {
            "image/png": "[encoded data removed]",
            "text/plain": [
              "<Figure size 500x400 with 2 Axes>"
            ]
          },
          "metadata": {},
          "output_type": "display_data"
        }
      ],
      "source": [
        "plt.figure(figsize = (5,4))\n",
        "plt.title(\"Матрица ошибок\")\n",
        "sns.heatmap(conf_matrix, annot=True, fmt ='d')\n",
        "plt.xlabel('Предсказанные значения')\n",
        "plt.ylabel('Действительные значения')\n",
        "plt.show()"
      ]
    },
    {
      "cell_type": "code",
      "execution_count": null,
      "id": "65108ed4",
      "metadata": {
        "id": "65108ed4",
        "outputId": "2a7f1724-bb92-4e87-d6af-c2b5e6fd724b"
      },
      "outputs": [
        {
          "data": {
            "text/plain": [
              "2"
            ]
          },
          "execution_count": 31,
          "metadata": {},
          "output_type": "execute_result"
        }
      ],
      "source": [
        "np.sum(y_test != y_pred)"
      ]
    },
    {
      "cell_type": "markdown",
      "id": "98f40809-8723-4c78-ad9a-996f3a4ce99d",
      "metadata": {
        "id": "98f40809-8723-4c78-ad9a-996f3a4ce99d"
      },
      "source": [
        "### 8. Вычислите метрики качества построенной модели: accuracy, precision, recall и f1.\n",
        "Указание: Для многоклассовой классификации эти метрики нужно брать усреднёнными, указав способ усреднения: average='macro' или 'weighted'."
      ]
    },
    {
      "cell_type": "code",
      "execution_count": null,
      "id": "0d275a1b-f046-44d7-9be8-92015bd0f189",
      "metadata": {
        "id": "0d275a1b-f046-44d7-9be8-92015bd0f189",
        "outputId": "620e022a-1b6d-467f-a3cd-bac526a6fd66"
      },
      "outputs": [
        {
          "data": {
            "text/plain": [
              "0.9473684210526315"
            ]
          },
          "execution_count": 32,
          "metadata": {},
          "output_type": "execute_result"
        }
      ],
      "source": [
        "accuracy_score(y_test, y_pred)"
      ]
    },
    {
      "cell_type": "code",
      "execution_count": null,
      "id": "00327c7e",
      "metadata": {
        "id": "00327c7e",
        "outputId": "2b141f90-3a55-45a0-fdec-7ff7c2f7b899"
      },
      "outputs": [
        {
          "data": {
            "text/plain": [
              "0.9393939393939394"
            ]
          },
          "execution_count": 33,
          "metadata": {},
          "output_type": "execute_result"
        }
      ],
      "source": [
        "precision_score(y_test, y_pred, average='macro')"
      ]
    },
    {
      "cell_type": "code",
      "execution_count": null,
      "id": "423ebe40",
      "metadata": {
        "id": "423ebe40",
        "outputId": "f5f3a5d8-7d99-417d-99d0-9ea509108309"
      },
      "outputs": [
        {
          "data": {
            "text/plain": [
              "0.9583333333333334"
            ]
          },
          "execution_count": 34,
          "metadata": {},
          "output_type": "execute_result"
        }
      ],
      "source": [
        "recall_score(y_test, y_pred, average='macro')"
      ]
    },
    {
      "cell_type": "code",
      "execution_count": null,
      "id": "09680dc9",
      "metadata": {
        "id": "09680dc9",
        "outputId": "016fcda4-1b57-4e11-8f71-78c1303d6f47"
      },
      "outputs": [
        {
          "data": {
            "text/plain": [
              "0.9444444444444445"
            ]
          },
          "execution_count": 35,
          "metadata": {},
          "output_type": "execute_result"
        }
      ],
      "source": [
        "f1_score(y_test, y_pred, average='macro')"
      ]
    },
    {
      "cell_type": "code",
      "execution_count": null,
      "id": "da4f320a",
      "metadata": {
        "id": "da4f320a",
        "outputId": "0bc3612c-975d-40bf-d90a-2a8d8e8ffce8"
      },
      "outputs": [
        {
          "data": {
            "text/plain": [
              "0.9482456140350877"
            ]
          },
          "execution_count": 36,
          "metadata": {},
          "output_type": "execute_result"
        }
      ],
      "source": [
        "f1_score(y_test, y_pred, average='weighted')"
      ]
    },
    {
      "cell_type": "markdown",
      "id": "845b91ac-c3bb-4c9b-819c-cbbf4306c61f",
      "metadata": {
        "id": "845b91ac-c3bb-4c9b-819c-cbbf4306c61f"
      },
      "source": [
        "### 9. Выведите отчёт о классификации. Сделайте вывод о качестве модели."
      ]
    },
    {
      "cell_type": "code",
      "execution_count": null,
      "id": "2bef0d64-6f29-4724-aab0-7e6127eb6e22",
      "metadata": {
        "id": "2bef0d64-6f29-4724-aab0-7e6127eb6e22",
        "outputId": "42f702c3-74ec-4526-c258-5056d5270754"
      },
      "outputs": [
        {
          "name": "stdout",
          "output_type": "stream",
          "text": [
            "              precision    recall  f1-score   support\n",
            "\n",
            "           0       1.00      1.00      1.00        13\n",
            "           1       1.00      0.88      0.93        16\n",
            "           2       0.82      1.00      0.90         9\n",
            "\n",
            "    accuracy                           0.95        38\n",
            "   macro avg       0.94      0.96      0.94        38\n",
            "weighted avg       0.96      0.95      0.95        38\n",
            "\n"
          ]
        }
      ],
      "source": [
        "print(classification_report(y_test, y_pred))"
      ]
    },
    {
      "cell_type": "markdown",
      "id": "5a95218c",
      "metadata": {
        "id": "5a95218c"
      },
      "source": [
        "### 10. Из обучающих данных X_train, получите полиномиальные данные 2 степени. Запишите, полученные полиномиальные обучающие данные в датафрейм с названиями колонок $x_1$, $x_2$, ${x_1}^2$, $x_1 x_2$ и ${x_2}^2$. Из тестовых данных X_test, получите полиномиальные тестовые данные аналогичным образом."
      ]
    },
    {
      "cell_type": "code",
      "execution_count": null,
      "id": "c69f6896-1c7b-4fe1-8078-2ca83f5b6656",
      "metadata": {
        "id": "c69f6896-1c7b-4fe1-8078-2ca83f5b6656"
      },
      "outputs": [],
      "source": [
        "poly = PolynomialFeatures(degree=2, include_bias = False)"
      ]
    },
    {
      "cell_type": "code",
      "execution_count": null,
      "id": "1b2bdc2f",
      "metadata": {
        "id": "1b2bdc2f",
        "outputId": "3b13cee4-0b0d-4e8a-f3bc-1f3722843c83"
      },
      "outputs": [
        {
          "data": {
            "text/plain": [
              "array([[2.800e+00, 1.500e+00, 7.840e+00, 4.200e+00, 2.250e+00],\n",
              "       [2.500e+00, 1.800e+00, 6.250e+00, 4.500e+00, 3.240e+00],\n",
              "       [3.000e+00, 2.100e+00, 9.000e+00, 6.300e+00, 4.410e+00],\n",
              "       [3.500e+00, 3.000e-01, 1.225e+01, 1.050e+00, 9.000e-02],\n",
              "       [2.200e+00, 1.500e+00, 4.840e+00, 3.300e+00, 2.250e+00],\n",
              "       [2.900e+00, 1.800e+00, 8.410e+00, 5.220e+00, 3.240e+00],\n",
              "       [2.900e+00, 1.300e+00, 8.410e+00, 3.770e+00, 1.690e+00],\n",
              "       [2.600e+00, 2.300e+00, 6.760e+00, 5.980e+00, 5.290e+00],\n",
              "       [3.800e+00, 3.000e-01, 1.444e+01, 1.140e+00, 9.000e-02],\n",
              "       [3.600e+00, 2.000e-01, 1.296e+01, 7.200e-01, 4.000e-02],\n",
              "       [3.000e+00, 3.000e-01, 9.000e+00, 9.000e-01, 9.000e-02],\n",
              "       [2.700e+00, 1.400e+00, 7.290e+00, 3.780e+00, 1.960e+00],\n",
              "       [3.400e+00, 2.000e-01, 1.156e+01, 6.800e-01, 4.000e-02],\n",
              "       [3.500e+00, 2.000e-01, 1.225e+01, 7.000e-01, 4.000e-02],\n",
              "       [3.800e+00, 2.200e+00, 1.444e+01, 8.360e+00, 4.840e+00],\n",
              "       [3.100e+00, 2.100e+00, 9.610e+00, 6.510e+00, 4.410e+00],\n",
              "       [2.900e+00, 1.800e+00, 8.410e+00, 5.220e+00, 3.240e+00],\n",
              "       [2.800e+00, 2.200e+00, 7.840e+00, 6.160e+00, 4.840e+00],\n",
              "       [2.800e+00, 1.800e+00, 7.840e+00, 5.040e+00, 3.240e+00],\n",
              "       [3.400e+00, 1.600e+00, 1.156e+01, 5.440e+00, 2.560e+00],\n",
              "       [2.800e+00, 2.000e+00, 7.840e+00, 5.600e+00, 4.000e+00],\n",
              "       [3.000e+00, 1.200e+00, 9.000e+00, 3.600e+00, 1.440e+00],\n",
              "       [3.400e+00, 2.000e-01, 1.156e+01, 6.800e-01, 4.000e-02],\n",
              "       [2.500e+00, 2.000e+00, 6.250e+00, 5.000e+00, 4.000e+00],\n",
              "       [2.700e+00, 1.800e+00, 7.290e+00, 4.860e+00, 3.240e+00],\n",
              "       [3.000e+00, 1.000e-01, 9.000e+00, 3.000e-01, 1.000e-02],\n",
              "       [3.200e+00, 2.000e-01, 1.024e+01, 6.400e-01, 4.000e-02],\n",
              "       [3.000e+00, 2.200e+00, 9.000e+00, 6.600e+00, 4.840e+00],\n",
              "       [3.400e+00, 3.000e-01, 1.156e+01, 1.020e+00, 9.000e-02],\n",
              "       [3.000e+00, 1.800e+00, 9.000e+00, 5.400e+00, 3.240e+00],\n",
              "       [3.200e+00, 2.000e+00, 1.024e+01, 6.400e+00, 4.000e+00],\n",
              "       [3.100e+00, 1.400e+00, 9.610e+00, 4.340e+00, 1.960e+00],\n",
              "       [2.800e+00, 1.300e+00, 7.840e+00, 3.640e+00, 1.690e+00],\n",
              "       [3.300e+00, 2.500e+00, 1.089e+01, 8.250e+00, 6.250e+00],\n",
              "       [3.000e+00, 1.800e+00, 9.000e+00, 5.400e+00, 3.240e+00],\n",
              "       [3.800e+00, 2.000e-01, 1.444e+01, 7.600e-01, 4.000e-02],\n",
              "       [2.200e+00, 1.000e+00, 4.840e+00, 2.200e+00, 1.000e+00],\n",
              "       [2.900e+00, 1.300e+00, 8.410e+00, 3.770e+00, 1.690e+00],\n",
              "       [3.000e+00, 1.800e+00, 9.000e+00, 5.400e+00, 3.240e+00],\n",
              "       [2.300e+00, 1.000e+00, 5.290e+00, 2.300e+00, 1.000e+00],\n",
              "       [3.300e+00, 2.500e+00, 1.089e+01, 8.250e+00, 6.250e+00],\n",
              "       [2.500e+00, 1.300e+00, 6.250e+00, 3.250e+00, 1.690e+00],\n",
              "       [3.700e+00, 2.000e-01, 1.369e+01, 7.400e-01, 4.000e-02],\n",
              "       [3.100e+00, 2.000e-01, 9.610e+00, 6.200e-01, 4.000e-02],\n",
              "       [4.100e+00, 1.000e-01, 1.681e+01, 4.100e-01, 1.000e-02],\n",
              "       [3.300e+00, 2.100e+00, 1.089e+01, 6.930e+00, 4.410e+00],\n",
              "       [3.000e+00, 2.000e-01, 9.000e+00, 6.000e-01, 4.000e-02],\n",
              "       [2.700e+00, 1.600e+00, 7.290e+00, 4.320e+00, 2.560e+00],\n",
              "       [2.700e+00, 1.900e+00, 7.290e+00, 5.130e+00, 3.610e+00],\n",
              "       [3.000e+00, 1.800e+00, 9.000e+00, 5.400e+00, 3.240e+00],\n",
              "       [3.500e+00, 2.000e-01, 1.225e+01, 7.000e-01, 4.000e-02],\n",
              "       [3.300e+00, 5.000e-01, 1.089e+01, 1.650e+00, 2.500e-01],\n",
              "       [2.700e+00, 1.000e+00, 7.290e+00, 2.700e+00, 1.000e+00],\n",
              "       [3.100e+00, 1.000e-01, 9.610e+00, 3.100e-01, 1.000e-02],\n",
              "       [2.800e+00, 1.900e+00, 7.840e+00, 5.320e+00, 3.610e+00],\n",
              "       [2.900e+00, 1.300e+00, 8.410e+00, 3.770e+00, 1.690e+00],\n",
              "       [3.000e+00, 2.100e+00, 9.000e+00, 6.300e+00, 4.410e+00],\n",
              "       [3.000e+00, 2.300e+00, 9.000e+00, 6.900e+00, 5.290e+00],\n",
              "       [2.300e+00, 1.300e+00, 5.290e+00, 2.990e+00, 1.690e+00],\n",
              "       [3.400e+00, 2.300e+00, 1.156e+01, 7.820e+00, 5.290e+00],\n",
              "       [3.600e+00, 2.500e+00, 1.296e+01, 9.000e+00, 6.250e+00],\n",
              "       [2.900e+00, 1.300e+00, 8.410e+00, 3.770e+00, 1.690e+00],\n",
              "       [4.400e+00, 4.000e-01, 1.936e+01, 1.760e+00, 1.600e-01],\n",
              "       [2.700e+00, 1.200e+00, 7.290e+00, 3.240e+00, 1.440e+00],\n",
              "       [2.300e+00, 3.000e-01, 5.290e+00, 6.900e-01, 9.000e-02],\n",
              "       [2.400e+00, 1.100e+00, 5.760e+00, 2.640e+00, 1.210e+00],\n",
              "       [3.100e+00, 1.500e+00, 9.610e+00, 4.650e+00, 2.250e+00],\n",
              "       [3.400e+00, 4.000e-01, 1.156e+01, 1.360e+00, 1.600e-01],\n",
              "       [2.800e+00, 1.400e+00, 7.840e+00, 3.920e+00, 1.960e+00],\n",
              "       [3.500e+00, 6.000e-01, 1.225e+01, 2.100e+00, 3.600e-01],\n",
              "       [3.400e+00, 2.000e-01, 1.156e+01, 6.800e-01, 4.000e-02],\n",
              "       [3.400e+00, 2.400e+00, 1.156e+01, 8.160e+00, 5.760e+00],\n",
              "       [2.800e+00, 2.000e+00, 7.840e+00, 5.600e+00, 4.000e+00],\n",
              "       [3.200e+00, 2.300e+00, 1.024e+01, 7.360e+00, 5.290e+00],\n",
              "       [3.300e+00, 2.000e-01, 1.089e+01, 6.600e-01, 4.000e-02],\n",
              "       [3.700e+00, 4.000e-01, 1.369e+01, 1.480e+00, 1.600e-01],\n",
              "       [3.200e+00, 1.800e+00, 1.024e+01, 5.760e+00, 3.240e+00],\n",
              "       [3.100e+00, 2.000e-01, 9.610e+00, 6.200e-01, 4.000e-02],\n",
              "       [2.700e+00, 1.900e+00, 7.290e+00, 5.130e+00, 3.610e+00],\n",
              "       [3.100e+00, 2.000e-01, 9.610e+00, 6.200e-01, 4.000e-02],\n",
              "       [3.000e+00, 2.000e+00, 9.000e+00, 6.000e+00, 4.000e+00],\n",
              "       [2.500e+00, 1.700e+00, 6.250e+00, 4.250e+00, 2.890e+00],\n",
              "       [3.200e+00, 2.000e-01, 1.024e+01, 6.400e-01, 4.000e-02],\n",
              "       [3.200e+00, 2.300e+00, 1.024e+01, 7.360e+00, 5.290e+00],\n",
              "       [3.000e+00, 1.000e-01, 9.000e+00, 3.000e-01, 1.000e-02],\n",
              "       [3.000e+00, 1.300e+00, 9.000e+00, 3.900e+00, 1.690e+00],\n",
              "       [2.900e+00, 2.000e-01, 8.410e+00, 5.800e-01, 4.000e-02],\n",
              "       [2.400e+00, 1.000e+00, 5.760e+00, 2.400e+00, 1.000e+00],\n",
              "       [2.000e+00, 1.000e+00, 4.000e+00, 2.000e+00, 1.000e+00],\n",
              "       [3.500e+00, 2.000e-01, 1.225e+01, 7.000e-01, 4.000e-02],\n",
              "       [3.000e+00, 2.000e-01, 9.000e+00, 6.000e-01, 4.000e-02],\n",
              "       [2.400e+00, 1.000e+00, 5.760e+00, 2.400e+00, 1.000e+00],\n",
              "       [3.600e+00, 2.000e-01, 1.296e+01, 7.200e-01, 4.000e-02],\n",
              "       [3.000e+00, 1.500e+00, 9.000e+00, 4.500e+00, 2.250e+00],\n",
              "       [2.900e+00, 1.400e+00, 8.410e+00, 4.060e+00, 1.960e+00],\n",
              "       [3.400e+00, 2.000e-01, 1.156e+01, 6.800e-01, 4.000e-02],\n",
              "       [3.100e+00, 1.500e+00, 9.610e+00, 4.650e+00, 2.250e+00],\n",
              "       [2.900e+00, 1.300e+00, 8.410e+00, 3.770e+00, 1.690e+00],\n",
              "       [2.200e+00, 1.500e+00, 4.840e+00, 3.300e+00, 2.250e+00],\n",
              "       [3.200e+00, 1.400e+00, 1.024e+01, 4.480e+00, 1.960e+00],\n",
              "       [2.700e+00, 1.900e+00, 7.290e+00, 5.130e+00, 3.610e+00],\n",
              "       [3.400e+00, 2.000e-01, 1.156e+01, 6.800e-01, 4.000e-02],\n",
              "       [3.000e+00, 2.000e-01, 9.000e+00, 6.000e-01, 4.000e-02],\n",
              "       [2.600e+00, 1.400e+00, 6.760e+00, 3.640e+00, 1.960e+00],\n",
              "       [2.800e+00, 1.300e+00, 7.840e+00, 3.640e+00, 1.690e+00],\n",
              "       [3.000e+00, 1.600e+00, 9.000e+00, 4.800e+00, 2.560e+00],\n",
              "       [2.600e+00, 1.000e+00, 6.760e+00, 2.600e+00, 1.000e+00],\n",
              "       [2.800e+00, 1.500e+00, 7.840e+00, 4.200e+00, 2.250e+00],\n",
              "       [3.100e+00, 1.800e+00, 9.610e+00, 5.580e+00, 3.240e+00],\n",
              "       [2.500e+00, 1.500e+00, 6.250e+00, 3.750e+00, 2.250e+00],\n",
              "       [3.100e+00, 2.400e+00, 9.610e+00, 7.440e+00, 5.760e+00],\n",
              "       [3.600e+00, 1.000e-01, 1.296e+01, 3.600e-01, 1.000e-02]])"
            ]
          },
          "execution_count": 39,
          "metadata": {},
          "output_type": "execute_result"
        }
      ],
      "source": [
        "X_train_poly = poly.fit_transform(X_train)\n",
        "X_train_poly"
      ]
    },
    {
      "cell_type": "code",
      "execution_count": null,
      "id": "77884833",
      "metadata": {
        "id": "77884833",
        "outputId": "494fe64e-30f1-4cc7-8e80-b00d07b84e16"
      },
      "outputs": [
        {
          "data": {
            "text/plain": [
              "array([[ 4.  ,  0.2 , 16.  ,  0.8 ,  0.04],\n",
              "       [ 2.5 ,  1.1 ,  6.25,  2.75,  1.21],\n",
              "       [ 3.  ,  1.4 ,  9.  ,  4.2 ,  1.96],\n",
              "       [ 3.9 ,  0.4 , 15.21,  1.56,  0.16],\n",
              "       [ 3.8 ,  2.  , 14.44,  7.6 ,  4.  ],\n",
              "       [ 3.3 ,  1.6 , 10.89,  5.28,  2.56],\n",
              "       [ 3.1 ,  2.3 ,  9.61,  7.13,  5.29],\n",
              "       [ 3.8 ,  0.4 , 14.44,  1.52,  0.16],\n",
              "       [ 3.2 ,  0.2 , 10.24,  0.64,  0.04],\n",
              "       [ 3.2 ,  2.3 , 10.24,  7.36,  5.29],\n",
              "       [ 2.7 ,  1.3 ,  7.29,  3.51,  1.69],\n",
              "       [ 3.9 ,  0.4 , 15.21,  1.56,  0.16],\n",
              "       [ 3.  ,  2.1 ,  9.  ,  6.3 ,  4.41],\n",
              "       [ 3.2 ,  1.5 , 10.24,  4.8 ,  2.25],\n",
              "       [ 2.9 ,  1.5 ,  8.41,  4.35,  2.25],\n",
              "       [ 3.2 ,  0.2 , 10.24,  0.64,  0.04],\n",
              "       [ 2.6 ,  1.2 ,  6.76,  3.12,  1.44],\n",
              "       [ 3.  ,  1.5 ,  9.  ,  4.5 ,  2.25],\n",
              "       [ 3.4 ,  0.4 , 11.56,  1.36,  0.16],\n",
              "       [ 3.2 ,  0.2 , 10.24,  0.64,  0.04],\n",
              "       [ 2.6 ,  1.2 ,  6.76,  3.12,  1.44],\n",
              "       [ 3.  ,  1.5 ,  9.  ,  4.5 ,  2.25],\n",
              "       [ 3.  ,  1.7 ,  9.  ,  5.1 ,  2.89],\n",
              "       [ 3.5 ,  0.3 , 12.25,  1.05,  0.09],\n",
              "       [ 3.2 ,  1.8 , 10.24,  5.76,  3.24],\n",
              "       [ 2.8 ,  1.3 ,  7.84,  3.64,  1.69],\n",
              "       [ 4.2 ,  0.2 , 17.64,  0.84,  0.04],\n",
              "       [ 3.8 ,  0.3 , 14.44,  1.14,  0.09],\n",
              "       [ 2.8 ,  1.2 ,  7.84,  3.36,  1.44],\n",
              "       [ 2.5 ,  1.9 ,  6.25,  4.75,  3.61],\n",
              "       [ 3.  ,  1.4 ,  9.  ,  4.2 ,  1.96],\n",
              "       [ 3.  ,  2.3 ,  9.  ,  6.9 ,  5.29],\n",
              "       [ 2.5 ,  1.1 ,  6.25,  2.75,  1.21],\n",
              "       [ 2.8 ,  2.1 ,  7.84,  5.88,  4.41],\n",
              "       [ 2.8 ,  2.4 ,  7.84,  6.72,  5.76],\n",
              "       [ 3.7 ,  0.2 , 13.69,  0.74,  0.04],\n",
              "       [ 2.3 ,  1.3 ,  5.29,  2.99,  1.69],\n",
              "       [ 3.4 ,  0.2 , 11.56,  0.68,  0.04]])"
            ]
          },
          "execution_count": 66,
          "metadata": {},
          "output_type": "execute_result"
        }
      ],
      "source": [
        "X_test_poly = poly.transform(X_test)\n",
        "X_test_poly"
      ]
    },
    {
      "cell_type": "code",
      "execution_count": null,
      "id": "4281c2d7",
      "metadata": {
        "id": "4281c2d7",
        "outputId": "e936734b-20f2-4805-800a-0e1c4704fffb"
      },
      "outputs": [
        {
          "data": {
            "text/html": [
              "<div>\n",
              "<style scoped>\n",
              "    .dataframe tbody tr th:only-of-type {\n",
              "        vertical-align: middle;\n",
              "    }\n",
              "\n",
              "    .dataframe tbody tr th {\n",
              "        vertical-align: top;\n",
              "    }\n",
              "\n",
              "    .dataframe thead th {\n",
              "        text-align: right;\n",
              "    }\n",
              "</style>\n",
              "<table border=\"1\" class=\"dataframe\">\n",
              "  <thead>\n",
              "    <tr style=\"text-align: right;\">\n",
              "      <th></th>\n",
              "      <th>$x_1$</th>\n",
              "      <th>$x_2$</th>\n",
              "      <th>${x}^2_1$</th>\n",
              "      <th>$x_1$$x_2$</th>\n",
              "      <th>$x_1$$x_2$</th>\n",
              "    </tr>\n",
              "  </thead>\n",
              "  <tbody>\n",
              "    <tr>\n",
              "      <th>0</th>\n",
              "      <td>2.8</td>\n",
              "      <td>1.5</td>\n",
              "      <td>7.84</td>\n",
              "      <td>4.20</td>\n",
              "      <td>2.25</td>\n",
              "    </tr>\n",
              "    <tr>\n",
              "      <th>1</th>\n",
              "      <td>2.5</td>\n",
              "      <td>1.8</td>\n",
              "      <td>6.25</td>\n",
              "      <td>4.50</td>\n",
              "      <td>3.24</td>\n",
              "    </tr>\n",
              "    <tr>\n",
              "      <th>2</th>\n",
              "      <td>3.0</td>\n",
              "      <td>2.1</td>\n",
              "      <td>9.00</td>\n",
              "      <td>6.30</td>\n",
              "      <td>4.41</td>\n",
              "    </tr>\n",
              "    <tr>\n",
              "      <th>3</th>\n",
              "      <td>3.5</td>\n",
              "      <td>0.3</td>\n",
              "      <td>12.25</td>\n",
              "      <td>1.05</td>\n",
              "      <td>0.09</td>\n",
              "    </tr>\n",
              "    <tr>\n",
              "      <th>4</th>\n",
              "      <td>2.2</td>\n",
              "      <td>1.5</td>\n",
              "      <td>4.84</td>\n",
              "      <td>3.30</td>\n",
              "      <td>2.25</td>\n",
              "    </tr>\n",
              "    <tr>\n",
              "      <th>...</th>\n",
              "      <td>...</td>\n",
              "      <td>...</td>\n",
              "      <td>...</td>\n",
              "      <td>...</td>\n",
              "      <td>...</td>\n",
              "    </tr>\n",
              "    <tr>\n",
              "      <th>107</th>\n",
              "      <td>2.8</td>\n",
              "      <td>1.5</td>\n",
              "      <td>7.84</td>\n",
              "      <td>4.20</td>\n",
              "      <td>2.25</td>\n",
              "    </tr>\n",
              "    <tr>\n",
              "      <th>108</th>\n",
              "      <td>3.1</td>\n",
              "      <td>1.8</td>\n",
              "      <td>9.61</td>\n",
              "      <td>5.58</td>\n",
              "      <td>3.24</td>\n",
              "    </tr>\n",
              "    <tr>\n",
              "      <th>109</th>\n",
              "      <td>2.5</td>\n",
              "      <td>1.5</td>\n",
              "      <td>6.25</td>\n",
              "      <td>3.75</td>\n",
              "      <td>2.25</td>\n",
              "    </tr>\n",
              "    <tr>\n",
              "      <th>110</th>\n",
              "      <td>3.1</td>\n",
              "      <td>2.4</td>\n",
              "      <td>9.61</td>\n",
              "      <td>7.44</td>\n",
              "      <td>5.76</td>\n",
              "    </tr>\n",
              "    <tr>\n",
              "      <th>111</th>\n",
              "      <td>3.6</td>\n",
              "      <td>0.1</td>\n",
              "      <td>12.96</td>\n",
              "      <td>0.36</td>\n",
              "      <td>0.01</td>\n",
              "    </tr>\n",
              "  </tbody>\n",
              "</table>\n",
              "<p>112 rows × 5 columns</p>\n",
              "</div>"
            ],
            "text/plain": [
              "     $x_1$  $x_2$  ${x}^2_1$  $x_1$$x_2$  $x_1$$x_2$\n",
              "0      2.8    1.5       7.84        4.20        2.25\n",
              "1      2.5    1.8       6.25        4.50        3.24\n",
              "2      3.0    2.1       9.00        6.30        4.41\n",
              "3      3.5    0.3      12.25        1.05        0.09\n",
              "4      2.2    1.5       4.84        3.30        2.25\n",
              "..     ...    ...        ...         ...         ...\n",
              "107    2.8    1.5       7.84        4.20        2.25\n",
              "108    3.1    1.8       9.61        5.58        3.24\n",
              "109    2.5    1.5       6.25        3.75        2.25\n",
              "110    3.1    2.4       9.61        7.44        5.76\n",
              "111    3.6    0.1      12.96        0.36        0.01\n",
              "\n",
              "[112 rows x 5 columns]"
            ]
          },
          "execution_count": 67,
          "metadata": {},
          "output_type": "execute_result"
        }
      ],
      "source": [
        "pd.DataFrame(X_train_poly, columns = ['$x_1$', '$x_2$', '${x}^2_1$', '$x_1$$x_2$', '$x_1$$x_2$'])"
      ]
    },
    {
      "cell_type": "markdown",
      "id": "270412cb-c47c-4580-8262-90a1f7c8e57a",
      "metadata": {
        "id": "270412cb-c47c-4580-8262-90a1f7c8e57a"
      },
      "source": [
        "### 11. Масштабируйте полиномиальные обучающие и тестовые данные методом стандартной нормализации."
      ]
    },
    {
      "cell_type": "code",
      "execution_count": null,
      "id": "91ca0926-1fcb-4fda-beee-42804ec101d2",
      "metadata": {
        "id": "91ca0926-1fcb-4fda-beee-42804ec101d2"
      },
      "outputs": [],
      "source": [
        "scaler = StandardScaler()"
      ]
    },
    {
      "cell_type": "code",
      "execution_count": null,
      "id": "4f820085",
      "metadata": {
        "id": "4f820085"
      },
      "outputs": [],
      "source": [
        "X_train_scaler = scaler.fit_transform(X_train_poly)\n",
        "X_test_scaler = scaler.transform(X_test_poly)"
      ]
    },
    {
      "cell_type": "code",
      "execution_count": null,
      "id": "2d0343c8",
      "metadata": {
        "id": "2d0343c8",
        "outputId": "4ff3fe38-eeb6-455e-a4f3-fa8b52fd293a"
      },
      "outputs": [
        {
          "data": {
            "text/plain": [
              "array([[-0.53881591,  0.37946604, -0.57568936,  0.27234213,  0.10772205],\n",
              "       [-1.25723711,  0.76937609, -1.19208403,  0.39899536,  0.644541  ],\n",
              "       [-0.05986843,  1.15928615, -0.12599262,  1.15891471,  1.27896338],\n",
              "       [ 1.13750025, -1.18017419,  1.13393359, -1.05751674, -1.06351927],\n",
              "       [-1.97565832,  0.37946604, -1.73869817, -0.10761755,  0.10772205]])"
            ]
          },
          "execution_count": 70,
          "metadata": {},
          "output_type": "execute_result"
        }
      ],
      "source": [
        "X_train_scaler[:5]"
      ]
    },
    {
      "cell_type": "markdown",
      "id": "146820b0-d7c2-48a8-91dd-acee2edb4789",
      "metadata": {
        "id": "146820b0-d7c2-48a8-91dd-acee2edb4789"
      },
      "source": [
        "### 12. Постойте полиномиальную модель логистической регрессии второй степени, т.е. обучите модель логистической регрессии на масштабированных полиномиальных данных. Сделайте предсказания на соответствующих тестовых данных и найти количество сделанных ошибок."
      ]
    },
    {
      "cell_type": "code",
      "execution_count": null,
      "id": "d422368d-13cb-4b02-979d-fa702f92a2de",
      "metadata": {
        "id": "d422368d-13cb-4b02-979d-fa702f92a2de",
        "outputId": "a045e36f-b331-4e98-deee-17eed258a571"
      },
      "outputs": [
        {
          "data": {
            "text/plain": [
              "array([0, 2, 2, 0, 2, 2, 2, 0, 0, 2, 2, 0, 2, 2, 2, 0, 2, 2, 0, 0, 2, 2,\n",
              "       2, 0, 2, 2, 0, 0, 2, 2, 2, 2, 2, 2, 2, 0, 2, 0])"
            ]
          },
          "execution_count": 72,
          "metadata": {},
          "output_type": "execute_result"
        }
      ],
      "source": [
        "logic = LogisticRegression()\n",
        "logic.fit(X_train_scaler, y_train)\n",
        "l_pred = logic.predict(X_test_poly)\n",
        "l_pred"
      ]
    },
    {
      "cell_type": "code",
      "execution_count": null,
      "id": "83bbfa6d",
      "metadata": {
        "id": "83bbfa6d",
        "outputId": "22177596-5415-4e67-d171-482852b50cdf"
      },
      "outputs": [
        {
          "data": {
            "text/plain": [
              "array([0, 1, 1, 0, 2, 1, 2, 0, 0, 2, 1, 0, 2, 1, 1, 0, 1, 1, 0, 0, 1, 1,\n",
              "       1, 0, 2, 1, 0, 0, 1, 2, 1, 2, 1, 2, 2, 0, 1, 0])"
            ]
          },
          "execution_count": 73,
          "metadata": {},
          "output_type": "execute_result"
        }
      ],
      "source": [
        "y_test"
      ]
    },
    {
      "cell_type": "code",
      "execution_count": null,
      "id": "f0ed5848",
      "metadata": {
        "id": "f0ed5848",
        "outputId": "1fe8d287-928d-4d6f-fb5b-4d834e5035ff"
      },
      "outputs": [
        {
          "data": {
            "text/plain": [
              "16"
            ]
          },
          "execution_count": 74,
          "metadata": {},
          "output_type": "execute_result"
        }
      ],
      "source": [
        "errs = np.sum(l_pred != y_test)\n",
        "errs"
      ]
    },
    {
      "cell_type": "code",
      "execution_count": null,
      "id": "558f398e",
      "metadata": {
        "id": "558f398e",
        "outputId": "a1fd9a8a-be37-46b2-dc24-fcba90a3c08c"
      },
      "outputs": [
        {
          "data": {
            "text/plain": [
              "(38,)"
            ]
          },
          "execution_count": 75,
          "metadata": {},
          "output_type": "execute_result"
        }
      ],
      "source": [
        "l_pred.shape"
      ]
    },
    {
      "cell_type": "code",
      "execution_count": null,
      "id": "5f209cd1",
      "metadata": {
        "id": "5f209cd1",
        "outputId": "86feef99-62bd-4652-c854-db1b50c58297"
      },
      "outputs": [
        {
          "data": {
            "text/plain": [
              "(38,)"
            ]
          },
          "execution_count": 76,
          "metadata": {},
          "output_type": "execute_result"
        }
      ],
      "source": [
        "y_pred.shape"
      ]
    },
    {
      "cell_type": "markdown",
      "id": "3936b9a8",
      "metadata": {
        "id": "3936b9a8"
      },
      "source": [
        "### 13. Оцените качество построенной полиномиальной модели. Для этого выведите матрицу ошибок, метрики accuracy и F1, а также отчёт о классификации. Сделайте вывод о том, какая модель классифицирует данные лучше: логистическая регрессия или полиномиальная второй степени?"
      ]
    },
    {
      "cell_type": "code",
      "execution_count": null,
      "id": "cffb6b59-fa91-4c2a-bbc6-441745ed9245",
      "metadata": {
        "id": "cffb6b59-fa91-4c2a-bbc6-441745ed9245",
        "outputId": "f625d6a2-dde1-41ad-8b7b-8c30c974428f"
      },
      "outputs": [
        {
          "data": {
            "text/plain": [
              "array([[13,  0,  0],\n",
              "       [ 0,  0, 16],\n",
              "       [ 0,  0,  9]], dtype=int64)"
            ]
          },
          "execution_count": 77,
          "metadata": {},
          "output_type": "execute_result"
        }
      ],
      "source": [
        "conf_matrix_poly = confusion_matrix(y_test, l_pred)\n",
        "conf_matrix_poly"
      ]
    },
    {
      "cell_type": "code",
      "execution_count": null,
      "id": "c2ae810c",
      "metadata": {
        "id": "c2ae810c",
        "outputId": "a9f70947-d744-4016-faa6-2327df06e54c"
      },
      "outputs": [
        {
          "data": {
            "image/png": "[encoded data removed]",
            "text/plain": [
              "<Figure size 500x400 with 2 Axes>"
            ]
          },
          "metadata": {},
          "output_type": "display_data"
        }
      ],
      "source": [
        "plt.figure(figsize = (5,4))\n",
        "plt.title(\"Матрица ошибок\")\n",
        "sns.heatmap(conf_matrix_poly, annot=True, fmt ='d')\n",
        "plt.xlabel('Предсказанные значения')\n",
        "plt.ylabel('Действительные значения')\n",
        "plt.show()"
      ]
    },
    {
      "cell_type": "code",
      "execution_count": null,
      "id": "c8522e63",
      "metadata": {
        "id": "c8522e63",
        "outputId": "633b909e-4a91-46e8-bb87-63f7f12bae82"
      },
      "outputs": [
        {
          "data": {
            "text/plain": [
              "0.4674922600619195"
            ]
          },
          "execution_count": 79,
          "metadata": {},
          "output_type": "execute_result"
        }
      ],
      "source": [
        "f1_poly = f1_score(y_test, l_pred, average='weighted')\n",
        "f1_poly"
      ]
    },
    {
      "cell_type": "code",
      "execution_count": null,
      "id": "a899a3ed",
      "metadata": {
        "id": "a899a3ed",
        "outputId": "349c3058-ac5a-4b18-a98d-afc35851fddb"
      },
      "outputs": [
        {
          "data": {
            "text/plain": [
              "0.5789473684210527"
            ]
          },
          "execution_count": 81,
          "metadata": {},
          "output_type": "execute_result"
        }
      ],
      "source": [
        "accuracy_poly = accuracy_score(y_test, l_pred)\n",
        "accuracy_poly"
      ]
    },
    {
      "cell_type": "code",
      "execution_count": null,
      "id": "13188043",
      "metadata": {
        "id": "13188043",
        "outputId": "4eb6c9e2-b6b4-4d57-cb5f-9be35009aa81"
      },
      "outputs": [
        {
          "name": "stdout",
          "output_type": "stream",
          "text": [
            "              precision    recall  f1-score   support\n",
            "\n",
            "           0       1.00      1.00      1.00        13\n",
            "           1       0.00      0.00      0.00        16\n",
            "           2       0.36      1.00      0.53         9\n",
            "\n",
            "    accuracy                           0.58        38\n",
            "   macro avg       0.45      0.67      0.51        38\n",
            "weighted avg       0.43      0.58      0.47        38\n",
            "\n"
          ]
        },
        {
          "name": "stderr",
          "output_type": "stream",
          "text": [
            "C:\\Users\\rita_\\anaconda3\\Lib\\site-packages\\sklearn\\metrics\\_classification.py:1469: UndefinedMetricWarning: Precision and F-score are ill-defined and being set to 0.0 in labels with no predicted samples. Use `zero_division` parameter to control this behavior.\n",
            "  _warn_prf(average, modifier, msg_start, len(result))\n",
            "C:\\Users\\rita_\\anaconda3\\Lib\\site-packages\\sklearn\\metrics\\_classification.py:1469: UndefinedMetricWarning: Precision and F-score are ill-defined and being set to 0.0 in labels with no predicted samples. Use `zero_division` parameter to control this behavior.\n",
            "  _warn_prf(average, modifier, msg_start, len(result))\n",
            "C:\\Users\\rita_\\anaconda3\\Lib\\site-packages\\sklearn\\metrics\\_classification.py:1469: UndefinedMetricWarning: Precision and F-score are ill-defined and being set to 0.0 in labels with no predicted samples. Use `zero_division` parameter to control this behavior.\n",
            "  _warn_prf(average, modifier, msg_start, len(result))\n"
          ]
        }
      ],
      "source": [
        "report_poly = classification_report(y_test, l_pred)\n",
        "print(report_poly)"
      ]
    },
    {
      "cell_type": "markdown",
      "id": "b0b3b329",
      "metadata": {
        "id": "b0b3b329"
      },
      "source": [
        "### 14. Визуализируйте получившиеся при помощи полиномиальной модели области разделения на классы для тестовых данных."
      ]
    },
    {
      "cell_type": "code",
      "execution_count": null,
      "id": "b89106f4",
      "metadata": {
        "id": "b89106f4",
        "outputId": "66a134f8-6254-4099-c16b-d1ccd0e8c892"
      },
      "outputs": [
        {
          "data": {
            "image/png": "[encoded data removed]",
            "text/plain": [
              "<Figure size 640x480 with 1 Axes>"
            ]
          },
          "metadata": {},
          "output_type": "display_data"
        }
      ],
      "source": [
        "X0 = np.linspace(X_test[:, 0].min()-1,X_test[:, 0].max()+1, X_test.shape[0])\n",
        "X1 = np.linspace(X_test[:, 1].min()-1,X_test[:, 1].max()+1, X_test.shape[0])\n",
        "X0_grid, X1_grid = np.meshgrid(X0, X1)\n",
        "\n",
        "grid = np.c_[X0_grid.ravel(), X1_grid.ravel()]\n",
        "grid_poly_scaled = scaler.transform(poly.transform(grid))\n",
        "\n",
        "Z_grid = logic.predict(grid_poly_scaled).reshape(X0_grid.shape)\n",
        "\n",
        "plt.scatter(X_test[:, 0], X_test[:, 1], c=y_test, cmap='autumn', alpha = 0.5)\n",
        "plt.contourf(X0_grid, X1_grid, Z_grid, cmap='autumn', alpha=0.2)\n",
        "plt.xlabel('X1')\n",
        "plt.ylabel('X2')\n",
        "plt.title(\"Области разделения на классы (Полиномиальная логистическая регрессия)\")\n",
        "plt.show()"
      ]
    },
    {
      "cell_type": "markdown",
      "id": "42e8104b-c753-49c5-af5c-0237b7b39452",
      "metadata": {
        "id": "42e8104b-c753-49c5-af5c-0237b7b39452"
      },
      "source": [
        " ### 15. Возьмите в качестве _X_ все столбцы признаков датасета _iris_, а целевую переменную обозначьте за _y_. Разделите данные на обучающую и тестовую части в соотношении 3:1, зафиксировав random_state=1. Выведите получившиеся размеры обучающей и тестовой выборок. Масштабируйте обучающие и тестовые данные методом стандартной нормализации."
      ]
    },
    {
      "cell_type": "code",
      "execution_count": null,
      "id": "e7bb421b",
      "metadata": {
        "id": "e7bb421b"
      },
      "outputs": [],
      "source": [
        "X = iris.data\n",
        "y = iris.target\n",
        "df = pd.DataFrame(X)\n",
        "df['target'] = y"
      ]
    },
    {
      "cell_type": "code",
      "execution_count": null,
      "id": "98d7c7b9",
      "metadata": {
        "id": "98d7c7b9"
      },
      "outputs": [],
      "source": [
        "X_train, X_test, y_train, y_test = train_test_split(X, y, test_size=0.25, random_state=1)"
      ]
    },
    {
      "cell_type": "code",
      "execution_count": null,
      "id": "a201aeeb",
      "metadata": {
        "id": "a201aeeb",
        "outputId": "338ae609-1fc1-4a8f-e796-09afa9bffee7"
      },
      "outputs": [
        {
          "data": {
            "text/plain": [
              "112"
            ]
          },
          "execution_count": 92,
          "metadata": {},
          "output_type": "execute_result"
        }
      ],
      "source": [
        "X_train.shape[0]"
      ]
    },
    {
      "cell_type": "code",
      "execution_count": null,
      "id": "442e5acd",
      "metadata": {
        "id": "442e5acd",
        "outputId": "c109dd06-a36e-458f-b6b2-19d823755144"
      },
      "outputs": [
        {
          "data": {
            "text/plain": [
              "38"
            ]
          },
          "execution_count": 93,
          "metadata": {},
          "output_type": "execute_result"
        }
      ],
      "source": [
        "X_test.shape[0]"
      ]
    },
    {
      "cell_type": "code",
      "execution_count": null,
      "id": "26aafdd3",
      "metadata": {
        "id": "26aafdd3"
      },
      "outputs": [],
      "source": [
        "scaler = StandardScaler()\n",
        "X_train_scaled = scaler.fit_transform(X_train)\n",
        "X_test_scaled = scaler.transform(X_test)"
      ]
    },
    {
      "cell_type": "code",
      "execution_count": null,
      "id": "78a2f518",
      "metadata": {
        "id": "78a2f518",
        "outputId": "ee5deec0-337c-43eb-f9de-9d6dc241fc10"
      },
      "outputs": [
        {
          "data": {
            "text/plain": [
              "array([[ 0.80347326, -0.53881591,  0.45445264,  0.37946604],\n",
              "       [ 1.04344393, -1.25723711,  1.13159715,  0.76937609],\n",
              "       [ 1.16342927, -0.05986843,  0.96231102,  1.15928615],\n",
              "       [-0.8763215 ,  1.13750025, -1.35126605, -1.18017419],\n",
              "       [ 0.20354656, -1.97565832,  0.68016748,  0.37946604]])"
            ]
          },
          "execution_count": 98,
          "metadata": {},
          "output_type": "execute_result"
        }
      ],
      "source": [
        "X_train_scaled[:5]"
      ]
    },
    {
      "cell_type": "markdown",
      "id": "7a586431-45b6-43e7-bbf3-8c61c4cde116",
      "metadata": {
        "id": "7a586431-45b6-43e7-bbf3-8c61c4cde116"
      },
      "source": [
        "### 16. Постройте модель логистической регрессии на всём датасете _iris_ на предварительно масштабированных данных. Оцените качество построенной модели."
      ]
    },
    {
      "cell_type": "code",
      "execution_count": null,
      "id": "31330a6f-6c4b-4aea-876f-e264beb8f4ff",
      "metadata": {
        "id": "31330a6f-6c4b-4aea-876f-e264beb8f4ff",
        "outputId": "098ee2ac-c958-40cf-c755-37ff1a75a047"
      },
      "outputs": [
        {
          "data": {
            "text/plain": [
              "0.9736842105263158"
            ]
          },
          "execution_count": 102,
          "metadata": {},
          "output_type": "execute_result"
        }
      ],
      "source": [
        "model = LogisticRegression()\n",
        "model.fit(X_train_scaled, y_train)\n",
        "\n",
        "y_pred = model.predict(X_test_scaled)\n",
        "\n",
        "accuracy = accuracy_score(y_test, y_pred)\n",
        "f1 = f1_score(y_test, y_pred, average='weighted')\n",
        "conf = confusion_matrix(y_test, y_pred)\n",
        "accuracy"
      ]
    },
    {
      "cell_type": "code",
      "execution_count": null,
      "id": "d1e5b450",
      "metadata": {
        "id": "d1e5b450",
        "outputId": "a18a7bcd-6141-40fb-d77d-9be7899adf40"
      },
      "outputs": [
        {
          "data": {
            "text/plain": [
              "0.9739522830846216"
            ]
          },
          "execution_count": 100,
          "metadata": {},
          "output_type": "execute_result"
        }
      ],
      "source": [
        "f1"
      ]
    },
    {
      "cell_type": "code",
      "execution_count": null,
      "id": "4c56b501",
      "metadata": {
        "id": "4c56b501",
        "outputId": "caaf9549-0d39-4c90-d738-637c36a67ebc"
      },
      "outputs": [
        {
          "data": {
            "text/plain": [
              "array([[13,  0,  0],\n",
              "       [ 0, 15,  1],\n",
              "       [ 0,  0,  9]], dtype=int64)"
            ]
          },
          "execution_count": 103,
          "metadata": {},
          "output_type": "execute_result"
        }
      ],
      "source": [
        "conf"
      ]
    },
    {
      "cell_type": "code",
      "execution_count": null,
      "id": "a9956b2c",
      "metadata": {
        "id": "a9956b2c",
        "outputId": "35cc5771-1125-4483-8bca-8b7ab3b41b22"
      },
      "outputs": [
        {
          "data": {
            "image/png": "[encoded data removed]",
            "text/plain": [
              "<Figure size 500x400 with 2 Axes>"
            ]
          },
          "metadata": {},
          "output_type": "display_data"
        }
      ],
      "source": [
        "plt.figure(figsize = (5,4))\n",
        "plt.title(\"Матрица ошибок\")\n",
        "sns.heatmap(conf, annot=True, fmt ='d')\n",
        "plt.xlabel('Предсказанные значения')\n",
        "plt.ylabel('Действительные значения')\n",
        "plt.show()"
      ]
    },
    {
      "cell_type": "markdown",
      "id": "fd09b981-a007-4f4c-a19c-465b1fbda03c",
      "metadata": {
        "id": "fd09b981-a007-4f4c-a19c-465b1fbda03c"
      },
      "source": [
        "### 17. Постройте модель полиномиальной классификации третьей степени на всём датасете _iris_, используя конвейер. Оцените качество построенной модели."
      ]
    },
    {
      "cell_type": "code",
      "execution_count": null,
      "id": "4a122f23-a4be-477c-b4ef-c750c1f640ba",
      "metadata": {
        "id": "4a122f23-a4be-477c-b4ef-c750c1f640ba"
      },
      "outputs": [],
      "source": [
        "pipeline = Pipeline([('poly_features', PolynomialFeatures(degree=3)),\n",
        "    ('scaler', StandardScaler()),\n",
        "    ('logreg', LogisticRegression())])\n",
        "pipeline.fit(X_train, y_train)\n",
        "\n",
        "y_pred = pipeline.predict(X_test)\n",
        "accuracy = accuracy_score(y_test, y_pred)\n",
        "f1 = f1_score(y_test, y_pred, average='weighted')\n",
        "conf = confusion_matrix(y_test, y_pred)"
      ]
    },
    {
      "cell_type": "code",
      "execution_count": null,
      "id": "36b8c625",
      "metadata": {
        "id": "36b8c625",
        "outputId": "e107dda9-dfcb-40f4-d0ed-5ae809371fe8"
      },
      "outputs": [
        {
          "data": {
            "text/plain": [
              "0.9736842105263158"
            ]
          },
          "execution_count": 112,
          "metadata": {},
          "output_type": "execute_result"
        }
      ],
      "source": [
        "accuracy"
      ]
    },
    {
      "cell_type": "code",
      "execution_count": null,
      "id": "8f4d7ddc",
      "metadata": {
        "id": "8f4d7ddc",
        "outputId": "5917df58-2361-46a3-b51a-a8a59d6c2c46"
      },
      "outputs": [
        {
          "data": {
            "text/plain": [
              "0.9739522830846216"
            ]
          },
          "execution_count": 113,
          "metadata": {},
          "output_type": "execute_result"
        }
      ],
      "source": [
        "f1"
      ]
    },
    {
      "cell_type": "code",
      "execution_count": null,
      "id": "e658879d",
      "metadata": {
        "id": "e658879d",
        "outputId": "5d6ddcb9-010e-49bc-c352-fb9426c37e05"
      },
      "outputs": [
        {
          "data": {
            "text/plain": [
              "array([[13,  0,  0],\n",
              "       [ 0, 15,  1],\n",
              "       [ 0,  0,  9]], dtype=int64)"
            ]
          },
          "execution_count": 114,
          "metadata": {},
          "output_type": "execute_result"
        }
      ],
      "source": [
        "conf"
      ]
    },
    {
      "cell_type": "code",
      "execution_count": null,
      "id": "544d6cfe",
      "metadata": {
        "id": "544d6cfe",
        "outputId": "5945a1f3-70a4-497f-8815-b91383eec050"
      },
      "outputs": [
        {
          "data": {
            "image/png": "[encoded data removed]",
            "text/plain": [
              "<Figure size 500x400 with 2 Axes>"
            ]
          },
          "metadata": {},
          "output_type": "display_data"
        }
      ],
      "source": [
        "plt.figure(figsize = (5,4))\n",
        "plt.title(\"Матрица ошибок\")\n",
        "sns.heatmap(conf, annot=True, fmt ='d')\n",
        "plt.xlabel('Предсказанные значения')\n",
        "plt.ylabel('Действительные значения')\n",
        "plt.show()"
      ]
    },
    {
      "cell_type": "markdown",
      "id": "8d913caf-e510-4608-a27e-2bbd6ab8a06d",
      "metadata": {
        "id": "8d913caf-e510-4608-a27e-2bbd6ab8a06d"
      },
      "source": [
        "### 18. Замерьте и сравните временя обучения построенных моделей логистической регрессии на масштабированных данных и полиномиальной третьей степени."
      ]
    },
    {
      "cell_type": "code",
      "execution_count": null,
      "id": "4c8f1057-7575-4f60-8df2-1e2491ee656e",
      "metadata": {
        "id": "4c8f1057-7575-4f60-8df2-1e2491ee656e",
        "outputId": "bf06453f-59e2-4b4b-dcac-96bb246f94c0"
      },
      "outputs": [
        {
          "data": {
            "text/plain": [
              "0.00974583625793457"
            ]
          },
          "execution_count": 116,
          "metadata": {},
          "output_type": "execute_result"
        }
      ],
      "source": [
        "start_time = time.time()\n",
        "log_model_scaled = LogisticRegression()\n",
        "log_model_scaled.fit(X_train_scaled, y_train)\n",
        "time_scaled = time.time() - start_time\n",
        "time_scaled"
      ]
    },
    {
      "cell_type": "code",
      "execution_count": null,
      "id": "cd71359e",
      "metadata": {
        "id": "cd71359e",
        "outputId": "45086d8a-3425-482b-fde8-be5e445ed189"
      },
      "outputs": [
        {
          "data": {
            "text/plain": [
              "0.026013851165771484"
            ]
          },
          "execution_count": 117,
          "metadata": {},
          "output_type": "execute_result"
        }
      ],
      "source": [
        "start_time = time.time()\n",
        "pipeline.fit(X_train, y_train)\n",
        "time_poly = time.time() - start_time\n",
        "time_poly"
      ]
    }
  ],
  "metadata": {
    "kernelspec": {
      "display_name": "Python 3 (ipykernel)",
      "language": "python",
      "name": "python3"
    },
    "language_info": {
      "codemirror_mode": {
        "name": "ipython",
        "version": 3
      },
      "file_extension": ".py",
      "mimetype": "text/x-python",
      "name": "python",
      "nbconvert_exporter": "python",
      "pygments_lexer": "ipython3",
      "version": "3.11.5"
    },
    "colab": {
      "provenance": []
    }
  },
  "nbformat": 4,
  "nbformat_minor": 5
}