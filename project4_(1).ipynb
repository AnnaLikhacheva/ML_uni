{
  "cells": [
    {
      "cell_type": "markdown",
      "metadata": {
        "id": "DY6KfR5twAZ2"
      },
      "source": [
        "## Проект 4\n",
        "\n",
        "# Тема: Линейная регрессия с m признаками"
      ]
    },
    {
      "cell_type": "code",
      "execution_count": null,
      "metadata": {
        "id": "Yg-3Xb1uwAZ_"
      },
      "outputs": [],
      "source": [
        "import numpy as np\n",
        "import pandas as pd\n",
        "import matplotlib.pyplot as plt\n",
        "import seaborn as sns\n",
        "\n",
        "from sklearn.datasets import make_regression\n",
        "import time\n",
        "from sklearn.linear_model import LinearRegression\n",
        "from sklearn.datasets import load_diabetes"
      ]
    },
    {
      "cell_type": "markdown",
      "metadata": {
        "id": "Zgn6h5_jvkGv"
      },
      "source": [
        "### Обучение модели линейной регрессии на sklearn"
      ]
    },
    {
      "cell_type": "markdown",
      "metadata": {
        "id": "FkpOEpokvkGv"
      },
      "source": [
        "Генерируем данные:"
      ]
    },
    {
      "cell_type": "code",
      "execution_count": null,
      "metadata": {
        "id": "nhYSvfSKvkGv"
      },
      "outputs": [],
      "source": [
        "X, y = make_regression(n_samples=1000, # число строк\n",
        "                          n_features=5,    # число признаков\n",
        "                          n_informative=5, # целевая переменная зависит от всех признаков\n",
        "                          noise = 5,\n",
        "                          bias = 2,\n",
        "                          random_state=42)"
      ]
    },
    {
      "cell_type": "markdown",
      "metadata": {
        "id": "AJTgXf1hvkGw"
      },
      "source": [
        "Создаём модель (объект класса) линейной регрессии:"
      ]
    },
    {
      "cell_type": "code",
      "execution_count": null,
      "metadata": {
        "id": "Y56H_RcgwAaX"
      },
      "outputs": [],
      "source": [
        "model = LinearRegression()"
      ]
    },
    {
      "cell_type": "markdown",
      "metadata": {
        "id": "pZ7bQn2hvkGw"
      },
      "source": [
        "Обучаем модель:"
      ]
    },
    {
      "cell_type": "code",
      "execution_count": null,
      "metadata": {
        "colab": {
          "base_uri": "https://localhost:8080/",
          "height": 75
        },
        "id": "iRMGN_qYwAaX",
        "outputId": "037e5c56-12d5-4456-d0cd-259c7645135b"
      },
      "outputs": [
        {
          "data": {
            "text/html": [
              "<style>#sk-container-id-5 {\n",
              "  /* Definition of color scheme common for light and dark mode */\n",
              "  --sklearn-color-text: black;\n",
              "  --sklearn-color-line: gray;\n",
              "  /* Definition of color scheme for unfitted estimators */\n",
              "  --sklearn-color-unfitted-level-0: #fff5e6;\n",
              "  --sklearn-color-unfitted-level-1: #f6e4d2;\n",
              "  --sklearn-color-unfitted-level-2: #ffe0b3;\n",
              "  --sklearn-color-unfitted-level-3: chocolate;\n",
              "  /* Definition of color scheme for fitted estimators */\n",
              "  --sklearn-color-fitted-level-0: #f0f8ff;\n",
              "  --sklearn-color-fitted-level-1: #d4ebff;\n",
              "  --sklearn-color-fitted-level-2: #b3dbfd;\n",
              "  --sklearn-color-fitted-level-3: cornflowerblue;\n",
              "\n",
              "  /* Specific color for light theme */\n",
              "  --sklearn-color-text-on-default-background: var(--sg-text-color, var(--theme-code-foreground, var(--jp-content-font-color1, black)));\n",
              "  --sklearn-color-background: var(--sg-background-color, var(--theme-background, var(--jp-layout-color0, white)));\n",
              "  --sklearn-color-border-box: var(--sg-text-color, var(--theme-code-foreground, var(--jp-content-font-color1, black)));\n",
              "  --sklearn-color-icon: #696969;\n",
              "\n",
              "  @media (prefers-color-scheme: dark) {\n",
              "    /* Redefinition of color scheme for dark theme */\n",
              "    --sklearn-color-text-on-default-background: var(--sg-text-color, var(--theme-code-foreground, var(--jp-content-font-color1, white)));\n",
              "    --sklearn-color-background: var(--sg-background-color, var(--theme-background, var(--jp-layout-color0, #111)));\n",
              "    --sklearn-color-border-box: var(--sg-text-color, var(--theme-code-foreground, var(--jp-content-font-color1, white)));\n",
              "    --sklearn-color-icon: #878787;\n",
              "  }\n",
              "}\n",
              "\n",
              "#sk-container-id-5 {\n",
              "  color: var(--sklearn-color-text);\n",
              "}\n",
              "\n",
              "#sk-container-id-5 pre {\n",
              "  padding: 0;\n",
              "}\n",
              "\n",
              "#sk-container-id-5 input.sk-hidden--visually {\n",
              "  border: 0;\n",
              "  clip: rect(1px 1px 1px 1px);\n",
              "  clip: rect(1px, 1px, 1px, 1px);\n",
              "  height: 1px;\n",
              "  margin: -1px;\n",
              "  overflow: hidden;\n",
              "  padding: 0;\n",
              "  position: absolute;\n",
              "  width: 1px;\n",
              "}\n",
              "\n",
              "#sk-container-id-5 div.sk-dashed-wrapped {\n",
              "  border: 1px dashed var(--sklearn-color-line);\n",
              "  margin: 0 0.4em 0.5em 0.4em;\n",
              "  box-sizing: border-box;\n",
              "  padding-bottom: 0.4em;\n",
              "  background-color: var(--sklearn-color-background);\n",
              "}\n",
              "\n",
              "#sk-container-id-5 div.sk-container {\n",
              "  /* jupyter's `normalize.less` sets `[hidden] { display: none; }`\n",
              "     but bootstrap.min.css set `[hidden] { display: none !important; }`\n",
              "     so we also need the `!important` here to be able to override the\n",
              "     default hidden behavior on the sphinx rendered scikit-learn.org.\n",
              "     See: https://github.com/scikit-learn/scikit-learn/issues/21755 */\n",
              "  display: inline-block !important;\n",
              "  position: relative;\n",
              "}\n",
              "\n",
              "#sk-container-id-5 div.sk-text-repr-fallback {\n",
              "  display: none;\n",
              "}\n",
              "\n",
              "div.sk-parallel-item,\n",
              "div.sk-serial,\n",
              "div.sk-item {\n",
              "  /* draw centered vertical line to link estimators */\n",
              "  background-image: linear-gradient(var(--sklearn-color-text-on-default-background), var(--sklearn-color-text-on-default-background));\n",
              "  background-size: 2px 100%;\n",
              "  background-repeat: no-repeat;\n",
              "  background-position: center center;\n",
              "}\n",
              "\n",
              "/* Parallel-specific style estimator block */\n",
              "\n",
              "#sk-container-id-5 div.sk-parallel-item::after {\n",
              "  content: \"\";\n",
              "  width: 100%;\n",
              "  border-bottom: 2px solid var(--sklearn-color-text-on-default-background);\n",
              "  flex-grow: 1;\n",
              "}\n",
              "\n",
              "#sk-container-id-5 div.sk-parallel {\n",
              "  display: flex;\n",
              "  align-items: stretch;\n",
              "  justify-content: center;\n",
              "  background-color: var(--sklearn-color-background);\n",
              "  position: relative;\n",
              "}\n",
              "\n",
              "#sk-container-id-5 div.sk-parallel-item {\n",
              "  display: flex;\n",
              "  flex-direction: column;\n",
              "}\n",
              "\n",
              "#sk-container-id-5 div.sk-parallel-item:first-child::after {\n",
              "  align-self: flex-end;\n",
              "  width: 50%;\n",
              "}\n",
              "\n",
              "#sk-container-id-5 div.sk-parallel-item:last-child::after {\n",
              "  align-self: flex-start;\n",
              "  width: 50%;\n",
              "}\n",
              "\n",
              "#sk-container-id-5 div.sk-parallel-item:only-child::after {\n",
              "  width: 0;\n",
              "}\n",
              "\n",
              "/* Serial-specific style estimator block */\n",
              "\n",
              "#sk-container-id-5 div.sk-serial {\n",
              "  display: flex;\n",
              "  flex-direction: column;\n",
              "  align-items: center;\n",
              "  background-color: var(--sklearn-color-background);\n",
              "  padding-right: 1em;\n",
              "  padding-left: 1em;\n",
              "}\n",
              "\n",
              "\n",
              "/* Toggleable style: style used for estimator/Pipeline/ColumnTransformer box that is\n",
              "clickable and can be expanded/collapsed.\n",
              "- Pipeline and ColumnTransformer use this feature and define the default style\n",
              "- Estimators will overwrite some part of the style using the `sk-estimator` class\n",
              "*/\n",
              "\n",
              "/* Pipeline and ColumnTransformer style (default) */\n",
              "\n",
              "#sk-container-id-5 div.sk-toggleable {\n",
              "  /* Default theme specific background. It is overwritten whether we have a\n",
              "  specific estimator or a Pipeline/ColumnTransformer */\n",
              "  background-color: var(--sklearn-color-background);\n",
              "}\n",
              "\n",
              "/* Toggleable label */\n",
              "#sk-container-id-5 label.sk-toggleable__label {\n",
              "  cursor: pointer;\n",
              "  display: block;\n",
              "  width: 100%;\n",
              "  margin-bottom: 0;\n",
              "  padding: 0.5em;\n",
              "  box-sizing: border-box;\n",
              "  text-align: center;\n",
              "}\n",
              "\n",
              "#sk-container-id-5 label.sk-toggleable__label-arrow:before {\n",
              "  /* Arrow on the left of the label */\n",
              "  content: \"▸\";\n",
              "  float: left;\n",
              "  margin-right: 0.25em;\n",
              "  color: var(--sklearn-color-icon);\n",
              "}\n",
              "\n",
              "#sk-container-id-5 label.sk-toggleable__label-arrow:hover:before {\n",
              "  color: var(--sklearn-color-text);\n",
              "}\n",
              "\n",
              "/* Toggleable content - dropdown */\n",
              "\n",
              "#sk-container-id-5 div.sk-toggleable__content {\n",
              "  max-height: 0;\n",
              "  max-width: 0;\n",
              "  overflow: hidden;\n",
              "  text-align: left;\n",
              "  /* unfitted */\n",
              "  background-color: var(--sklearn-color-unfitted-level-0);\n",
              "}\n",
              "\n",
              "#sk-container-id-5 div.sk-toggleable__content.fitted {\n",
              "  /* fitted */\n",
              "  background-color: var(--sklearn-color-fitted-level-0);\n",
              "}\n",
              "\n",
              "#sk-container-id-5 div.sk-toggleable__content pre {\n",
              "  margin: 0.2em;\n",
              "  border-radius: 0.25em;\n",
              "  color: var(--sklearn-color-text);\n",
              "  /* unfitted */\n",
              "  background-color: var(--sklearn-color-unfitted-level-0);\n",
              "}\n",
              "\n",
              "#sk-container-id-5 div.sk-toggleable__content.fitted pre {\n",
              "  /* unfitted */\n",
              "  background-color: var(--sklearn-color-fitted-level-0);\n",
              "}\n",
              "\n",
              "#sk-container-id-5 input.sk-toggleable__control:checked~div.sk-toggleable__content {\n",
              "  /* Expand drop-down */\n",
              "  max-height: 200px;\n",
              "  max-width: 100%;\n",
              "  overflow: auto;\n",
              "}\n",
              "\n",
              "#sk-container-id-5 input.sk-toggleable__control:checked~label.sk-toggleable__label-arrow:before {\n",
              "  content: \"▾\";\n",
              "}\n",
              "\n",
              "/* Pipeline/ColumnTransformer-specific style */\n",
              "\n",
              "#sk-container-id-5 div.sk-label input.sk-toggleable__control:checked~label.sk-toggleable__label {\n",
              "  color: var(--sklearn-color-text);\n",
              "  background-color: var(--sklearn-color-unfitted-level-2);\n",
              "}\n",
              "\n",
              "#sk-container-id-5 div.sk-label.fitted input.sk-toggleable__control:checked~label.sk-toggleable__label {\n",
              "  background-color: var(--sklearn-color-fitted-level-2);\n",
              "}\n",
              "\n",
              "/* Estimator-specific style */\n",
              "\n",
              "/* Colorize estimator box */\n",
              "#sk-container-id-5 div.sk-estimator input.sk-toggleable__control:checked~label.sk-toggleable__label {\n",
              "  /* unfitted */\n",
              "  background-color: var(--sklearn-color-unfitted-level-2);\n",
              "}\n",
              "\n",
              "#sk-container-id-5 div.sk-estimator.fitted input.sk-toggleable__control:checked~label.sk-toggleable__label {\n",
              "  /* fitted */\n",
              "  background-color: var(--sklearn-color-fitted-level-2);\n",
              "}\n",
              "\n",
              "#sk-container-id-5 div.sk-label label.sk-toggleable__label,\n",
              "#sk-container-id-5 div.sk-label label {\n",
              "  /* The background is the default theme color */\n",
              "  color: var(--sklearn-color-text-on-default-background);\n",
              "}\n",
              "\n",
              "/* On hover, darken the color of the background */\n",
              "#sk-container-id-5 div.sk-label:hover label.sk-toggleable__label {\n",
              "  color: var(--sklearn-color-text);\n",
              "  background-color: var(--sklearn-color-unfitted-level-2);\n",
              "}\n",
              "\n",
              "/* Label box, darken color on hover, fitted */\n",
              "#sk-container-id-5 div.sk-label.fitted:hover label.sk-toggleable__label.fitted {\n",
              "  color: var(--sklearn-color-text);\n",
              "  background-color: var(--sklearn-color-fitted-level-2);\n",
              "}\n",
              "\n",
              "/* Estimator label */\n",
              "\n",
              "#sk-container-id-5 div.sk-label label {\n",
              "  font-family: monospace;\n",
              "  font-weight: bold;\n",
              "  display: inline-block;\n",
              "  line-height: 1.2em;\n",
              "}\n",
              "\n",
              "#sk-container-id-5 div.sk-label-container {\n",
              "  text-align: center;\n",
              "}\n",
              "\n",
              "/* Estimator-specific */\n",
              "#sk-container-id-5 div.sk-estimator {\n",
              "  font-family: monospace;\n",
              "  border: 1px dotted var(--sklearn-color-border-box);\n",
              "  border-radius: 0.25em;\n",
              "  box-sizing: border-box;\n",
              "  margin-bottom: 0.5em;\n",
              "  /* unfitted */\n",
              "  background-color: var(--sklearn-color-unfitted-level-0);\n",
              "}\n",
              "\n",
              "#sk-container-id-5 div.sk-estimator.fitted {\n",
              "  /* fitted */\n",
              "  background-color: var(--sklearn-color-fitted-level-0);\n",
              "}\n",
              "\n",
              "/* on hover */\n",
              "#sk-container-id-5 div.sk-estimator:hover {\n",
              "  /* unfitted */\n",
              "  background-color: var(--sklearn-color-unfitted-level-2);\n",
              "}\n",
              "\n",
              "#sk-container-id-5 div.sk-estimator.fitted:hover {\n",
              "  /* fitted */\n",
              "  background-color: var(--sklearn-color-fitted-level-2);\n",
              "}\n",
              "\n",
              "/* Specification for estimator info (e.g. \"i\" and \"?\") */\n",
              "\n",
              "/* Common style for \"i\" and \"?\" */\n",
              "\n",
              ".sk-estimator-doc-link,\n",
              "a:link.sk-estimator-doc-link,\n",
              "a:visited.sk-estimator-doc-link {\n",
              "  float: right;\n",
              "  font-size: smaller;\n",
              "  line-height: 1em;\n",
              "  font-family: monospace;\n",
              "  background-color: var(--sklearn-color-background);\n",
              "  border-radius: 1em;\n",
              "  height: 1em;\n",
              "  width: 1em;\n",
              "  text-decoration: none !important;\n",
              "  margin-left: 1ex;\n",
              "  /* unfitted */\n",
              "  border: var(--sklearn-color-unfitted-level-1) 1pt solid;\n",
              "  color: var(--sklearn-color-unfitted-level-1);\n",
              "}\n",
              "\n",
              ".sk-estimator-doc-link.fitted,\n",
              "a:link.sk-estimator-doc-link.fitted,\n",
              "a:visited.sk-estimator-doc-link.fitted {\n",
              "  /* fitted */\n",
              "  border: var(--sklearn-color-fitted-level-1) 1pt solid;\n",
              "  color: var(--sklearn-color-fitted-level-1);\n",
              "}\n",
              "\n",
              "/* On hover */\n",
              "div.sk-estimator:hover .sk-estimator-doc-link:hover,\n",
              ".sk-estimator-doc-link:hover,\n",
              "div.sk-label-container:hover .sk-estimator-doc-link:hover,\n",
              ".sk-estimator-doc-link:hover {\n",
              "  /* unfitted */\n",
              "  background-color: var(--sklearn-color-unfitted-level-3);\n",
              "  color: var(--sklearn-color-background);\n",
              "  text-decoration: none;\n",
              "}\n",
              "\n",
              "div.sk-estimator.fitted:hover .sk-estimator-doc-link.fitted:hover,\n",
              ".sk-estimator-doc-link.fitted:hover,\n",
              "div.sk-label-container:hover .sk-estimator-doc-link.fitted:hover,\n",
              ".sk-estimator-doc-link.fitted:hover {\n",
              "  /* fitted */\n",
              "  background-color: var(--sklearn-color-fitted-level-3);\n",
              "  color: var(--sklearn-color-background);\n",
              "  text-decoration: none;\n",
              "}\n",
              "\n",
              "/* Span, style for the box shown on hovering the info icon */\n",
              ".sk-estimator-doc-link span {\n",
              "  display: none;\n",
              "  z-index: 9999;\n",
              "  position: relative;\n",
              "  font-weight: normal;\n",
              "  right: .2ex;\n",
              "  padding: .5ex;\n",
              "  margin: .5ex;\n",
              "  width: min-content;\n",
              "  min-width: 20ex;\n",
              "  max-width: 50ex;\n",
              "  color: var(--sklearn-color-text);\n",
              "  box-shadow: 2pt 2pt 4pt #999;\n",
              "  /* unfitted */\n",
              "  background: var(--sklearn-color-unfitted-level-0);\n",
              "  border: .5pt solid var(--sklearn-color-unfitted-level-3);\n",
              "}\n",
              "\n",
              ".sk-estimator-doc-link.fitted span {\n",
              "  /* fitted */\n",
              "  background: var(--sklearn-color-fitted-level-0);\n",
              "  border: var(--sklearn-color-fitted-level-3);\n",
              "}\n",
              "\n",
              ".sk-estimator-doc-link:hover span {\n",
              "  display: block;\n",
              "}\n",
              "\n",
              "/* \"?\"-specific style due to the `<a>` HTML tag */\n",
              "\n",
              "#sk-container-id-5 a.estimator_doc_link {\n",
              "  float: right;\n",
              "  font-size: 1rem;\n",
              "  line-height: 1em;\n",
              "  font-family: monospace;\n",
              "  background-color: var(--sklearn-color-background);\n",
              "  border-radius: 1rem;\n",
              "  height: 1rem;\n",
              "  width: 1rem;\n",
              "  text-decoration: none;\n",
              "  /* unfitted */\n",
              "  color: var(--sklearn-color-unfitted-level-1);\n",
              "  border: var(--sklearn-color-unfitted-level-1) 1pt solid;\n",
              "}\n",
              "\n",
              "#sk-container-id-5 a.estimator_doc_link.fitted {\n",
              "  /* fitted */\n",
              "  border: var(--sklearn-color-fitted-level-1) 1pt solid;\n",
              "  color: var(--sklearn-color-fitted-level-1);\n",
              "}\n",
              "\n",
              "/* On hover */\n",
              "#sk-container-id-5 a.estimator_doc_link:hover {\n",
              "  /* unfitted */\n",
              "  background-color: var(--sklearn-color-unfitted-level-3);\n",
              "  color: var(--sklearn-color-background);\n",
              "  text-decoration: none;\n",
              "}\n",
              "\n",
              "#sk-container-id-5 a.estimator_doc_link.fitted:hover {\n",
              "  /* fitted */\n",
              "  background-color: var(--sklearn-color-fitted-level-3);\n",
              "}\n",
              "</style><div id=\"sk-container-id-5\" class=\"sk-top-container\"><div class=\"sk-text-repr-fallback\"><pre>LinearRegression()</pre><b>In a Jupyter environment, please rerun this cell to show the HTML representation or trust the notebook. <br />On GitHub, the HTML representation is unable to render, please try loading this page with nbviewer.org.</b></div><div class=\"sk-container\" hidden><div class=\"sk-item\"><div class=\"sk-estimator fitted sk-toggleable\"><input class=\"sk-toggleable__control sk-hidden--visually\" id=\"sk-estimator-id-5\" type=\"checkbox\" checked><label for=\"sk-estimator-id-5\" class=\"sk-toggleable__label fitted sk-toggleable__label-arrow fitted\">&nbsp;&nbsp;LinearRegression<a class=\"sk-estimator-doc-link fitted\" rel=\"noreferrer\" target=\"_blank\" href=\"https://scikit-learn.org/1.5/modules/generated/sklearn.linear_model.LinearRegression.html\">?<span>Documentation for LinearRegression</span></a><span class=\"sk-estimator-doc-link fitted\">i<span>Fitted</span></span></label><div class=\"sk-toggleable__content fitted\"><pre>LinearRegression()</pre></div> </div></div></div></div>"
            ],
            "text/plain": [
              "LinearRegression()"
            ]
          },
          "execution_count": 132,
          "metadata": {},
          "output_type": "execute_result"
        }
      ],
      "source": [
        "model.fit(X, y)"
      ]
    },
    {
      "cell_type": "markdown",
      "metadata": {
        "id": "P9wV_g3XvkGx"
      },
      "source": [
        "Выводим найденные коэффициенты линейной регрессии.\n",
        "\n",
        "Свободный коэффициент:"
      ]
    },
    {
      "cell_type": "code",
      "execution_count": null,
      "metadata": {
        "colab": {
          "base_uri": "https://localhost:8080/"
        },
        "id": "MIkqUYtPwAaY",
        "outputId": "f15d9117-4885-4df1-a981-f170ddc1194b"
      },
      "outputs": [
        {
          "data": {
            "text/plain": [
              "1.691426699296051"
            ]
          },
          "execution_count": 133,
          "metadata": {},
          "output_type": "execute_result"
        }
      ],
      "source": [
        "model.intercept_"
      ]
    },
    {
      "cell_type": "markdown",
      "metadata": {
        "id": "HVt_rKxIvkGx"
      },
      "source": [
        "Веса:"
      ]
    },
    {
      "cell_type": "code",
      "execution_count": null,
      "metadata": {
        "colab": {
          "base_uri": "https://localhost:8080/"
        },
        "id": "f_lOeOwrwAaY",
        "outputId": "c823742a-4203-4444-b48e-911aa4d3d073"
      },
      "outputs": [
        {
          "data": {
            "text/plain": [
              "array([28.34273825, 46.0063814 , 16.71776866, 24.63911531, 19.1812038 ])"
            ]
          },
          "execution_count": 134,
          "metadata": {},
          "output_type": "execute_result"
        }
      ],
      "source": [
        "model.coef_"
      ]
    },
    {
      "cell_type": "markdown",
      "metadata": {
        "id": "EDblKsG4wAaA"
      },
      "source": [
        "### 1. Генерирую данные и значения целевой переменной (метки) для задачи регрессии, имеющие 5 признаков и 10000 наблюдений. Целевая переменная зависит только от 3 признаков"
      ]
    },
    {
      "cell_type": "code",
      "execution_count": null,
      "metadata": {
        "id": "bGXtbty1vkGy",
        "outputId": "aba5f4d3-4f1b-4590-ceb8-0ff8c90da72d"
      },
      "outputs": [
        {
          "data": {
            "text/html": [
              "<div>\n",
              "<style scoped>\n",
              "    .dataframe tbody tr th:only-of-type {\n",
              "        vertical-align: middle;\n",
              "    }\n",
              "\n",
              "    .dataframe tbody tr th {\n",
              "        vertical-align: top;\n",
              "    }\n",
              "\n",
              "    .dataframe thead th {\n",
              "        text-align: right;\n",
              "    }\n",
              "</style>\n",
              "<table border=\"1\" class=\"dataframe\">\n",
              "  <thead>\n",
              "    <tr style=\"text-align: right;\">\n",
              "      <th></th>\n",
              "      <th>x1</th>\n",
              "      <th>x2</th>\n",
              "      <th>x3</th>\n",
              "      <th>x4</th>\n",
              "      <th>x5</th>\n",
              "      <th>y</th>\n",
              "    </tr>\n",
              "  </thead>\n",
              "  <tbody>\n",
              "    <tr>\n",
              "      <th>0</th>\n",
              "      <td>1.626721</td>\n",
              "      <td>-0.779551</td>\n",
              "      <td>0.424998</td>\n",
              "      <td>-0.924470</td>\n",
              "      <td>-0.155994</td>\n",
              "      <td>67.142573</td>\n",
              "    </tr>\n",
              "    <tr>\n",
              "      <th>1</th>\n",
              "      <td>0.857459</td>\n",
              "      <td>-0.220779</td>\n",
              "      <td>-0.141095</td>\n",
              "      <td>2.186978</td>\n",
              "      <td>-2.083955</td>\n",
              "      <td>87.968149</td>\n",
              "    </tr>\n",
              "    <tr>\n",
              "      <th>2</th>\n",
              "      <td>-0.230691</td>\n",
              "      <td>1.048480</td>\n",
              "      <td>-0.467983</td>\n",
              "      <td>-0.752907</td>\n",
              "      <td>-0.398645</td>\n",
              "      <td>-72.138773</td>\n",
              "    </tr>\n",
              "    <tr>\n",
              "      <th>3</th>\n",
              "      <td>-1.869872</td>\n",
              "      <td>1.547900</td>\n",
              "      <td>-0.454870</td>\n",
              "      <td>-0.263953</td>\n",
              "      <td>0.218162</td>\n",
              "      <td>-143.134080</td>\n",
              "    </tr>\n",
              "    <tr>\n",
              "      <th>4</th>\n",
              "      <td>0.856100</td>\n",
              "      <td>-0.384842</td>\n",
              "      <td>-0.199262</td>\n",
              "      <td>-1.470867</td>\n",
              "      <td>0.718149</td>\n",
              "      <td>18.634717</td>\n",
              "    </tr>\n",
              "    <tr>\n",
              "      <th>5</th>\n",
              "      <td>2.383773</td>\n",
              "      <td>0.065914</td>\n",
              "      <td>-1.059849</td>\n",
              "      <td>-1.417333</td>\n",
              "      <td>-0.244134</td>\n",
              "      <td>94.549823</td>\n",
              "    </tr>\n",
              "    <tr>\n",
              "      <th>6</th>\n",
              "      <td>0.172199</td>\n",
              "      <td>-0.213503</td>\n",
              "      <td>0.271128</td>\n",
              "      <td>0.795829</td>\n",
              "      <td>0.126306</td>\n",
              "      <td>58.601912</td>\n",
              "    </tr>\n",
              "    <tr>\n",
              "      <th>7</th>\n",
              "      <td>-0.519117</td>\n",
              "      <td>1.246374</td>\n",
              "      <td>0.104198</td>\n",
              "      <td>-0.518854</td>\n",
              "      <td>1.317810</td>\n",
              "      <td>-9.893685</td>\n",
              "    </tr>\n",
              "    <tr>\n",
              "      <th>8</th>\n",
              "      <td>-0.580615</td>\n",
              "      <td>0.255348</td>\n",
              "      <td>-0.162105</td>\n",
              "      <td>-1.409135</td>\n",
              "      <td>-1.445290</td>\n",
              "      <td>-175.284135</td>\n",
              "    </tr>\n",
              "    <tr>\n",
              "      <th>9</th>\n",
              "      <td>1.364031</td>\n",
              "      <td>0.585618</td>\n",
              "      <td>-0.772499</td>\n",
              "      <td>-0.068270</td>\n",
              "      <td>-0.114988</td>\n",
              "      <td>92.972144</td>\n",
              "    </tr>\n",
              "  </tbody>\n",
              "</table>\n",
              "</div>"
            ],
            "text/plain": [
              "         x1        x2        x3        x4        x5           y\n",
              "0  1.626721 -0.779551  0.424998 -0.924470 -0.155994   67.142573\n",
              "1  0.857459 -0.220779 -0.141095  2.186978 -2.083955   87.968149\n",
              "2 -0.230691  1.048480 -0.467983 -0.752907 -0.398645  -72.138773\n",
              "3 -1.869872  1.547900 -0.454870 -0.263953  0.218162 -143.134080\n",
              "4  0.856100 -0.384842 -0.199262 -1.470867  0.718149   18.634717\n",
              "5  2.383773  0.065914 -1.059849 -1.417333 -0.244134   94.549823\n",
              "6  0.172199 -0.213503  0.271128  0.795829  0.126306   58.601912\n",
              "7 -0.519117  1.246374  0.104198 -0.518854  1.317810   -9.893685\n",
              "8 -0.580615  0.255348 -0.162105 -1.409135 -1.445290 -175.284135\n",
              "9  1.364031  0.585618 -0.772499 -0.068270 -0.114988   92.972144"
            ]
          },
          "execution_count": 3,
          "metadata": {},
          "output_type": "execute_result"
        }
      ],
      "source": [
        "X, y = make_regression(n_samples=10000, n_features=5, n_informative=3, random_state=0)\n",
        "df = pd.DataFrame(X, columns=['x1', 'x2', 'x3', 'x4', 'x5'])\n",
        "df['y'] = y\n",
        "df.head(10)"
      ]
    },
    {
      "cell_type": "code",
      "execution_count": null,
      "metadata": {
        "id": "bISMlot6vkGy",
        "outputId": "8619bd62-67a4-4621-bc8e-f33a6abc862f"
      },
      "outputs": [
        {
          "data": {
            "text/html": [
              "<div>\n",
              "<style scoped>\n",
              "    .dataframe tbody tr th:only-of-type {\n",
              "        vertical-align: middle;\n",
              "    }\n",
              "\n",
              "    .dataframe tbody tr th {\n",
              "        vertical-align: top;\n",
              "    }\n",
              "\n",
              "    .dataframe thead th {\n",
              "        text-align: right;\n",
              "    }\n",
              "</style>\n",
              "<table border=\"1\" class=\"dataframe\">\n",
              "  <thead>\n",
              "    <tr style=\"text-align: right;\">\n",
              "      <th></th>\n",
              "      <th>x1</th>\n",
              "      <th>x2</th>\n",
              "      <th>x3</th>\n",
              "      <th>x4</th>\n",
              "      <th>x5</th>\n",
              "      <th>y</th>\n",
              "    </tr>\n",
              "  </thead>\n",
              "  <tbody>\n",
              "    <tr>\n",
              "      <th>count</th>\n",
              "      <td>10000.000000</td>\n",
              "      <td>10000.000000</td>\n",
              "      <td>10000.000000</td>\n",
              "      <td>10000.000000</td>\n",
              "      <td>10000.000000</td>\n",
              "      <td>10000.000000</td>\n",
              "    </tr>\n",
              "    <tr>\n",
              "      <th>mean</th>\n",
              "      <td>-0.003364</td>\n",
              "      <td>-0.001443</td>\n",
              "      <td>-0.010589</td>\n",
              "      <td>0.010414</td>\n",
              "      <td>-0.013988</td>\n",
              "      <td>-0.303792</td>\n",
              "    </tr>\n",
              "    <tr>\n",
              "      <th>std</th>\n",
              "      <td>1.001951</td>\n",
              "      <td>0.986802</td>\n",
              "      <td>0.998171</td>\n",
              "      <td>1.000669</td>\n",
              "      <td>0.995673</td>\n",
              "      <td>99.358758</td>\n",
              "    </tr>\n",
              "    <tr>\n",
              "      <th>min</th>\n",
              "      <td>-4.659953</td>\n",
              "      <td>-3.581046</td>\n",
              "      <td>-4.446632</td>\n",
              "      <td>-3.643294</td>\n",
              "      <td>-3.740101</td>\n",
              "      <td>-370.126227</td>\n",
              "    </tr>\n",
              "    <tr>\n",
              "      <th>25%</th>\n",
              "      <td>-0.679329</td>\n",
              "      <td>-0.652036</td>\n",
              "      <td>-0.687830</td>\n",
              "      <td>-0.661317</td>\n",
              "      <td>-0.678148</td>\n",
              "      <td>-67.669460</td>\n",
              "    </tr>\n",
              "    <tr>\n",
              "      <th>50%</th>\n",
              "      <td>-0.007264</td>\n",
              "      <td>-0.003734</td>\n",
              "      <td>-0.004055</td>\n",
              "      <td>0.010021</td>\n",
              "      <td>-0.007242</td>\n",
              "      <td>0.993723</td>\n",
              "    </tr>\n",
              "    <tr>\n",
              "      <th>75%</th>\n",
              "      <td>0.673609</td>\n",
              "      <td>0.648089</td>\n",
              "      <td>0.669284</td>\n",
              "      <td>0.692359</td>\n",
              "      <td>0.660202</td>\n",
              "      <td>68.118523</td>\n",
              "    </tr>\n",
              "    <tr>\n",
              "      <th>max</th>\n",
              "      <td>3.636102</td>\n",
              "      <td>3.803844</td>\n",
              "      <td>3.831790</td>\n",
              "      <td>3.702938</td>\n",
              "      <td>3.598310</td>\n",
              "      <td>385.544409</td>\n",
              "    </tr>\n",
              "  </tbody>\n",
              "</table>\n",
              "</div>"
            ],
            "text/plain": [
              "                 x1            x2            x3            x4            x5  \\\n",
              "count  10000.000000  10000.000000  10000.000000  10000.000000  10000.000000   \n",
              "mean      -0.003364     -0.001443     -0.010589      0.010414     -0.013988   \n",
              "std        1.001951      0.986802      0.998171      1.000669      0.995673   \n",
              "min       -4.659953     -3.581046     -4.446632     -3.643294     -3.740101   \n",
              "25%       -0.679329     -0.652036     -0.687830     -0.661317     -0.678148   \n",
              "50%       -0.007264     -0.003734     -0.004055      0.010021     -0.007242   \n",
              "75%        0.673609      0.648089      0.669284      0.692359      0.660202   \n",
              "max        3.636102      3.803844      3.831790      3.702938      3.598310   \n",
              "\n",
              "                  y  \n",
              "count  10000.000000  \n",
              "mean      -0.303792  \n",
              "std       99.358758  \n",
              "min     -370.126227  \n",
              "25%      -67.669460  \n",
              "50%        0.993723  \n",
              "75%       68.118523  \n",
              "max      385.544409  "
            ]
          },
          "execution_count": 4,
          "metadata": {},
          "output_type": "execute_result"
        }
      ],
      "source": [
        "df.describe()"
      ]
    },
    {
      "cell_type": "markdown",
      "metadata": {
        "id": "WlcwqjLJvkGy"
      },
      "source": [
        "### 2. Вычисляю матрицу корреляции"
      ]
    },
    {
      "cell_type": "code",
      "source": [],
      "metadata": {
        "id": "cwbBZxcVwRXy"
      },
      "execution_count": null,
      "outputs": []
    },
    {
      "cell_type": "code",
      "execution_count": null,
      "metadata": {
        "id": "cyaGA0COvkGy",
        "outputId": "e173163b-2fce-4387-85e5-5e4183c9039e"
      },
      "outputs": [
        {
          "data": {
            "image/png": "[encoded data removed]",
            "text/plain": [
              "<Figure size 640x480 with 2 Axes>"
            ]
          },
          "metadata": {},
          "output_type": "display_data"
        }
      ],
      "source": [
        "corr_matrix = df.corr()\n",
        "sns.heatmap(corr_matrix, annot=True)\n",
        "plt.show()"
      ]
    },
    {
      "cell_type": "markdown",
      "metadata": {
        "id": "u7XfnFf6vkGz"
      },
      "source": [
        "### 3. Функция X_, которая принимает матрицу X (двумерный numpy-массив) и присоединяет столбец единиц к X слева."
      ]
    },
    {
      "cell_type": "code",
      "execution_count": null,
      "metadata": {
        "id": "cZyc_Lo2vkGz"
      },
      "outputs": [],
      "source": [
        "def X_(X):\n",
        "    ones = np.ones((X.shape[0], 1))\n",
        "    return np.hstack((ones, X))\n",
        "X_tilde = X_(X)\n"
      ]
    },
    {
      "cell_type": "markdown",
      "metadata": {
        "id": "GjLvSZ_mvkGz"
      },
      "source": [
        "### 4. Напишите функцию, вычисляющую предсказание значения целевой переменной, как линейную функцию признака $\\vec{\\hat{y}} =\\tilde{X}\\vec{w}$, где $\\tilde{X} $ - матрица признаков с присоединённым слева столбцом единиц. Назовите её predict. Вычислите её значения на сгенерированных данных X в случайной точке $w$."
      ]
    },
    {
      "cell_type": "code",
      "execution_count": null,
      "metadata": {
        "id": "ld7lxAoTvkGz"
      },
      "outputs": [],
      "source": [
        "def predict(X_tilde, w):\n",
        "    return X_tilde @ w\n",
        "w_random = np.random.rand(X_tilde.shape[1])\n",
        "y_pred = predict(X_tilde, w_random)"
      ]
    },
    {
      "cell_type": "markdown",
      "metadata": {
        "id": "sCkTmtqyvkGz"
      },
      "source": [
        "### 5. Напишите функцию ошибки (loss) линейной регрессии с множеством признаков в матричном виде. Примените функцию к сгенерированным выше данным X, y, а в качестве $w$ возьмите столбец случайных чисел.\n",
        "Указание: $L = \\frac{1}{n}(\\tilde{X}\\vec{w}- \\vec{y})^{T}(\\tilde{X}\\vec{w}- \\vec{y})$, здесь $\\tilde{X}$ - это матрица X c присоединённым к ней столбцом единиц слева, а n - число строк матрицы X. Число элементов в $w$ должно соответствовать количеству столбцов в $\\tilde{X}$."
      ]
    },
    {
      "cell_type": "code",
      "execution_count": null,
      "metadata": {
        "id": "IHI6qhsEvkGz"
      },
      "outputs": [],
      "source": [
        "def loss(X_tilde, y, w):\n",
        "    n = X_tilde.shape[0]\n",
        "    residuals = X_tilde @ w - y\n",
        "    return (1/n) * residuals.T @ residuals\n",
        "L_value = loss(X_tilde, y, w_random)"
      ]
    },
    {
      "cell_type": "markdown",
      "metadata": {
        "id": "dejU_eixwAaE"
      },
      "source": [
        "### 6. Напишите функцию, которая вычисляет градиент функции ошибки (loss) с множеством признаков в матричном виде. Примените функцию к сгенерированным выше данным X, y, а в качестве $w$ возьмите столбец случайных чисел.\n",
        "\n",
        "Указание: $\\overrightarrow{{grad} (L)}  = \\frac{2}{n}\\tilde{X}^T(\\tilde{X}\\vec w- \\vec y)$, здесь $\\tilde{X}$ - это матрица X c присоединённым к ней столбцом единиц слева, а n - число строк матрицы X. Назовите созданную функцию gradient_F. Примените функцию к сгенерированным выше данным X, y, а в качестве $w$ возьмите столбец случайных чисел."
      ]
    },
    {
      "cell_type": "code",
      "execution_count": null,
      "metadata": {
        "id": "RYIajd9lvkGz"
      },
      "outputs": [],
      "source": [
        "def gradient_F(X_tilde, y, w):\n",
        "    n = X_tilde.shape[0]\n",
        "    return (2/n) * X_tilde.T @ (X_tilde @ w - y)\n",
        "grad_L = gradient_F(X_tilde, y, w_random)"
      ]
    },
    {
      "cell_type": "markdown",
      "metadata": {
        "id": "cfvz4uwJwAaF"
      },
      "source": [
        "### 7. Создайте класс Linear_Regression_GD, реализующий модель линейной регрессии для данных имеющих произвольное количество признаков (столбцов). Создайте экземпляр класса, обучите модель и выведите получившиеся коэффициенты гиперплоскости (смещение и веса).\n",
        "Указание: Необходимо создать класс, реализующий метод градиентного спуска для функции ошибки L.\n",
        "Воспользуйтесь для этого классом GradientDiscent, написанный в предыдущих ноутбуках, подставив туда методы X_ и gradient_L. В методе fit задайте стартовое значение массивом нулей нужной длины. В функции GD параметры a и b можно заменить на X, y для наглядности."
      ]
    },
    {
      "cell_type": "raw",
      "metadata": {
        "id": "nUdAsAQ2vkGz"
      },
      "source": [
        "class GradientDiscent():\n",
        "    def __init__(self, max_iter):\n",
        "        self.w = None\n",
        "        self.max_iter_ = max_iter\n",
        "\n",
        "    def gradient_F(self, X, y):\n",
        "\n",
        "        return ........\n",
        "\n",
        "    def GD(self, a, b, w_start, learning_rate=0.2):\n",
        "        self.w = w_start\n",
        "\n",
        "        for _ in range(self.max_iter_):\n",
        "            self.w = self.w - learning_rate *self.gradient_F(a, b)\n",
        "        assert (-1e+06 < self.w).all() and (self.w < 1e+06).all(), \"Расходимость: слишком большой learning_rate, либо неудачно выбрана начальная точка, либо минимум не достигается\"\n",
        "        assert (-1e-04 < self.gradient_F(a, b)).all() and (self.gradient_F(a, b) < 1e-04).all(), \"Недостаточно шагов градиентного спуска\"\n",
        "\n",
        "    def fit(self, a, b):\n",
        "        w_start = np.zeros(2)\n",
        "        self.GD(a, b, w_start)"
      ]
    },
    {
      "cell_type": "code",
      "execution_count": null,
      "metadata": {
        "id": "4bwVE-M3vkGz",
        "outputId": "43615a64-f38b-448c-9a16-671d1435898a"
      },
      "outputs": [
        {
          "name": "stdout",
          "output_type": "stream",
          "text": [
            "Weights: [-2.53595597e-09  7.42324779e+01 -7.24115036e-08  1.92165753e-08\n",
            "  5.09413847e+01  4.17911587e+01]\n"
          ]
        }
      ],
      "source": [
        "class Linear_Regression_GD():\n",
        "    def __init__(self, max_iter):\n",
        "        self.w = None\n",
        "        self.max_iter_ = max_iter\n",
        "\n",
        "    def X_(self, X):\n",
        "        ones = np.ones((X.shape[0], 1))\n",
        "        return np.hstack((ones, X))\n",
        "\n",
        "    def gradient_F(self, X_tilde, y):\n",
        "        n = X_tilde.shape[0]\n",
        "        return (2/n) * X_tilde.T @ (X_tilde @ self.w - y)\n",
        "\n",
        "    def GD(self, X_tilde, y, w_start, learning_rate=0.01):\n",
        "        self.w = w_start\n",
        "        for _ in range(self.max_iter_):\n",
        "            grad = self.gradient_F(X_tilde, y)\n",
        "            self.w = self.w - learning_rate * grad\n",
        "\n",
        "    def fit(self, X, y):\n",
        "        X_tilde = self.X_(X)\n",
        "        w_start = np.zeros(X_tilde.shape[1])\n",
        "        self.GD(X_tilde, y, w_start)\n",
        "\n",
        "    def predict(self, X):\n",
        "        X_tilde = self.X_(X)\n",
        "        return X_tilde @ self.w\n",
        "\n",
        "model_gd = Linear_Regression_GD(max_iter=1000)\n",
        "model_gd.fit(X, y)\n",
        "print(\"Weights:\", model_gd.w)"
      ]
    },
    {
      "cell_type": "markdown",
      "metadata": {
        "id": "0QgIo9yp4r_y"
      },
      "source": [
        "### 8. Напечатайте уравнение гиперплоскости, полученной в результате применения модели линейной регрессии к данным X, y.\n",
        "Указание: Используйте print. Уравнение гиперплоскости должно иметь вид $y = w_0 + w_1 x_1+ w_2 x_2 + \\dots + w_m x_m$. Выводите коэффициенты гиперплоскости с точностью два знака после запятой. Учтите то, что эти коэффициенты могут быть и отрицательными."
      ]
    },
    {
      "cell_type": "code",
      "execution_count": null,
      "metadata": {
        "id": "bb_iIKT7vkG0",
        "outputId": "52a462ca-ae41-4bd6-cd39-2b7a4ce08fc5"
      },
      "outputs": [
        {
          "name": "stdout",
          "output_type": "stream",
          "text": [
            "y = -0.00 + 74.23 x1 - 0.00 x2 + 0.00 x3 + 50.94 x4 + 41.79 x5\n"
          ]
        }
      ],
      "source": [
        "coeffs = model_gd.w\n",
        "equation = \"y = \"\n",
        "equation += f\"{coeffs[0]:.2f}\"\n",
        "for i in range(1, len(coeffs)):\n",
        "    coef = coeffs[i]\n",
        "    sign = \"+\" if coef >= 0 else \"-\"\n",
        "    equation += f\" {sign} {abs(coef):.2f} x{i}\"\n",
        "print(equation)"
      ]
    },
    {
      "cell_type": "markdown",
      "metadata": {
        "id": "hfwuIMDG_0-H"
      },
      "source": [
        "### 9. Создайте новое наблюдение, например, взяв среднее значение по каждому столбцу X. Сделайте предсказание на нём.\n",
        "Указание: Обртите внимание, что метод predict принимает только двумерные numpy-массивы."
      ]
    },
    {
      "cell_type": "code",
      "execution_count": null,
      "metadata": {
        "id": "ICtVtd5fvkG0",
        "outputId": "a4cc8374-a375-4a17-ff22-0eeee2d3edf6"
      },
      "outputs": [
        {
          "name": "stdout",
          "output_type": "stream",
          "text": [
            "Predicted value: -0.303792322146321\n"
          ]
        }
      ],
      "source": [
        "x_new = X.mean(axis=0)\n",
        "x_new = x_new.reshape(1, -1)\n",
        "y_new_pred = model_gd.predict(x_new)\n",
        "print(\"Predicted value:\", y_new_pred[0])\n"
      ]
    },
    {
      "cell_type": "markdown",
      "metadata": {
        "id": "Uf7zZP4FcU1x"
      },
      "source": [
        "### 10. Создайте класс Linear_Regression_analytical, реализующий модель линейной регрессии, где оптимальное значение находится аналитически. Создайте экземпляр класса, обучите модель и выведите получившиеся коэффициенты гиперплоскости (смещение и веса). Сравните с результатами, полученными методом градиентного спуска.\n",
        "\n",
        "Указание: За основу возьмите класс Linear_Regression, только удалите в нём атрибут max_iter_ методы gradient_F и GD, а в методе fit возвращайте выражение: $(\\tilde{X}^T \\tilde{X})^{-1}\\tilde{X}\\vec y$"
      ]
    },
    {
      "cell_type": "code",
      "execution_count": null,
      "metadata": {
        "id": "DxfMTGG0vkG0",
        "outputId": "fded43b5-0273-407a-f718-29aa85fb6619"
      },
      "outputs": [
        {
          "name": "stdout",
          "output_type": "stream",
          "text": [
            "Weights (analytical): [-4.44089210e-16  7.42324780e+01  2.60902411e-15 -4.44089210e-16\n",
            "  5.09413848e+01  4.17911588e+01]\n"
          ]
        }
      ],
      "source": [
        "class Linear_Regression_analytical():\n",
        "    def __init__(self):\n",
        "        self.w = None\n",
        "\n",
        "    def X_(self, X):\n",
        "        ones = np.ones((X.shape[0], 1))\n",
        "        return np.hstack((ones, X))\n",
        "\n",
        "    def fit(self, X, y):\n",
        "        X_tilde = self.X_(X)\n",
        "        self.w = np.linalg.inv(X_tilde.T @ X_tilde) @ X_tilde.T @ y\n",
        "\n",
        "    def predict(self, X):\n",
        "        X_tilde = self.X_(X)\n",
        "        return X_tilde @ self.w\n",
        "\n",
        "model_analytical = Linear_Regression_analytical()\n",
        "model_analytical.fit(X, y)\n",
        "print(\"Weights (analytical):\", model_analytical.w)"
      ]
    },
    {
      "cell_type": "markdown",
      "metadata": {
        "id": "QjU8kQMS4-mi"
      },
      "source": [
        "### 11. Создайте класс Linear_Regression_equation, реализующий модель линейной регрессии через решение нормального уравнения. Создайте экземпляр класса, обучите модель и выведите получившиеся коэффициенты гиперплоскости. Сравните с результатами, полученными аналитическим методом.\n",
        "\n",
        "Указание: За основу возьмите класс Linear_Regression_analitical, только в методе fit реализуйте решение матричного уравнения $\\tilde{X}^T\\tilde{X}\\vec w = \\tilde{X}^T\\vec y$. Это может быть сделано с помощью [numpy.linalg.solve](http://docs.scipy.org/doc/numpy-1.10.1/reference/generated/numpy.linalg.solve.html) решающего уравнение вида $А\\vec w = \\vec b$."
      ]
    },
    {
      "cell_type": "code",
      "execution_count": null,
      "metadata": {
        "id": "_6AEwrtzvkG7",
        "outputId": "81e0aeac-80fe-43d5-da66-1b1e715b7ff5"
      },
      "outputs": [
        {
          "name": "stdout",
          "output_type": "stream",
          "text": [
            "Weights (normal equation): [ 7.27595761e-16  7.42324780e+01  1.03762549e-15 -1.46077889e-15\n",
            "  5.09413848e+01  4.17911588e+01]\n"
          ]
        }
      ],
      "source": [
        "class Linear_Regression_equation():\n",
        "    def __init__(self):\n",
        "        self.w = None\n",
        "\n",
        "    def X_(self, X):\n",
        "        ones = np.ones((X.shape[0], 1))\n",
        "        return np.hstack((ones, X))\n",
        "\n",
        "    def fit(self, X, y):\n",
        "        X_tilde = self.X_(X)\n",
        "        A = X_tilde.T @ X_tilde\n",
        "        b = X_tilde.T @ y\n",
        "        self.w = np.linalg.solve(A, b)\n",
        "\n",
        "    def predict(self, X):\n",
        "        X_tilde = self.X_(X)\n",
        "        return X_tilde @ self.w\n",
        "\n",
        "model_equation = Linear_Regression_equation()\n",
        "model_equation.fit(X, y)\n",
        "print(\"Weights (normal equation):\", model_equation.w)"
      ]
    },
    {
      "cell_type": "markdown",
      "metadata": {
        "id": "FJC6IqmqvkG7"
      },
      "source": [
        "### 12. Замерьте время обучения моделей линейной регрессии, реализованных методом градиентного спуска, аналитическим методом и решением нормального уравнения на сгенерированных данных. Какая из них работает быстрее для данного набора данных?\n",
        "Указание: Для замера времени используйте %timeit.\n",
        "\n",
        "µs - это микросекунда (1 µs = 0,000001 sec), ms - это миллисекунда (1 ms = 0.001 sec)."
      ]
    },
    {
      "cell_type": "code",
      "execution_count": null,
      "metadata": {
        "id": "S530VNPmvkG7",
        "outputId": "c2876eeb-6b62-4587-ff07-1538bb4fe419"
      },
      "outputs": [
        {
          "name": "stdout",
          "output_type": "stream",
          "text": [
            "332 ms ± 27 ms per loop (mean ± std. dev. of 7 runs, 1 loop each)\n",
            "637 µs ± 34.5 µs per loop (mean ± std. dev. of 7 runs, 1,000 loops each)\n",
            "480 µs ± 28.7 µs per loop (mean ± std. dev. of 7 runs, 1,000 loops each)\n"
          ]
        }
      ],
      "source": [
        "%timeit model_gd.fit(X, y)\n",
        "%timeit model_analytical.fit(X, y)\n",
        "%timeit model_equation.fit(X, y)\n"
      ]
    },
    {
      "cell_type": "markdown",
      "metadata": {
        "id": "n2yvqUwkGuno"
      },
      "source": [
        "### 13. Реализуйте в классе Linear_Regression_GD оптимизацию не методом градиентного спуска, а методом стохастического градиентного спуска. Назовите полученный класс Linear_Regression_SGD. Вычислите коэффициенты гиперплоскости w и убедитесь, что они получились примерно теми же.\n",
        "Указание: Изменения произведите в методе gradient_F таким образом, чтобы градиент вычислялся не на всех значениях X и y, а на случайно выбранных наблюдениях в количестве size=600. Перемешать индексы случайным образом и выбрать из них нужное количество можно при помощи [np.random.choice](https://numpy.org/doc/stable/reference/random/generated/numpy.random.choice.html). Не забудьте зафиксировать np.random.seed(42)."
      ]
    },
    {
      "cell_type": "code",
      "execution_count": null,
      "metadata": {
        "id": "Y6X1IIyTvkG7",
        "outputId": "f7ff3c29-4e71-4731-e46b-4fd4f15500d1"
      },
      "outputs": [
        {
          "name": "stdout",
          "output_type": "stream",
          "text": [
            "Weights (SGD): [ 7.72058770e-09  7.42324779e+01 -7.92409850e-08  1.67899140e-08\n",
            "  5.09413847e+01  4.17911587e+01]\n"
          ]
        }
      ],
      "source": [
        "class Linear_Regression_SGD():\n",
        "    def __init__(self, max_iter):\n",
        "        self.w = None\n",
        "        self.max_iter_ = max_iter\n",
        "\n",
        "    def X_(self, X):\n",
        "        ones = np.ones((X.shape[0], 1))\n",
        "        return np.hstack((ones, X))\n",
        "\n",
        "    def GD(self, X_tilde, y, w_start, learning_rate=0.01):\n",
        "        self.w = w_start\n",
        "        n = X_tilde.shape[0]\n",
        "        np.random.seed(42)\n",
        "        for _ in range(self.max_iter_):\n",
        "            indices = np.random.choice(n, size=600, replace=False)\n",
        "            X_sample = X_tilde[indices]\n",
        "            y_sample = y[indices]\n",
        "            grad = (2/600) * X_sample.T @ (X_sample @ self.w - y_sample)\n",
        "            self.w = self.w - learning_rate * grad\n",
        "\n",
        "    def fit(self, X, y):\n",
        "        X_tilde = self.X_(X)\n",
        "        w_start = np.zeros(X_tilde.shape[1])\n",
        "        self.GD(X_tilde, y, w_start)\n",
        "\n",
        "    def predict(self, X):\n",
        "        X_tilde = self.X_(X)\n",
        "        return X_tilde @ self.w\n",
        "\n",
        "model_sgd = Linear_Regression_SGD(max_iter=1000)\n",
        "model_sgd.fit(X, y)\n",
        "print(\"Weights (SGD):\", model_sgd.w)"
      ]
    },
    {
      "cell_type": "markdown",
      "metadata": {
        "id": "CxXDo2xxkYhn"
      },
      "source": [
        "# 14. Сравните время обучения моделей линейной регрессии, реализованных методом градиентного спуска и стохастического градиентного спуска с одинаковым количеством итераций градиентного спуска.\n",
        "Указание: Возьмите max_iter = 1000."
      ]
    },
    {
      "cell_type": "code",
      "execution_count": null,
      "metadata": {
        "id": "aO2-YvHCvkG7",
        "outputId": "fdf15fd6-0477-459f-a206-7c5c13d7abc7"
      },
      "outputs": [
        {
          "name": "stdout",
          "output_type": "stream",
          "text": [
            "351 ms ± 31.6 ms per loop (mean ± std. dev. of 7 runs, 1 loop each)\n",
            "426 ms ± 29.2 ms per loop (mean ± std. dev. of 7 runs, 1 loop each)\n"
          ]
        }
      ],
      "source": [
        "%timeit model_gd.fit(X, y)\n",
        "%timeit model_sgd.fit(X, y)"
      ]
    },
    {
      "cell_type": "markdown",
      "metadata": {
        "id": "rYi_Aoa-wAaX"
      },
      "source": [
        "### 15. Создайте класс модели линейной регрессии из библиотеки sklearn. Обучите модель на сгенерированных данных и убедитесь, что коэффициенты гиперплоскости и предсказанное значение будут примерно теми же, что и у модели градиентного спуска, написанной своими руками.\n",
        "\n",
        " Указание: Воспользуйтесь классом [LinearRegression](https://scikit-learn.org/stable/modules/generated/sklearn.linear_model.LinearRegression.html). Оптимальное коэффициенты гиперплоскости выводятся так: смещение выводится при помощи атрибута intrecept_, а оптимальные веса при помощи атрибута coef_."
      ]
    },
    {
      "cell_type": "code",
      "execution_count": null,
      "metadata": {
        "id": "4LMmJXy8vkG7",
        "outputId": "a8216572-49dd-4545-872a-cbcdfb7f4995"
      },
      "outputs": [
        {
          "name": "stdout",
          "output_type": "stream",
          "text": [
            "Intercept (sklearn): 2.942091015256665e-15\n",
            "Coefficients (sklearn): [ 7.42324780e+01 -2.48689958e-14  1.73194792e-14  5.09413848e+01\n",
            "  4.17911588e+01]\n"
          ]
        }
      ],
      "source": [
        "model_sklearn = LinearRegression()\n",
        "model_sklearn.fit(X, y)\n",
        "print(\"Intercept (sklearn):\", model_sklearn.intercept_)\n",
        "print(\"Coefficients (sklearn):\", model_sklearn.coef_)"
      ]
    },
    {
      "cell_type": "markdown",
      "metadata": {
        "id": "55tUVoFrvkG8"
      },
      "source": [
        "### 16. Сделайте предсказание на новом наблюдении. Убедитесь, значение будет примерно теми же, что и у модели градиентного спуска, написанной своими руками."
      ]
    },
    {
      "cell_type": "code",
      "execution_count": null,
      "metadata": {
        "id": "K__H2fWqvkG8",
        "outputId": "9c90f324-d92b-4ac4-b432-17498e1b1392"
      },
      "outputs": [
        {
          "name": "stdout",
          "output_type": "stream",
          "text": [
            "Predicted value (sklearn): -0.3037923193468081\n"
          ]
        }
      ],
      "source": [
        "y_new_pred_sklearn = model_sklearn.predict(x_new)\n",
        "print(\"Predicted value (sklearn):\", y_new_pred_sklearn[0])\n"
      ]
    },
    {
      "cell_type": "markdown",
      "metadata": {
        "id": "8d1nCN51vkG8"
      },
      "source": [
        "### 17. Напечатайте название каждого признака, а рядом найденный вес, ему соответствующий. Сделайте вывод какой признак наиболее сильно влияет на целевую переменную? А какой наименее значим?"
      ]
    },
    {
      "cell_type": "code",
      "execution_count": null,
      "metadata": {
        "id": "i65rUIovvkG8",
        "outputId": "2a314e62-6950-4d6d-ebaf-1e2a6e2192d8"
      },
      "outputs": [
        {
          "name": "stdout",
          "output_type": "stream",
          "text": [
            "x1: 74.23247802969799\n",
            "x2: -2.4868995751603507e-14\n",
            "x3: 1.7319479184152442e-14\n",
            "x4: 50.94138476808144\n",
            "x5: 41.79115877081217\n",
            "Features sorted by importance:\n",
            "x1: 74.23247802969799\n",
            "x4: 50.94138476808144\n",
            "x5: 41.79115877081217\n",
            "x2: -2.4868995751603507e-14\n",
            "x3: 1.7319479184152442e-14\n"
          ]
        }
      ],
      "source": [
        "feature_names = ['x1', 'x2', 'x3', 'x4', 'x5']\n",
        "weights = model_sklearn.coef_\n",
        "for name, coef in zip(feature_names, weights):\n",
        "    print(f\"{name}: {coef}\")\n",
        "sorted_features = sorted(zip(feature_names, weights), key=lambda x: abs(x[1]), reverse=True)\n",
        "print(\"Features sorted by importance:\")\n",
        "for name, coef in sorted_features:\n",
        "    print(f\"{name}: {coef}\")"
      ]
    },
    {
      "cell_type": "markdown",
      "metadata": {
        "id": "JqGbxE_NvkG8"
      },
      "source": [
        "### 18. Визуализируйте значимость признаков на графике.\n",
        "Указание: Используйте для построения графика [bar](https://matplotlib.org/stable/api/_as_gen/matplotlib.pyplot.bar.html)."
      ]
    },
    {
      "cell_type": "code",
      "execution_count": null,
      "metadata": {
        "id": "TCV6jHrVvkG8",
        "outputId": "d59ef449-5203-48d0-ad9b-5d5c6949f503"
      },
      "outputs": [
        {
          "data": {
            "image/png": "[encoded data removed]",
            "text/plain": [
              "<Figure size 640x480 with 1 Axes>"
            ]
          },
          "metadata": {},
          "output_type": "display_data"
        }
      ],
      "source": [
        "plt.bar(feature_names, np.abs(weights))\n",
        "plt.xlabel('Features')\n",
        "plt.ylabel('Absolute Coefficient Value')\n",
        "plt.title('Feature Importance')\n",
        "plt.show()"
      ]
    },
    {
      "cell_type": "code",
      "execution_count": null,
      "metadata": {
        "id": "APLPDkfZvkG8"
      },
      "outputs": [],
      "source": []
    }
  ],
  "metadata": {
    "colab": {
      "provenance": []
    },
    "kernelspec": {
      "display_name": "Python 3",
      "language": "python",
      "name": "python3"
    },
    "language_info": {
      "codemirror_mode": {
        "name": "ipython",
        "version": 3
      },
      "file_extension": ".py",
      "mimetype": "text/x-python",
      "name": "python",
      "nbconvert_exporter": "python",
      "pygments_lexer": "ipython3",
      "version": "3.11.9"
    }
  },
  "nbformat": 4,
  "nbformat_minor": 0
}