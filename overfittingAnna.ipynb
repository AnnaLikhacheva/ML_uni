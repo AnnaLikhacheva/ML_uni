{
  "cells": [
    {
      "cell_type": "markdown",
      "id": "0ca89aa5",
      "metadata": {
        "id": "0ca89aa5"
      },
      "source": [
        "\n",
        "# Тема: Диагностика переобучения модели и борьба с ним на примере решающего дерева"
      ]
    },
    {
      "cell_type": "code",
      "execution_count": null,
      "id": "e455c94a",
      "metadata": {
        "id": "e455c94a"
      },
      "outputs": [],
      "source": [
        "import numpy as np\n",
        "import pandas as pd\n",
        "import matplotlib.pyplot as plt\n",
        "from sklearn.tree import  DecisionTreeClassifier, DecisionTreeRegressor\n",
        "from sklearn.model_selection import cross_validate\n",
        "\n",
        "from sklearn.model_selection import validation_curve, learning_curve"
      ]
    },
    {
      "cell_type": "markdown",
      "id": "29a1415d",
      "metadata": {
        "id": "29a1415d"
      },
      "source": [
        "### 1. Загрузите датасет `titanic.csv` и выведите первые 5 строк. Отдедите целевую переменную 'Survived' и обозначьте данные за `X`, а целевую переменную за `y`. Выведите их размеры."
      ]
    },
    {
      "cell_type": "code",
      "execution_count": null,
      "id": "7dcbbe01",
      "metadata": {
        "colab": {
          "base_uri": "https://localhost:8080/",
          "height": 206
        },
        "id": "7dcbbe01",
        "outputId": "da08cdea-e361-42eb-c7d3-fd225e88938c"
      },
      "outputs": [
        {
          "data": {
            "text/html": [
              "<div>\n",
              "<style scoped>\n",
              "    .dataframe tbody tr th:only-of-type {\n",
              "        vertical-align: middle;\n",
              "    }\n",
              "\n",
              "    .dataframe tbody tr th {\n",
              "        vertical-align: top;\n",
              "    }\n",
              "\n",
              "    .dataframe thead th {\n",
              "        text-align: right;\n",
              "    }\n",
              "</style>\n",
              "<table border=\"1\" class=\"dataframe\">\n",
              "  <thead>\n",
              "    <tr style=\"text-align: right;\">\n",
              "      <th></th>\n",
              "      <th>PassengerId</th>\n",
              "      <th>Survived</th>\n",
              "      <th>Pclass</th>\n",
              "      <th>Sex</th>\n",
              "      <th>Age</th>\n",
              "      <th>SibSp</th>\n",
              "      <th>Parch</th>\n",
              "      <th>Fare</th>\n",
              "      <th>Embarked_C</th>\n",
              "      <th>Embarked_Q</th>\n",
              "      <th>Embarked_S</th>\n",
              "    </tr>\n",
              "  </thead>\n",
              "  <tbody>\n",
              "    <tr>\n",
              "      <th>0</th>\n",
              "      <td>1</td>\n",
              "      <td>0</td>\n",
              "      <td>3</td>\n",
              "      <td>0</td>\n",
              "      <td>22.0</td>\n",
              "      <td>1</td>\n",
              "      <td>0</td>\n",
              "      <td>7.2500</td>\n",
              "      <td>0</td>\n",
              "      <td>0</td>\n",
              "      <td>1</td>\n",
              "    </tr>\n",
              "    <tr>\n",
              "      <th>1</th>\n",
              "      <td>2</td>\n",
              "      <td>1</td>\n",
              "      <td>1</td>\n",
              "      <td>1</td>\n",
              "      <td>38.0</td>\n",
              "      <td>1</td>\n",
              "      <td>0</td>\n",
              "      <td>71.2833</td>\n",
              "      <td>1</td>\n",
              "      <td>0</td>\n",
              "      <td>0</td>\n",
              "    </tr>\n",
              "    <tr>\n",
              "      <th>2</th>\n",
              "      <td>3</td>\n",
              "      <td>1</td>\n",
              "      <td>3</td>\n",
              "      <td>1</td>\n",
              "      <td>26.0</td>\n",
              "      <td>0</td>\n",
              "      <td>0</td>\n",
              "      <td>7.9250</td>\n",
              "      <td>0</td>\n",
              "      <td>0</td>\n",
              "      <td>1</td>\n",
              "    </tr>\n",
              "    <tr>\n",
              "      <th>3</th>\n",
              "      <td>4</td>\n",
              "      <td>1</td>\n",
              "      <td>1</td>\n",
              "      <td>1</td>\n",
              "      <td>35.0</td>\n",
              "      <td>1</td>\n",
              "      <td>0</td>\n",
              "      <td>53.1000</td>\n",
              "      <td>0</td>\n",
              "      <td>0</td>\n",
              "      <td>1</td>\n",
              "    </tr>\n",
              "    <tr>\n",
              "      <th>4</th>\n",
              "      <td>5</td>\n",
              "      <td>0</td>\n",
              "      <td>3</td>\n",
              "      <td>0</td>\n",
              "      <td>35.0</td>\n",
              "      <td>0</td>\n",
              "      <td>0</td>\n",
              "      <td>8.0500</td>\n",
              "      <td>0</td>\n",
              "      <td>0</td>\n",
              "      <td>1</td>\n",
              "    </tr>\n",
              "  </tbody>\n",
              "</table>\n",
              "</div>"
            ],
            "text/plain": [
              "   PassengerId  Survived  Pclass  Sex   Age  SibSp  Parch     Fare  \\\n",
              "0            1         0       3    0  22.0      1      0   7.2500   \n",
              "1            2         1       1    1  38.0      1      0  71.2833   \n",
              "2            3         1       3    1  26.0      0      0   7.9250   \n",
              "3            4         1       1    1  35.0      1      0  53.1000   \n",
              "4            5         0       3    0  35.0      0      0   8.0500   \n",
              "\n",
              "   Embarked_C  Embarked_Q  Embarked_S  \n",
              "0           0           0           1  \n",
              "1           1           0           0  \n",
              "2           0           0           1  \n",
              "3           0           0           1  \n",
              "4           0           0           1  "
            ]
          },
          "execution_count": 128,
          "metadata": {},
          "output_type": "execute_result"
        }
      ],
      "source": [
        "df = pd.read_csv('titanic.csv')\n",
        "df.head()"
      ]
    },
    {
      "cell_type": "code",
      "execution_count": null,
      "id": "XkZdWlSZE-JG",
      "metadata": {
        "colab": {
          "base_uri": "https://localhost:8080/"
        },
        "id": "XkZdWlSZE-JG",
        "outputId": "6c32e95f-7884-49b8-fc0e-ad75e8a10675"
      },
      "outputs": [
        {
          "data": {
            "text/plain": [
              "array([[ 3.    ,  0.    , 22.    ,  1.    ,  0.    ,  7.25  ,  0.    ,\n",
              "         0.    ,  1.    ],\n",
              "       [ 1.    ,  1.    , 38.    ,  1.    ,  0.    , 71.2833,  1.    ,\n",
              "         0.    ,  0.    ],\n",
              "       [ 3.    ,  1.    , 26.    ,  0.    ,  0.    ,  7.925 ,  0.    ,\n",
              "         0.    ,  1.    ],\n",
              "       [ 1.    ,  1.    , 35.    ,  1.    ,  0.    , 53.1   ,  0.    ,\n",
              "         0.    ,  1.    ],\n",
              "       [ 3.    ,  0.    , 35.    ,  0.    ,  0.    ,  8.05  ,  0.    ,\n",
              "         0.    ,  1.    ]])"
            ]
          },
          "execution_count": 129,
          "metadata": {},
          "output_type": "execute_result"
        }
      ],
      "source": [
        "y = df['Survived'].values\n",
        "x = df.drop(['Survived', 'PassengerId'], axis = 1).values\n",
        "x[:5]"
      ]
    },
    {
      "cell_type": "code",
      "execution_count": null,
      "id": "EkZUx4B5Fec_",
      "metadata": {
        "colab": {
          "base_uri": "https://localhost:8080/"
        },
        "id": "EkZUx4B5Fec_",
        "outputId": "70221a2d-d9c4-4695-e622-60626b01e2ea"
      },
      "outputs": [
        {
          "data": {
            "text/plain": [
              "((891, 9), (891,))"
            ]
          },
          "execution_count": 130,
          "metadata": {},
          "output_type": "execute_result"
        }
      ],
      "source": [
        "x.shape, y.shape"
      ]
    },
    {
      "cell_type": "markdown",
      "id": "ebbaae2e",
      "metadata": {
        "id": "ebbaae2e"
      },
      "source": [
        "### 2. Сделайте 10-блочную перекрёстную проверку (кросс-валидацию) модели DecisionTreeClassifier(random_state=3) с вычислением двух метрик accuracy и F1, используя библиотечную функцию cross_validate. Установите значение параметра return_train_score этой функции True для того, чтобы выводились значения метрик не только на тестовых данных, но и на обучающих тоже. Результаты выведите в виде двух датафреймов, оставив в первом только два столбца со значениями метрики accuracy на обучающих и тестовых данных, а во втором со значениями метрики F1."
      ]
    },
    {
      "cell_type": "code",
      "execution_count": null,
      "id": "e3ffbdb0",
      "metadata": {
        "colab": {
          "base_uri": "https://localhost:8080/",
          "height": 363
        },
        "id": "e3ffbdb0",
        "outputId": "1484bd49-1450-4051-d873-dfede4f16c84"
      },
      "outputs": [
        {
          "data": {
            "text/html": [
              "<div>\n",
              "<style scoped>\n",
              "    .dataframe tbody tr th:only-of-type {\n",
              "        vertical-align: middle;\n",
              "    }\n",
              "\n",
              "    .dataframe tbody tr th {\n",
              "        vertical-align: top;\n",
              "    }\n",
              "\n",
              "    .dataframe thead th {\n",
              "        text-align: right;\n",
              "    }\n",
              "</style>\n",
              "<table border=\"1\" class=\"dataframe\">\n",
              "  <thead>\n",
              "    <tr style=\"text-align: right;\">\n",
              "      <th></th>\n",
              "      <th>fit_time</th>\n",
              "      <th>score_time</th>\n",
              "      <th>test_accuracy</th>\n",
              "      <th>train_accuracy</th>\n",
              "      <th>test_f1_macro</th>\n",
              "      <th>train_f1_macro</th>\n",
              "    </tr>\n",
              "  </thead>\n",
              "  <tbody>\n",
              "    <tr>\n",
              "      <th>0</th>\n",
              "      <td>0.002682</td>\n",
              "      <td>0.001826</td>\n",
              "      <td>0.700000</td>\n",
              "      <td>0.977528</td>\n",
              "      <td>0.688900</td>\n",
              "      <td>0.976018</td>\n",
              "    </tr>\n",
              "    <tr>\n",
              "      <th>1</th>\n",
              "      <td>0.002052</td>\n",
              "      <td>0.001526</td>\n",
              "      <td>0.775281</td>\n",
              "      <td>0.978803</td>\n",
              "      <td>0.759199</td>\n",
              "      <td>0.977412</td>\n",
              "    </tr>\n",
              "    <tr>\n",
              "      <th>2</th>\n",
              "      <td>0.001808</td>\n",
              "      <td>0.000886</td>\n",
              "      <td>0.741573</td>\n",
              "      <td>0.982544</td>\n",
              "      <td>0.708446</td>\n",
              "      <td>0.981435</td>\n",
              "    </tr>\n",
              "    <tr>\n",
              "      <th>3</th>\n",
              "      <td>0.001672</td>\n",
              "      <td>0.000915</td>\n",
              "      <td>0.764045</td>\n",
              "      <td>0.976309</td>\n",
              "      <td>0.753982</td>\n",
              "      <td>0.974687</td>\n",
              "    </tr>\n",
              "    <tr>\n",
              "      <th>4</th>\n",
              "      <td>0.001840</td>\n",
              "      <td>0.000837</td>\n",
              "      <td>0.831461</td>\n",
              "      <td>0.977556</td>\n",
              "      <td>0.822497</td>\n",
              "      <td>0.976068</td>\n",
              "    </tr>\n",
              "    <tr>\n",
              "      <th>5</th>\n",
              "      <td>0.001677</td>\n",
              "      <td>0.000816</td>\n",
              "      <td>0.752809</td>\n",
              "      <td>0.980050</td>\n",
              "      <td>0.741005</td>\n",
              "      <td>0.978755</td>\n",
              "    </tr>\n",
              "    <tr>\n",
              "      <th>6</th>\n",
              "      <td>0.001672</td>\n",
              "      <td>0.000759</td>\n",
              "      <td>0.808989</td>\n",
              "      <td>0.976309</td>\n",
              "      <td>0.788006</td>\n",
              "      <td>0.974721</td>\n",
              "    </tr>\n",
              "    <tr>\n",
              "      <th>7</th>\n",
              "      <td>0.001472</td>\n",
              "      <td>0.000768</td>\n",
              "      <td>0.764045</td>\n",
              "      <td>0.976309</td>\n",
              "      <td>0.738125</td>\n",
              "      <td>0.974687</td>\n",
              "    </tr>\n",
              "    <tr>\n",
              "      <th>8</th>\n",
              "      <td>0.001512</td>\n",
              "      <td>0.000792</td>\n",
              "      <td>0.842697</td>\n",
              "      <td>0.976309</td>\n",
              "      <td>0.838098</td>\n",
              "      <td>0.974721</td>\n",
              "    </tr>\n",
              "    <tr>\n",
              "      <th>9</th>\n",
              "      <td>0.001488</td>\n",
              "      <td>0.000770</td>\n",
              "      <td>0.797753</td>\n",
              "      <td>0.977556</td>\n",
              "      <td>0.785829</td>\n",
              "      <td>0.976004</td>\n",
              "    </tr>\n",
              "  </tbody>\n",
              "</table>\n",
              "</div>"
            ],
            "text/plain": [
              "   fit_time  score_time  test_accuracy  train_accuracy  test_f1_macro  \\\n",
              "0  0.002682    0.001826       0.700000        0.977528       0.688900   \n",
              "1  0.002052    0.001526       0.775281        0.978803       0.759199   \n",
              "2  0.001808    0.000886       0.741573        0.982544       0.708446   \n",
              "3  0.001672    0.000915       0.764045        0.976309       0.753982   \n",
              "4  0.001840    0.000837       0.831461        0.977556       0.822497   \n",
              "5  0.001677    0.000816       0.752809        0.980050       0.741005   \n",
              "6  0.001672    0.000759       0.808989        0.976309       0.788006   \n",
              "7  0.001472    0.000768       0.764045        0.976309       0.738125   \n",
              "8  0.001512    0.000792       0.842697        0.976309       0.838098   \n",
              "9  0.001488    0.000770       0.797753        0.977556       0.785829   \n",
              "\n",
              "   train_f1_macro  \n",
              "0        0.976018  \n",
              "1        0.977412  \n",
              "2        0.981435  \n",
              "3        0.974687  \n",
              "4        0.976068  \n",
              "5        0.978755  \n",
              "6        0.974721  \n",
              "7        0.974687  \n",
              "8        0.974721  \n",
              "9        0.976004  "
            ]
          },
          "execution_count": 131,
          "metadata": {},
          "output_type": "execute_result"
        }
      ],
      "source": [
        "clf = DecisionTreeClassifier(random_state=3)\n",
        "cv_results = cross_validate(clf, x, y, cv = 10, scoring = ['accuracy', 'f1_macro'], return_train_score = True)\n",
        "pd.DataFrame(cv_results)"
      ]
    },
    {
      "cell_type": "code",
      "execution_count": null,
      "id": "nHJOjIsFGh-6",
      "metadata": {
        "colab": {
          "base_uri": "https://localhost:8080/",
          "height": 363
        },
        "id": "nHJOjIsFGh-6",
        "outputId": "c3636349-ad0d-4fa7-81a3-b0b666de7a91"
      },
      "outputs": [
        {
          "data": {
            "text/html": [
              "<div>\n",
              "<style scoped>\n",
              "    .dataframe tbody tr th:only-of-type {\n",
              "        vertical-align: middle;\n",
              "    }\n",
              "\n",
              "    .dataframe tbody tr th {\n",
              "        vertical-align: top;\n",
              "    }\n",
              "\n",
              "    .dataframe thead th {\n",
              "        text-align: right;\n",
              "    }\n",
              "</style>\n",
              "<table border=\"1\" class=\"dataframe\">\n",
              "  <thead>\n",
              "    <tr style=\"text-align: right;\">\n",
              "      <th></th>\n",
              "      <th>train_accuracy</th>\n",
              "      <th>test_accuracy</th>\n",
              "    </tr>\n",
              "  </thead>\n",
              "  <tbody>\n",
              "    <tr>\n",
              "      <th>0</th>\n",
              "      <td>0.977528</td>\n",
              "      <td>0.700000</td>\n",
              "    </tr>\n",
              "    <tr>\n",
              "      <th>1</th>\n",
              "      <td>0.978803</td>\n",
              "      <td>0.775281</td>\n",
              "    </tr>\n",
              "    <tr>\n",
              "      <th>2</th>\n",
              "      <td>0.982544</td>\n",
              "      <td>0.741573</td>\n",
              "    </tr>\n",
              "    <tr>\n",
              "      <th>3</th>\n",
              "      <td>0.976309</td>\n",
              "      <td>0.764045</td>\n",
              "    </tr>\n",
              "    <tr>\n",
              "      <th>4</th>\n",
              "      <td>0.977556</td>\n",
              "      <td>0.831461</td>\n",
              "    </tr>\n",
              "    <tr>\n",
              "      <th>5</th>\n",
              "      <td>0.980050</td>\n",
              "      <td>0.752809</td>\n",
              "    </tr>\n",
              "    <tr>\n",
              "      <th>6</th>\n",
              "      <td>0.976309</td>\n",
              "      <td>0.808989</td>\n",
              "    </tr>\n",
              "    <tr>\n",
              "      <th>7</th>\n",
              "      <td>0.976309</td>\n",
              "      <td>0.764045</td>\n",
              "    </tr>\n",
              "    <tr>\n",
              "      <th>8</th>\n",
              "      <td>0.976309</td>\n",
              "      <td>0.842697</td>\n",
              "    </tr>\n",
              "    <tr>\n",
              "      <th>9</th>\n",
              "      <td>0.977556</td>\n",
              "      <td>0.797753</td>\n",
              "    </tr>\n",
              "  </tbody>\n",
              "</table>\n",
              "</div>"
            ],
            "text/plain": [
              "   train_accuracy  test_accuracy\n",
              "0        0.977528       0.700000\n",
              "1        0.978803       0.775281\n",
              "2        0.982544       0.741573\n",
              "3        0.976309       0.764045\n",
              "4        0.977556       0.831461\n",
              "5        0.980050       0.752809\n",
              "6        0.976309       0.808989\n",
              "7        0.976309       0.764045\n",
              "8        0.976309       0.842697\n",
              "9        0.977556       0.797753"
            ]
          },
          "execution_count": 132,
          "metadata": {},
          "output_type": "execute_result"
        }
      ],
      "source": [
        "scores_accuracy = pd.DataFrame(cv_results)[['train_accuracy', 'test_accuracy']]\n",
        "scores_accuracy"
      ]
    },
    {
      "cell_type": "code",
      "execution_count": null,
      "id": "gUSqIknGOsCv",
      "metadata": {
        "id": "gUSqIknGOsCv"
      },
      "outputs": [],
      "source": []
    },
    {
      "cell_type": "code",
      "execution_count": null,
      "id": "S3EfxJqpHPGT",
      "metadata": {
        "colab": {
          "base_uri": "https://localhost:8080/",
          "height": 363
        },
        "id": "S3EfxJqpHPGT",
        "outputId": "006c9eff-0275-4010-92b3-8d26bf6dde09"
      },
      "outputs": [
        {
          "data": {
            "text/html": [
              "<div>\n",
              "<style scoped>\n",
              "    .dataframe tbody tr th:only-of-type {\n",
              "        vertical-align: middle;\n",
              "    }\n",
              "\n",
              "    .dataframe tbody tr th {\n",
              "        vertical-align: top;\n",
              "    }\n",
              "\n",
              "    .dataframe thead th {\n",
              "        text-align: right;\n",
              "    }\n",
              "</style>\n",
              "<table border=\"1\" class=\"dataframe\">\n",
              "  <thead>\n",
              "    <tr style=\"text-align: right;\">\n",
              "      <th></th>\n",
              "      <th>train_f1_macro</th>\n",
              "      <th>test_f1_macro</th>\n",
              "    </tr>\n",
              "  </thead>\n",
              "  <tbody>\n",
              "    <tr>\n",
              "      <th>0</th>\n",
              "      <td>0.976018</td>\n",
              "      <td>0.688900</td>\n",
              "    </tr>\n",
              "    <tr>\n",
              "      <th>1</th>\n",
              "      <td>0.977412</td>\n",
              "      <td>0.759199</td>\n",
              "    </tr>\n",
              "    <tr>\n",
              "      <th>2</th>\n",
              "      <td>0.981435</td>\n",
              "      <td>0.708446</td>\n",
              "    </tr>\n",
              "    <tr>\n",
              "      <th>3</th>\n",
              "      <td>0.974687</td>\n",
              "      <td>0.753982</td>\n",
              "    </tr>\n",
              "    <tr>\n",
              "      <th>4</th>\n",
              "      <td>0.976068</td>\n",
              "      <td>0.822497</td>\n",
              "    </tr>\n",
              "    <tr>\n",
              "      <th>5</th>\n",
              "      <td>0.978755</td>\n",
              "      <td>0.741005</td>\n",
              "    </tr>\n",
              "    <tr>\n",
              "      <th>6</th>\n",
              "      <td>0.974721</td>\n",
              "      <td>0.788006</td>\n",
              "    </tr>\n",
              "    <tr>\n",
              "      <th>7</th>\n",
              "      <td>0.974687</td>\n",
              "      <td>0.738125</td>\n",
              "    </tr>\n",
              "    <tr>\n",
              "      <th>8</th>\n",
              "      <td>0.974721</td>\n",
              "      <td>0.838098</td>\n",
              "    </tr>\n",
              "    <tr>\n",
              "      <th>9</th>\n",
              "      <td>0.976004</td>\n",
              "      <td>0.785829</td>\n",
              "    </tr>\n",
              "  </tbody>\n",
              "</table>\n",
              "</div>"
            ],
            "text/plain": [
              "   train_f1_macro  test_f1_macro\n",
              "0        0.976018       0.688900\n",
              "1        0.977412       0.759199\n",
              "2        0.981435       0.708446\n",
              "3        0.974687       0.753982\n",
              "4        0.976068       0.822497\n",
              "5        0.978755       0.741005\n",
              "6        0.974721       0.788006\n",
              "7        0.974687       0.738125\n",
              "8        0.974721       0.838098\n",
              "9        0.976004       0.785829"
            ]
          },
          "execution_count": 133,
          "metadata": {},
          "output_type": "execute_result"
        }
      ],
      "source": [
        "scores_f1 = pd.DataFrame(cv_results)[['train_f1_macro', 'test_f1_macro']]\n",
        "scores_f1"
      ]
    },
    {
      "cell_type": "markdown",
      "id": "24f2bc73",
      "metadata": {
        "id": "24f2bc73"
      },
      "source": [
        "### 3. Найдите средние значения метрики accuracy на обучающих и на тестовых данных. Сравните эти значения между собой и сделайте предположение о переобученности модели. Проделайте аналогичные действия со значениями метрики F1."
      ]
    },
    {
      "cell_type": "code",
      "execution_count": null,
      "id": "57a7866e",
      "metadata": {
        "colab": {
          "base_uri": "https://localhost:8080/",
          "height": 147
        },
        "id": "57a7866e",
        "outputId": "50dfe7d5-0d53-4291-ed71-a4b5d763cc8e"
      },
      "outputs": [
        {
          "data": {
            "text/plain": [
              "train_accuracy    0.977927\n",
              "test_accuracy     0.777865\n",
              "dtype: float64"
            ]
          },
          "execution_count": 134,
          "metadata": {},
          "output_type": "execute_result"
        }
      ],
      "source": [
        "scores_accuracy.mean(axis = 0)"
      ]
    },
    {
      "cell_type": "code",
      "execution_count": null,
      "id": "KlP0yTIPHtPG",
      "metadata": {
        "colab": {
          "base_uri": "https://localhost:8080/",
          "height": 147
        },
        "id": "KlP0yTIPHtPG",
        "outputId": "04d89a1b-ae31-4243-aa2c-005f4985adfb"
      },
      "outputs": [
        {
          "data": {
            "text/plain": [
              "train_f1_macro    0.976451\n",
              "test_f1_macro     0.762409\n",
              "dtype: float64"
            ]
          },
          "execution_count": 135,
          "metadata": {},
          "output_type": "execute_result"
        }
      ],
      "source": [
        "scores_f1.mean(axis = 0)"
      ]
    },
    {
      "cell_type": "markdown",
      "id": "e15b31e3",
      "metadata": {
        "id": "e15b31e3"
      },
      "source": [
        "### 4. Визуализируйте для метрик accuracy и F1 полученные результаты перекрёстной-проверки, написав функцию plot_cv_scores, которая строит значения метрик на обучающих и тестовых данных для каждого блока. Убедитесь по графикам, что имеет место переобучение, т.к. ломаные линии для обучающих и тестовых данных не пересекаются."
      ]
    },
    {
      "cell_type": "code",
      "execution_count": null,
      "id": "2b6dc44d",
      "metadata": {
        "id": "2b6dc44d"
      },
      "outputs": [],
      "source": [
        "def plot_cv_scores(scores, scoring):\n",
        "  plt.figure(figsize = (6, 4))\n",
        "  plt.plot(scores.iloc[:, 0], label = 'train', marker = '.')\n",
        "  plt.plot(scores.iloc[:, 1], label = 'test', marker = '.')\n",
        "  plt.axhline(y = 1, color = 'black', ls = 'dashed')\n",
        "  plt.title('Визуализация кросс-валидации')\n",
        "  plt.xlabel('Итерации кросс-валидации')\n",
        "  plt.ylabel(scoring)\n",
        "  plt.legend()\n",
        "  plt.show()"
      ]
    },
    {
      "cell_type": "code",
      "execution_count": null,
      "id": "ozvkGjh3JLlG",
      "metadata": {
        "colab": {
          "base_uri": "https://localhost:8080/",
          "height": 410
        },
        "id": "ozvkGjh3JLlG",
        "outputId": "5b54e330-eb19-450e-8e4e-a7295ca4e82a"
      },
      "outputs": [
        {
          "data": {
            "image/png": "[encoded data removed]",
            "text/plain": [
              "<Figure size 600x400 with 1 Axes>"
            ]
          },
          "metadata": {},
          "output_type": "display_data"
        }
      ],
      "source": [
        "plot_cv_scores(scores_accuracy, 'accuracy')"
      ]
    },
    {
      "cell_type": "code",
      "execution_count": null,
      "id": "bijNFzZtJxNV",
      "metadata": {
        "colab": {
          "base_uri": "https://localhost:8080/",
          "height": 410
        },
        "id": "bijNFzZtJxNV",
        "outputId": "feb3ce22-76f4-411e-e9bf-f0cf901bc121"
      },
      "outputs": [
        {
          "data": {
            "image/png": "[encoded data removed]",
            "text/plain": [
              "<Figure size 600x400 with 1 Axes>"
            ]
          },
          "metadata": {},
          "output_type": "display_data"
        }
      ],
      "source": [
        "plot_cv_scores(scores_f1, 'f1')"
      ]
    },
    {
      "cell_type": "markdown",
      "id": "ac47683a",
      "metadata": {
        "id": "ac47683a"
      },
      "source": [
        "### 5. Поборитесь с переобучением в этой задаче, для этого варьируйте значение гиперпараметра max_depth (он является параметром регуляризации для дерева решений) и постройте соответствующую ***кривую проверки***, вычислив необходимые для её построения значения при помощи функции validation_curve. Используйте метрический показатель F1. Глядя на график, определите оптимальное значение  max_depth."
      ]
    },
    {
      "cell_type": "code",
      "execution_count": null,
      "id": "ac68a8cb",
      "metadata": {
        "colab": {
          "base_uri": "https://localhost:8080/"
        },
        "id": "ac68a8cb",
        "outputId": "82ad1d50-0e82-4f69-fd47-16d8d566d391"
      },
      "outputs": [
        {
          "data": {
            "text/plain": [
              "array([ 1,  2,  3,  4,  5,  6,  7,  8,  9, 10])"
            ]
          },
          "execution_count": 139,
          "metadata": {},
          "output_type": "execute_result"
        }
      ],
      "source": [
        "max_depth = np.arange(1, 11)\n",
        "max_depth"
      ]
    },
    {
      "cell_type": "code",
      "execution_count": null,
      "id": "Mix151CZKh8i",
      "metadata": {
        "colab": {
          "base_uri": "https://localhost:8080/"
        },
        "id": "Mix151CZKh8i",
        "outputId": "68fc99c8-ebc0-4026-b775-f2a8b02421b3"
      },
      "outputs": [
        {
          "data": {
            "text/plain": [
              "(array([[0.76503901, 0.76599142, 0.77070463, 0.78112647, 0.77106886],\n",
              "        [0.75414306, 0.73539364, 0.78540256, 0.79658894, 0.77106886],\n",
              "        [0.80686662, 0.80802534, 0.81107255, 0.81948886, 0.79377744],\n",
              "        [0.81061376, 0.82249076, 0.82264594, 0.82366938, 0.8037957 ],\n",
              "        [0.84168983, 0.83955502, 0.82738408, 0.84173761, 0.84127066],\n",
              "        [0.85232173, 0.85289805, 0.83711347, 0.86577795, 0.857739  ],\n",
              "        [0.87173092, 0.87706709, 0.84847184, 0.88523028, 0.87626646],\n",
              "        [0.88657246, 0.88282919, 0.86408186, 0.90359344, 0.89513924],\n",
              "        [0.91186012, 0.90434583, 0.88495988, 0.91246239, 0.90017641],\n",
              "        [0.91911571, 0.9143808 , 0.89798387, 0.93026806, 0.91453035]]),\n",
              " array([[0.79307725, 0.78994572, 0.77123918, 0.72775306, 0.76977536],\n",
              "        [0.67760656, 0.75537644, 0.77262337, 0.72775306, 0.76977536],\n",
              "        [0.80260652, 0.80071247, 0.7994058 , 0.74215355, 0.80345066],\n",
              "        [0.71640691, 0.81395192, 0.7926261 , 0.74746117, 0.82675195],\n",
              "        [0.80135858, 0.80200222, 0.7994058 , 0.72901261, 0.84347944],\n",
              "        [0.78111413, 0.78962736, 0.80071247, 0.74718671, 0.84996123],\n",
              "        [0.77955665, 0.79657143, 0.78048862, 0.75704023, 0.82922149],\n",
              "        [0.76524195, 0.78962736, 0.82122944, 0.76447448, 0.82486853],\n",
              "        [0.77051282, 0.79802634, 0.81573499, 0.76447448, 0.82486853],\n",
              "        [0.77051282, 0.78724857, 0.80345066, 0.76838403, 0.81504944]]))"
            ]
          },
          "execution_count": 140,
          "metadata": {},
          "output_type": "execute_result"
        }
      ],
      "source": [
        "train_scores, test_scores = validation_curve(clf, x, y,\n",
        "                                             param_name = 'max_depth', param_range = max_depth,\n",
        "                                             cv =5, scoring = 'f1_macro')\n",
        "train_scores, test_scores"
      ]
    },
    {
      "cell_type": "code",
      "execution_count": null,
      "id": "qoVsNvRSLcNP",
      "metadata": {
        "colab": {
          "base_uri": "https://localhost:8080/"
        },
        "id": "qoVsNvRSLcNP",
        "outputId": "9b1f20c5-dc2f-488c-aa3c-f7749b6aae91"
      },
      "outputs": [
        {
          "data": {
            "text/plain": [
              "array([0.77078608, 0.76851941, 0.80784616, 0.81664311, 0.83832744,\n",
              "       0.85317004, 0.87175332, 0.88644324, 0.90276093, 0.91525576])"
            ]
          },
          "execution_count": 141,
          "metadata": {},
          "output_type": "execute_result"
        }
      ],
      "source": [
        "train_scores.mean(axis = 1)"
      ]
    },
    {
      "cell_type": "code",
      "execution_count": null,
      "id": "CTK9bS9-LokC",
      "metadata": {
        "id": "CTK9bS9-LokC"
      },
      "outputs": [],
      "source": [
        "def plot_train_test_curves(train_scores, test_scores, x):\n",
        "  plt.plot(x, train_scores.mean(axis = 1), label  = 'train', color = 'r')\n",
        "  plt.plot(x, test_scores.mean(axis = 1), label  = 'test', color = 'g')\n",
        "  plt.legend()\n",
        "  plt.axhline(y = 1, color = 'black', ls = 'dashed')"
      ]
    },
    {
      "cell_type": "code",
      "execution_count": null,
      "id": "M24zQgPRMkel",
      "metadata": {
        "colab": {
          "base_uri": "https://localhost:8080/",
          "height": 410
        },
        "id": "M24zQgPRMkel",
        "outputId": "7eb4a26e-589f-4839-ae14-dbafa400987e"
      },
      "outputs": [
        {
          "data": {
            "image/png": "[encoded data removed]",
            "text/plain": [
              "<Figure size 600x400 with 1 Axes>"
            ]
          },
          "metadata": {},
          "output_type": "display_data"
        }
      ],
      "source": [
        "plt.figure(figsize = (6,4))\n",
        "plot_train_test_curves(train_scores, test_scores, max_depth)\n",
        "plt.title('Кривая проверки')\n",
        "plt.xlabel('max_depth')\n",
        "plt.ylabel('f1_macro')\n",
        "plt.show()"
      ]
    },
    {
      "cell_type": "markdown",
      "id": "251aa0d8",
      "metadata": {
        "id": "251aa0d8"
      },
      "source": [
        "### 6. Сделайте 10-блочную перекрёстную проверку (кросс-валидацию) модели DecisionTreeClassifier с random_state=3 и найденным оптимальным значением max_depth, используя библиотечную функцию cross_validate. Результаты выведите в виде двух датафреймов, оставив в первом только два столбца со значениями метрики accuracy на обучающих и тестовых данных, а во втором со значениями метрики F1. Найдите средние значения метрик accuracy и F1 на обучающих и на тестовых данных."
      ]
    },
    {
      "cell_type": "code",
      "execution_count": null,
      "id": "d0f277fa",
      "metadata": {
        "id": "d0f277fa"
      },
      "outputs": [],
      "source": [
        "clf_opt = DecisionTreeClassifier(random_state=3, max_depth = 5)\n",
        "cv_results = cross_validate(clf_opt, x, y, cv = 10, scoring = ['accuracy', 'f1_macro'], return_train_score = True)"
      ]
    },
    {
      "cell_type": "code",
      "execution_count": null,
      "id": "g0r4ydLpOuNi",
      "metadata": {
        "colab": {
          "base_uri": "https://localhost:8080/",
          "height": 363
        },
        "id": "g0r4ydLpOuNi",
        "outputId": "1989962c-1732-4ea1-87b5-697f085443e7"
      },
      "outputs": [
        {
          "data": {
            "text/html": [
              "<div>\n",
              "<style scoped>\n",
              "    .dataframe tbody tr th:only-of-type {\n",
              "        vertical-align: middle;\n",
              "    }\n",
              "\n",
              "    .dataframe tbody tr th {\n",
              "        vertical-align: top;\n",
              "    }\n",
              "\n",
              "    .dataframe thead th {\n",
              "        text-align: right;\n",
              "    }\n",
              "</style>\n",
              "<table border=\"1\" class=\"dataframe\">\n",
              "  <thead>\n",
              "    <tr style=\"text-align: right;\">\n",
              "      <th></th>\n",
              "      <th>train_accuracy</th>\n",
              "      <th>test_accuracy</th>\n",
              "    </tr>\n",
              "  </thead>\n",
              "  <tbody>\n",
              "    <tr>\n",
              "      <th>0</th>\n",
              "      <td>0.865169</td>\n",
              "      <td>0.722222</td>\n",
              "    </tr>\n",
              "    <tr>\n",
              "      <th>1</th>\n",
              "      <td>0.850374</td>\n",
              "      <td>0.797753</td>\n",
              "    </tr>\n",
              "    <tr>\n",
              "      <th>2</th>\n",
              "      <td>0.856608</td>\n",
              "      <td>0.786517</td>\n",
              "    </tr>\n",
              "    <tr>\n",
              "      <th>3</th>\n",
              "      <td>0.855362</td>\n",
              "      <td>0.797753</td>\n",
              "    </tr>\n",
              "    <tr>\n",
              "      <th>4</th>\n",
              "      <td>0.845387</td>\n",
              "      <td>0.842697</td>\n",
              "    </tr>\n",
              "    <tr>\n",
              "      <th>5</th>\n",
              "      <td>0.847880</td>\n",
              "      <td>0.797753</td>\n",
              "    </tr>\n",
              "    <tr>\n",
              "      <th>6</th>\n",
              "      <td>0.846633</td>\n",
              "      <td>0.786517</td>\n",
              "    </tr>\n",
              "    <tr>\n",
              "      <th>7</th>\n",
              "      <td>0.869077</td>\n",
              "      <td>0.786517</td>\n",
              "    </tr>\n",
              "    <tr>\n",
              "      <th>8</th>\n",
              "      <td>0.844140</td>\n",
              "      <td>0.876404</td>\n",
              "    </tr>\n",
              "    <tr>\n",
              "      <th>9</th>\n",
              "      <td>0.851621</td>\n",
              "      <td>0.820225</td>\n",
              "    </tr>\n",
              "  </tbody>\n",
              "</table>\n",
              "</div>"
            ],
            "text/plain": [
              "   train_accuracy  test_accuracy\n",
              "0        0.865169       0.722222\n",
              "1        0.850374       0.797753\n",
              "2        0.856608       0.786517\n",
              "3        0.855362       0.797753\n",
              "4        0.845387       0.842697\n",
              "5        0.847880       0.797753\n",
              "6        0.846633       0.786517\n",
              "7        0.869077       0.786517\n",
              "8        0.844140       0.876404\n",
              "9        0.851621       0.820225"
            ]
          },
          "execution_count": 145,
          "metadata": {},
          "output_type": "execute_result"
        }
      ],
      "source": [
        "scores_accuracy = pd.DataFrame(cv_results)[['train_accuracy', 'test_accuracy']]\n",
        "scores_accuracy"
      ]
    },
    {
      "cell_type": "code",
      "execution_count": null,
      "id": "NfPfaK3hOyiZ",
      "metadata": {
        "colab": {
          "base_uri": "https://localhost:8080/",
          "height": 363
        },
        "id": "NfPfaK3hOyiZ",
        "outputId": "373546ff-009e-4245-bd77-0a839fa2beff"
      },
      "outputs": [
        {
          "data": {
            "text/html": [
              "<div>\n",
              "<style scoped>\n",
              "    .dataframe tbody tr th:only-of-type {\n",
              "        vertical-align: middle;\n",
              "    }\n",
              "\n",
              "    .dataframe tbody tr th {\n",
              "        vertical-align: top;\n",
              "    }\n",
              "\n",
              "    .dataframe thead th {\n",
              "        text-align: right;\n",
              "    }\n",
              "</style>\n",
              "<table border=\"1\" class=\"dataframe\">\n",
              "  <thead>\n",
              "    <tr style=\"text-align: right;\">\n",
              "      <th></th>\n",
              "      <th>train_f1_macro</th>\n",
              "      <th>test_f1_macro</th>\n",
              "    </tr>\n",
              "  </thead>\n",
              "  <tbody>\n",
              "    <tr>\n",
              "      <th>0</th>\n",
              "      <td>0.850487</td>\n",
              "      <td>0.694750</td>\n",
              "    </tr>\n",
              "    <tr>\n",
              "      <th>1</th>\n",
              "      <td>0.831880</td>\n",
              "      <td>0.769828</td>\n",
              "    </tr>\n",
              "    <tr>\n",
              "      <th>2</th>\n",
              "      <td>0.845945</td>\n",
              "      <td>0.763066</td>\n",
              "    </tr>\n",
              "    <tr>\n",
              "      <th>3</th>\n",
              "      <td>0.840069</td>\n",
              "      <td>0.790094</td>\n",
              "    </tr>\n",
              "    <tr>\n",
              "      <th>4</th>\n",
              "      <td>0.832305</td>\n",
              "      <td>0.833422</td>\n",
              "    </tr>\n",
              "    <tr>\n",
              "      <th>5</th>\n",
              "      <td>0.835502</td>\n",
              "      <td>0.777253</td>\n",
              "    </tr>\n",
              "    <tr>\n",
              "      <th>6</th>\n",
              "      <td>0.834519</td>\n",
              "      <td>0.759151</td>\n",
              "    </tr>\n",
              "    <tr>\n",
              "      <th>7</th>\n",
              "      <td>0.857233</td>\n",
              "      <td>0.754821</td>\n",
              "    </tr>\n",
              "    <tr>\n",
              "      <th>8</th>\n",
              "      <td>0.831581</td>\n",
              "      <td>0.866712</td>\n",
              "    </tr>\n",
              "    <tr>\n",
              "      <th>9</th>\n",
              "      <td>0.840361</td>\n",
              "      <td>0.811640</td>\n",
              "    </tr>\n",
              "  </tbody>\n",
              "</table>\n",
              "</div>"
            ],
            "text/plain": [
              "   train_f1_macro  test_f1_macro\n",
              "0        0.850487       0.694750\n",
              "1        0.831880       0.769828\n",
              "2        0.845945       0.763066\n",
              "3        0.840069       0.790094\n",
              "4        0.832305       0.833422\n",
              "5        0.835502       0.777253\n",
              "6        0.834519       0.759151\n",
              "7        0.857233       0.754821\n",
              "8        0.831581       0.866712\n",
              "9        0.840361       0.811640"
            ]
          },
          "execution_count": 146,
          "metadata": {},
          "output_type": "execute_result"
        }
      ],
      "source": [
        "scores_f1 = pd.DataFrame(cv_results)[['train_f1_macro', 'test_f1_macro']]\n",
        "scores_f1"
      ]
    },
    {
      "cell_type": "code",
      "execution_count": null,
      "id": "JSjxMYaxO2SA",
      "metadata": {
        "colab": {
          "base_uri": "https://localhost:8080/",
          "height": 147
        },
        "id": "JSjxMYaxO2SA",
        "outputId": "d5bbfb51-344b-4287-b932-2b757a74060f"
      },
      "outputs": [
        {
          "data": {
            "text/plain": [
              "train_accuracy    0.853225\n",
              "test_accuracy     0.801436\n",
              "dtype: float64"
            ]
          },
          "execution_count": 147,
          "metadata": {},
          "output_type": "execute_result"
        }
      ],
      "source": [
        "scores_accuracy.mean(axis = 0)"
      ]
    },
    {
      "cell_type": "code",
      "execution_count": null,
      "id": "-3tEfyMOO5x_",
      "metadata": {
        "colab": {
          "base_uri": "https://localhost:8080/",
          "height": 147
        },
        "id": "-3tEfyMOO5x_",
        "outputId": "829c7586-ab3e-4ec4-e2df-7c050b712259"
      },
      "outputs": [
        {
          "data": {
            "text/plain": [
              "train_f1_macro    0.839988\n",
              "test_f1_macro     0.782074\n",
              "dtype: float64"
            ]
          },
          "execution_count": 148,
          "metadata": {},
          "output_type": "execute_result"
        }
      ],
      "source": [
        "scores_f1.mean(axis = 0)"
      ]
    },
    {
      "cell_type": "markdown",
      "id": "2231d36b",
      "metadata": {
        "id": "2231d36b"
      },
      "source": [
        "### 7. Убедитесь, что переобучение больше нет, построив соответствующие графики при помощи функции plot_cv_scores."
      ]
    },
    {
      "cell_type": "code",
      "execution_count": null,
      "id": "f84a40bb",
      "metadata": {
        "colab": {
          "base_uri": "https://localhost:8080/",
          "height": 410
        },
        "id": "f84a40bb",
        "outputId": "074be8b2-db8f-49a3-935a-8be20349c834"
      },
      "outputs": [
        {
          "data": {
            "image/png": "[encoded data removed]",
            "text/plain": [
              "<Figure size 600x400 with 1 Axes>"
            ]
          },
          "metadata": {},
          "output_type": "display_data"
        }
      ],
      "source": [
        "plot_cv_scores(scores_accuracy, 'accuracy')"
      ]
    },
    {
      "cell_type": "code",
      "execution_count": null,
      "id": "wcOhj29nP7uF",
      "metadata": {
        "colab": {
          "base_uri": "https://localhost:8080/",
          "height": 410
        },
        "id": "wcOhj29nP7uF",
        "outputId": "37682575-92fd-4d41-d769-dc969df7aaf7"
      },
      "outputs": [
        {
          "data": {
            "image/png": "[encoded data removed]",
            "text/plain": [
              "<Figure size 600x400 with 1 Axes>"
            ]
          },
          "metadata": {},
          "output_type": "display_data"
        }
      ],
      "source": [
        "plot_cv_scores(scores_f1, 'f1_macro')"
      ]
    },
    {
      "cell_type": "markdown",
      "id": "8f0d58b6",
      "metadata": {
        "id": "8f0d58b6"
      },
      "source": [
        "1. Загрузите датасет `boston.csv` и выведите первые 5 строк. Отдедите целевую переменную 'MEDV' и обозначьте данные за `X`, а целевую переменную за `y`. Выведите их размеры."
      ]
    },
    {
      "cell_type": "code",
      "execution_count": null,
      "id": "7022b23e",
      "metadata": {
        "id": "7022b23e",
        "outputId": "bc4cbcdb-1e84-430d-f9b2-ddc5e5950b80"
      },
      "outputs": [
        {
          "data": {
            "text/html": [
              "<div>\n",
              "<style scoped>\n",
              "    .dataframe tbody tr th:only-of-type {\n",
              "        vertical-align: middle;\n",
              "    }\n",
              "\n",
              "    .dataframe tbody tr th {\n",
              "        vertical-align: top;\n",
              "    }\n",
              "\n",
              "    .dataframe thead th {\n",
              "        text-align: right;\n",
              "    }\n",
              "</style>\n",
              "<table border=\"1\" class=\"dataframe\">\n",
              "  <thead>\n",
              "    <tr style=\"text-align: right;\">\n",
              "      <th></th>\n",
              "      <th>CRIM</th>\n",
              "      <th>ZN</th>\n",
              "      <th>INDUS</th>\n",
              "      <th>CHAS</th>\n",
              "      <th>NOX</th>\n",
              "      <th>RM</th>\n",
              "      <th>AGE</th>\n",
              "      <th>DIS</th>\n",
              "      <th>RAD</th>\n",
              "      <th>TAX</th>\n",
              "      <th>PTRATIO</th>\n",
              "      <th>B</th>\n",
              "      <th>LSTAT</th>\n",
              "      <th>MEDV</th>\n",
              "    </tr>\n",
              "  </thead>\n",
              "  <tbody>\n",
              "    <tr>\n",
              "      <th>0</th>\n",
              "      <td>0.00632</td>\n",
              "      <td>18.0</td>\n",
              "      <td>2.31</td>\n",
              "      <td>0.0</td>\n",
              "      <td>0.538</td>\n",
              "      <td>6.575</td>\n",
              "      <td>65.2</td>\n",
              "      <td>4.0900</td>\n",
              "      <td>1.0</td>\n",
              "      <td>296.0</td>\n",
              "      <td>15.3</td>\n",
              "      <td>396.90</td>\n",
              "      <td>4.98</td>\n",
              "      <td>24.0</td>\n",
              "    </tr>\n",
              "    <tr>\n",
              "      <th>1</th>\n",
              "      <td>0.02731</td>\n",
              "      <td>0.0</td>\n",
              "      <td>7.07</td>\n",
              "      <td>0.0</td>\n",
              "      <td>0.469</td>\n",
              "      <td>6.421</td>\n",
              "      <td>78.9</td>\n",
              "      <td>4.9671</td>\n",
              "      <td>2.0</td>\n",
              "      <td>242.0</td>\n",
              "      <td>17.8</td>\n",
              "      <td>396.90</td>\n",
              "      <td>9.14</td>\n",
              "      <td>21.6</td>\n",
              "    </tr>\n",
              "    <tr>\n",
              "      <th>2</th>\n",
              "      <td>0.02729</td>\n",
              "      <td>0.0</td>\n",
              "      <td>7.07</td>\n",
              "      <td>0.0</td>\n",
              "      <td>0.469</td>\n",
              "      <td>7.185</td>\n",
              "      <td>61.1</td>\n",
              "      <td>4.9671</td>\n",
              "      <td>2.0</td>\n",
              "      <td>242.0</td>\n",
              "      <td>17.8</td>\n",
              "      <td>392.83</td>\n",
              "      <td>4.03</td>\n",
              "      <td>34.7</td>\n",
              "    </tr>\n",
              "    <tr>\n",
              "      <th>3</th>\n",
              "      <td>0.03237</td>\n",
              "      <td>0.0</td>\n",
              "      <td>2.18</td>\n",
              "      <td>0.0</td>\n",
              "      <td>0.458</td>\n",
              "      <td>6.998</td>\n",
              "      <td>45.8</td>\n",
              "      <td>6.0622</td>\n",
              "      <td>3.0</td>\n",
              "      <td>222.0</td>\n",
              "      <td>18.7</td>\n",
              "      <td>394.63</td>\n",
              "      <td>2.94</td>\n",
              "      <td>33.4</td>\n",
              "    </tr>\n",
              "    <tr>\n",
              "      <th>4</th>\n",
              "      <td>0.06905</td>\n",
              "      <td>0.0</td>\n",
              "      <td>2.18</td>\n",
              "      <td>0.0</td>\n",
              "      <td>0.458</td>\n",
              "      <td>7.147</td>\n",
              "      <td>54.2</td>\n",
              "      <td>6.0622</td>\n",
              "      <td>3.0</td>\n",
              "      <td>222.0</td>\n",
              "      <td>18.7</td>\n",
              "      <td>396.90</td>\n",
              "      <td>5.33</td>\n",
              "      <td>36.2</td>\n",
              "    </tr>\n",
              "  </tbody>\n",
              "</table>\n",
              "</div>"
            ],
            "text/plain": [
              "      CRIM    ZN  INDUS  CHAS    NOX     RM   AGE     DIS  RAD    TAX  \\\n",
              "0  0.00632  18.0   2.31   0.0  0.538  6.575  65.2  4.0900  1.0  296.0   \n",
              "1  0.02731   0.0   7.07   0.0  0.469  6.421  78.9  4.9671  2.0  242.0   \n",
              "2  0.02729   0.0   7.07   0.0  0.469  7.185  61.1  4.9671  2.0  242.0   \n",
              "3  0.03237   0.0   2.18   0.0  0.458  6.998  45.8  6.0622  3.0  222.0   \n",
              "4  0.06905   0.0   2.18   0.0  0.458  7.147  54.2  6.0622  3.0  222.0   \n",
              "\n",
              "   PTRATIO       B  LSTAT  MEDV  \n",
              "0     15.3  396.90   4.98  24.0  \n",
              "1     17.8  396.90   9.14  21.6  \n",
              "2     17.8  392.83   4.03  34.7  \n",
              "3     18.7  394.63   2.94  33.4  \n",
              "4     18.7  396.90   5.33  36.2  "
            ]
          },
          "execution_count": 151,
          "metadata": {},
          "output_type": "execute_result"
        }
      ],
      "source": [
        "boston = pd.read_csv('boston.csv')\n",
        "boston.head()"
      ]
    },
    {
      "cell_type": "code",
      "execution_count": null,
      "id": "42f39760",
      "metadata": {
        "id": "42f39760",
        "outputId": "c4b61eb5-bfda-47f2-d736-a3ce4cbc6216"
      },
      "outputs": [
        {
          "data": {
            "text/plain": [
              "array([[6.3200e-03, 1.8000e+01, 2.3100e+00, 0.0000e+00, 5.3800e-01,\n",
              "        6.5750e+00, 6.5200e+01, 4.0900e+00, 1.0000e+00, 2.9600e+02,\n",
              "        1.5300e+01, 3.9690e+02, 4.9800e+00],\n",
              "       [2.7310e-02, 0.0000e+00, 7.0700e+00, 0.0000e+00, 4.6900e-01,\n",
              "        6.4210e+00, 7.8900e+01, 4.9671e+00, 2.0000e+00, 2.4200e+02,\n",
              "        1.7800e+01, 3.9690e+02, 9.1400e+00],\n",
              "       [2.7290e-02, 0.0000e+00, 7.0700e+00, 0.0000e+00, 4.6900e-01,\n",
              "        7.1850e+00, 6.1100e+01, 4.9671e+00, 2.0000e+00, 2.4200e+02,\n",
              "        1.7800e+01, 3.9283e+02, 4.0300e+00],\n",
              "       [3.2370e-02, 0.0000e+00, 2.1800e+00, 0.0000e+00, 4.5800e-01,\n",
              "        6.9980e+00, 4.5800e+01, 6.0622e+00, 3.0000e+00, 2.2200e+02,\n",
              "        1.8700e+01, 3.9463e+02, 2.9400e+00],\n",
              "       [6.9050e-02, 0.0000e+00, 2.1800e+00, 0.0000e+00, 4.5800e-01,\n",
              "        7.1470e+00, 5.4200e+01, 6.0622e+00, 3.0000e+00, 2.2200e+02,\n",
              "        1.8700e+01, 3.9690e+02, 5.3300e+00]])"
            ]
          },
          "execution_count": 152,
          "metadata": {},
          "output_type": "execute_result"
        }
      ],
      "source": [
        "y = boston['MEDV'].values\n",
        "x = boston.drop(['MEDV'], axis = 1).values\n",
        "x[:5]"
      ]
    },
    {
      "cell_type": "code",
      "execution_count": null,
      "id": "d361ba0d",
      "metadata": {
        "id": "d361ba0d",
        "outputId": "f42a4085-53a5-4ac8-ff79-a5282d38fe09"
      },
      "outputs": [
        {
          "data": {
            "text/plain": [
              "((506, 13), (506,))"
            ]
          },
          "execution_count": 153,
          "metadata": {},
          "output_type": "execute_result"
        }
      ],
      "source": [
        "x.shape, y.shape"
      ]
    },
    {
      "cell_type": "markdown",
      "id": "b61060d4",
      "metadata": {
        "id": "b61060d4"
      },
      "source": [
        "2. Убедитесь, что решается задача регрессии, для этого выведите количество уникальных значений целевой переменной и сравните его с общим количеством наблюдений."
      ]
    },
    {
      "cell_type": "code",
      "execution_count": null,
      "id": "9df599e8",
      "metadata": {
        "id": "9df599e8",
        "outputId": "55820f55-835b-4fd4-b64f-2b1c4eda7375"
      },
      "outputs": [
        {
          "data": {
            "text/plain": [
              "(229, 506)"
            ]
          },
          "execution_count": 154,
          "metadata": {},
          "output_type": "execute_result"
        }
      ],
      "source": [
        "len(np.unique(y)), y.shape[0]"
      ]
    },
    {
      "cell_type": "markdown",
      "id": "7a07b8b5",
      "metadata": {
        "id": "7a07b8b5"
      },
      "source": [
        "Целевая переменная содержит повторяющиеся значения, это задача регрессии"
      ]
    },
    {
      "cell_type": "markdown",
      "id": "cd9bd5fc",
      "metadata": {
        "id": "cd9bd5fc"
      },
      "source": [
        "3. Сделайте 7-блочную перекрёстную проверку (кросс-валидацию) модели DecisionTreeRegressor(random_state=0) с вычислением метрики neg_mean_squared_error, используя библиотечную функцию cross_validate. Установите значение параметра return_train_score этой функции True для того, чтобы выводились значения метрик не только на тестовых данных, но и на обучающих тоже. Результаты выведите в виде датафрейма, оставив только два столбца со значениями метрики на обучающих и тестовых данных, но заменив знак каждого значения на противоположный, чтобы вместо метрики neg_mean_squared_error, получалась метрика mean_squared_error."
      ]
    },
    {
      "cell_type": "code",
      "execution_count": null,
      "id": "0cac5ed1",
      "metadata": {
        "id": "0cac5ed1",
        "outputId": "c9d85a8d-3476-4e26-b042-9f10c9fffb54"
      },
      "outputs": [
        {
          "data": {
            "text/html": [
              "<div>\n",
              "<style scoped>\n",
              "    .dataframe tbody tr th:only-of-type {\n",
              "        vertical-align: middle;\n",
              "    }\n",
              "\n",
              "    .dataframe tbody tr th {\n",
              "        vertical-align: top;\n",
              "    }\n",
              "\n",
              "    .dataframe thead th {\n",
              "        text-align: right;\n",
              "    }\n",
              "</style>\n",
              "<table border=\"1\" class=\"dataframe\">\n",
              "  <thead>\n",
              "    <tr style=\"text-align: right;\">\n",
              "      <th></th>\n",
              "      <th>fit_time</th>\n",
              "      <th>score_time</th>\n",
              "      <th>test_neg_mean_squared_error</th>\n",
              "      <th>train_neg_mean_squared_error</th>\n",
              "    </tr>\n",
              "  </thead>\n",
              "  <tbody>\n",
              "    <tr>\n",
              "      <th>0</th>\n",
              "      <td>0.005037</td>\n",
              "      <td>0.000361</td>\n",
              "      <td>-12.563014</td>\n",
              "      <td>-0.0</td>\n",
              "    </tr>\n",
              "    <tr>\n",
              "      <th>1</th>\n",
              "      <td>0.003462</td>\n",
              "      <td>0.000360</td>\n",
              "      <td>-13.510411</td>\n",
              "      <td>-0.0</td>\n",
              "    </tr>\n",
              "    <tr>\n",
              "      <th>2</th>\n",
              "      <td>0.002850</td>\n",
              "      <td>0.000187</td>\n",
              "      <td>-71.290556</td>\n",
              "      <td>-0.0</td>\n",
              "    </tr>\n",
              "    <tr>\n",
              "      <th>3</th>\n",
              "      <td>0.002756</td>\n",
              "      <td>0.000157</td>\n",
              "      <td>-31.690139</td>\n",
              "      <td>-0.0</td>\n",
              "    </tr>\n",
              "    <tr>\n",
              "      <th>4</th>\n",
              "      <td>0.002651</td>\n",
              "      <td>0.000161</td>\n",
              "      <td>-10.841250</td>\n",
              "      <td>-0.0</td>\n",
              "    </tr>\n",
              "    <tr>\n",
              "      <th>5</th>\n",
              "      <td>0.002715</td>\n",
              "      <td>0.000157</td>\n",
              "      <td>-96.612222</td>\n",
              "      <td>-0.0</td>\n",
              "    </tr>\n",
              "    <tr>\n",
              "      <th>6</th>\n",
              "      <td>0.002804</td>\n",
              "      <td>0.000158</td>\n",
              "      <td>-29.507917</td>\n",
              "      <td>-0.0</td>\n",
              "    </tr>\n",
              "  </tbody>\n",
              "</table>\n",
              "</div>"
            ],
            "text/plain": [
              "   fit_time  score_time  test_neg_mean_squared_error  \\\n",
              "0  0.005037    0.000361                   -12.563014   \n",
              "1  0.003462    0.000360                   -13.510411   \n",
              "2  0.002850    0.000187                   -71.290556   \n",
              "3  0.002756    0.000157                   -31.690139   \n",
              "4  0.002651    0.000161                   -10.841250   \n",
              "5  0.002715    0.000157                   -96.612222   \n",
              "6  0.002804    0.000158                   -29.507917   \n",
              "\n",
              "   train_neg_mean_squared_error  \n",
              "0                          -0.0  \n",
              "1                          -0.0  \n",
              "2                          -0.0  \n",
              "3                          -0.0  \n",
              "4                          -0.0  \n",
              "5                          -0.0  \n",
              "6                          -0.0  "
            ]
          },
          "execution_count": 155,
          "metadata": {},
          "output_type": "execute_result"
        }
      ],
      "source": [
        "clf_boston = DecisionTreeRegressor(random_state=0)\n",
        "cv_results = cross_validate(clf_boston, x, y, cv = 7, scoring = ['neg_mean_squared_error'], return_train_score = True)\n",
        "pd.DataFrame(cv_results)"
      ]
    },
    {
      "cell_type": "code",
      "execution_count": null,
      "id": "a6d3cc68",
      "metadata": {
        "id": "a6d3cc68",
        "outputId": "ec7cc3d6-941e-491a-ecd9-ba92eaf15664"
      },
      "outputs": [
        {
          "data": {
            "text/html": [
              "<div>\n",
              "<style scoped>\n",
              "    .dataframe tbody tr th:only-of-type {\n",
              "        vertical-align: middle;\n",
              "    }\n",
              "\n",
              "    .dataframe tbody tr th {\n",
              "        vertical-align: top;\n",
              "    }\n",
              "\n",
              "    .dataframe thead th {\n",
              "        text-align: right;\n",
              "    }\n",
              "</style>\n",
              "<table border=\"1\" class=\"dataframe\">\n",
              "  <thead>\n",
              "    <tr style=\"text-align: right;\">\n",
              "      <th></th>\n",
              "      <th>test_neg_mean_squared_error</th>\n",
              "      <th>train_neg_mean_squared_error</th>\n",
              "    </tr>\n",
              "  </thead>\n",
              "  <tbody>\n",
              "    <tr>\n",
              "      <th>0</th>\n",
              "      <td>-12.563014</td>\n",
              "      <td>-0.0</td>\n",
              "    </tr>\n",
              "    <tr>\n",
              "      <th>1</th>\n",
              "      <td>-13.510411</td>\n",
              "      <td>-0.0</td>\n",
              "    </tr>\n",
              "    <tr>\n",
              "      <th>2</th>\n",
              "      <td>-71.290556</td>\n",
              "      <td>-0.0</td>\n",
              "    </tr>\n",
              "    <tr>\n",
              "      <th>3</th>\n",
              "      <td>-31.690139</td>\n",
              "      <td>-0.0</td>\n",
              "    </tr>\n",
              "    <tr>\n",
              "      <th>4</th>\n",
              "      <td>-10.841250</td>\n",
              "      <td>-0.0</td>\n",
              "    </tr>\n",
              "    <tr>\n",
              "      <th>5</th>\n",
              "      <td>-96.612222</td>\n",
              "      <td>-0.0</td>\n",
              "    </tr>\n",
              "    <tr>\n",
              "      <th>6</th>\n",
              "      <td>-29.507917</td>\n",
              "      <td>-0.0</td>\n",
              "    </tr>\n",
              "  </tbody>\n",
              "</table>\n",
              "</div>"
            ],
            "text/plain": [
              "   test_neg_mean_squared_error  train_neg_mean_squared_error\n",
              "0                   -12.563014                          -0.0\n",
              "1                   -13.510411                          -0.0\n",
              "2                   -71.290556                          -0.0\n",
              "3                   -31.690139                          -0.0\n",
              "4                   -10.841250                          -0.0\n",
              "5                   -96.612222                          -0.0\n",
              "6                   -29.507917                          -0.0"
            ]
          },
          "execution_count": 156,
          "metadata": {},
          "output_type": "execute_result"
        }
      ],
      "source": [
        "scores_mean_squared_error = pd.DataFrame(cv_results)[['test_neg_mean_squared_error', 'train_neg_mean_squared_error']]\n",
        "scores_mean_squared_error"
      ]
    },
    {
      "cell_type": "code",
      "execution_count": null,
      "id": "82d5382c",
      "metadata": {
        "id": "82d5382c",
        "outputId": "2479f236-481b-43a9-dc4c-208a78097886"
      },
      "outputs": [
        {
          "data": {
            "text/html": [
              "<div>\n",
              "<style scoped>\n",
              "    .dataframe tbody tr th:only-of-type {\n",
              "        vertical-align: middle;\n",
              "    }\n",
              "\n",
              "    .dataframe tbody tr th {\n",
              "        vertical-align: top;\n",
              "    }\n",
              "\n",
              "    .dataframe thead th {\n",
              "        text-align: right;\n",
              "    }\n",
              "</style>\n",
              "<table border=\"1\" class=\"dataframe\">\n",
              "  <thead>\n",
              "    <tr style=\"text-align: right;\">\n",
              "      <th></th>\n",
              "      <th>test_mean_squared_error</th>\n",
              "      <th>train_mean_squared_error</th>\n",
              "    </tr>\n",
              "  </thead>\n",
              "  <tbody>\n",
              "    <tr>\n",
              "      <th>0</th>\n",
              "      <td>12.563014</td>\n",
              "      <td>0.0</td>\n",
              "    </tr>\n",
              "    <tr>\n",
              "      <th>1</th>\n",
              "      <td>13.510411</td>\n",
              "      <td>0.0</td>\n",
              "    </tr>\n",
              "    <tr>\n",
              "      <th>2</th>\n",
              "      <td>71.290556</td>\n",
              "      <td>0.0</td>\n",
              "    </tr>\n",
              "    <tr>\n",
              "      <th>3</th>\n",
              "      <td>31.690139</td>\n",
              "      <td>0.0</td>\n",
              "    </tr>\n",
              "    <tr>\n",
              "      <th>4</th>\n",
              "      <td>10.841250</td>\n",
              "      <td>0.0</td>\n",
              "    </tr>\n",
              "    <tr>\n",
              "      <th>5</th>\n",
              "      <td>96.612222</td>\n",
              "      <td>0.0</td>\n",
              "    </tr>\n",
              "    <tr>\n",
              "      <th>6</th>\n",
              "      <td>29.507917</td>\n",
              "      <td>0.0</td>\n",
              "    </tr>\n",
              "  </tbody>\n",
              "</table>\n",
              "</div>"
            ],
            "text/plain": [
              "   test_mean_squared_error  train_mean_squared_error\n",
              "0                12.563014                       0.0\n",
              "1                13.510411                       0.0\n",
              "2                71.290556                       0.0\n",
              "3                31.690139                       0.0\n",
              "4                10.841250                       0.0\n",
              "5                96.612222                       0.0\n",
              "6                29.507917                       0.0"
            ]
          },
          "execution_count": 157,
          "metadata": {},
          "output_type": "execute_result"
        }
      ],
      "source": [
        "scores_mean_squared_error['test_neg_mean_squared_error'] = -scores_mean_squared_error['test_neg_mean_squared_error']\n",
        "scores_mean_squared_error['train_neg_mean_squared_error'] = -scores_mean_squared_error['train_neg_mean_squared_error']\n",
        "scores_mean_squared_error.columns=['test_mean_squared_error', 'train_mean_squared_error']\n",
        "scores_mean_squared_error"
      ]
    },
    {
      "cell_type": "markdown",
      "id": "9609f709",
      "metadata": {
        "id": "9609f709"
      },
      "source": [
        "4. Найдите средние значения метрики mean_squared_error на обучающих и на тестовых данных. Сравните эти значения между собой и сделайте предположение о переобученности модели."
      ]
    },
    {
      "cell_type": "code",
      "execution_count": null,
      "id": "4062c38c",
      "metadata": {
        "id": "4062c38c",
        "outputId": "6cac5fe1-df81-4c7e-e9a1-70202b9ff712"
      },
      "outputs": [
        {
          "data": {
            "text/plain": [
              "test_mean_squared_error     38.002215\n",
              "train_mean_squared_error     0.000000\n",
              "dtype: float64"
            ]
          },
          "execution_count": 158,
          "metadata": {},
          "output_type": "execute_result"
        }
      ],
      "source": [
        "scores_mean_squared_error.mean(axis = 0)"
      ]
    },
    {
      "cell_type": "markdown",
      "id": "e381befc",
      "metadata": {
        "id": "e381befc"
      },
      "source": [
        "Модель переобучена"
      ]
    },
    {
      "cell_type": "markdown",
      "id": "a16a46fd",
      "metadata": {
        "id": "a16a46fd"
      },
      "source": [
        "5. Визуализируйте для метрики mean_squared_error полученные результаты перекрёстной-проверки, используя функцию plot_cv_scores. Убедитесь по графикам, что имеет место переобучение, т.к. ломаные линии для обучающих и тестовых данных не пересекаются."
      ]
    },
    {
      "cell_type": "code",
      "execution_count": null,
      "id": "567caa32",
      "metadata": {
        "id": "567caa32",
        "outputId": "18e7f391-b40b-44b2-b458-f51e18f24296"
      },
      "outputs": [
        {
          "data": {
            "image/png": "[encoded data removed]",
            "text/plain": [
              "<Figure size 600x400 with 1 Axes>"
            ]
          },
          "metadata": {},
          "output_type": "display_data"
        }
      ],
      "source": [
        "plot_cv_scores(scores_mean_squared_error, 'mean_squared_error')"
      ]
    },
    {
      "cell_type": "markdown",
      "id": "498cd4ab",
      "metadata": {
        "id": "498cd4ab"
      },
      "source": [
        "6. Поборитесь с переобучением, для этого варьируйте значение гиперпараметра max_depth = [1, 2, 3, 4, 5, 6]  и постройте соответствующую ***кривую проверки***, вычислив необходимые для её построения значения при помощи функции validation_curve. Используйте метрический показатель neg_mean_squared_error. Глядя на график, определите оптимальное значение  max_depth."
      ]
    },
    {
      "cell_type": "code",
      "execution_count": null,
      "id": "50ccace7",
      "metadata": {
        "id": "50ccace7"
      },
      "outputs": [],
      "source": [
        "scores_neg_mean_squared_error = pd.DataFrame(cv_results)[['test_neg_mean_squared_error', 'train_neg_mean_squared_error']]"
      ]
    },
    {
      "cell_type": "code",
      "execution_count": null,
      "id": "593b42c2",
      "metadata": {
        "id": "593b42c2",
        "outputId": "734483fe-372d-4c0b-c67d-e1ff2feeb499"
      },
      "outputs": [
        {
          "data": {
            "text/plain": [
              "(array([[-50.91509139, -47.45375901, -39.46333821, -35.64055855,\n",
              "         -44.21330715],\n",
              "        [-27.36845299, -26.24649951, -22.88685892, -16.72582086,\n",
              "         -25.38498252],\n",
              "        [-16.80806356, -14.29581196, -15.25504215, -10.99245365,\n",
              "         -13.45859031],\n",
              "        [ -9.72767256,  -8.15331598,  -9.05749125,  -7.68729846,\n",
              "          -9.0888174 ],\n",
              "        [ -6.65582749,  -5.32588279,  -6.00616753,  -5.22549852,\n",
              "          -6.22949607],\n",
              "        [ -4.72330444,  -3.43856357,  -4.10351323,  -3.44209584,\n",
              "          -4.25477189]]),\n",
              " array([[-35.9989341 , -48.33395173, -85.66005339, -90.11563316,\n",
              "         -79.578462  ],\n",
              "        [-19.36290091, -25.777347  , -58.6167565 , -63.18813886,\n",
              "         -41.21802825],\n",
              "        [-18.59356411, -22.49318525, -41.13689802, -53.32685794,\n",
              "         -42.81135374],\n",
              "        [-11.94208679, -36.25334211, -29.63408807, -47.22598736,\n",
              "         -65.56372677],\n",
              "        [-10.26927675, -47.30522267, -22.66923462, -49.7944655 ,\n",
              "         -64.0633091 ],\n",
              "        [-12.59463593, -48.93869993, -26.00049018, -52.57202805,\n",
              "         -74.63380722]]))"
            ]
          },
          "execution_count": 161,
          "metadata": {},
          "output_type": "execute_result"
        }
      ],
      "source": [
        "max_depth = [1, 2, 3, 4, 5, 6]\n",
        "train_scores, test_scores = validation_curve(clf_boston, x, y,\n",
        "                                             param_name = 'max_depth', param_range = max_depth,\n",
        "                                             cv =5, scoring = 'neg_mean_squared_error')\n",
        "train_scores, test_scores"
      ]
    },
    {
      "cell_type": "code",
      "execution_count": null,
      "id": "3e47c7aa",
      "metadata": {
        "id": "3e47c7aa",
        "outputId": "15902b8e-47cd-4577-8edf-a4ff023f582c"
      },
      "outputs": [
        {
          "data": {
            "text/plain": [
              "array([-43.53721086, -23.72252296, -14.16199233,  -8.74291913,\n",
              "        -5.88857448,  -3.99244979])"
            ]
          },
          "execution_count": 162,
          "metadata": {},
          "output_type": "execute_result"
        }
      ],
      "source": [
        "train_scores.mean(axis = 1)"
      ]
    },
    {
      "cell_type": "code",
      "execution_count": null,
      "id": "8d1d685b",
      "metadata": {
        "id": "8d1d685b",
        "outputId": "74a9d229-6c0b-4002-abb7-56660110a2a6"
      },
      "outputs": [
        {
          "data": {
            "image/png": "[encoded data removed]",
            "text/plain": [
              "<Figure size 600x400 with 1 Axes>"
            ]
          },
          "metadata": {},
          "output_type": "display_data"
        }
      ],
      "source": [
        "plt.figure(figsize = (6,4))\n",
        "plot_train_test_curves(train_scores, test_scores, max_depth)\n",
        "plt.title('Кривая проверки')\n",
        "plt.xlabel('max_depth')\n",
        "plt.ylabel('neg_mean_squared_error')\n",
        "plt.show()"
      ]
    },
    {
      "cell_type": "markdown",
      "id": "d19b0372",
      "metadata": {
        "id": "d19b0372"
      },
      "source": [
        "7. Сделайте 7-блочную перекрёстную проверку (кросс-валидацию) модели DecisionTreeClassifier с random_state=0 и найденным оптимальным значением max_depth, используя библиотечную функцию cross_validate. Результаты выведите в виде датафрейма, оставив только два столбца со значениями метрики на обучающих и тестовых данных, заменив их знаки. Найдите среднее значение метрики mean_squared_error на обучающих и на тестовых данных."
      ]
    },
    {
      "cell_type": "code",
      "execution_count": null,
      "id": "62ea7f51",
      "metadata": {
        "id": "62ea7f51"
      },
      "outputs": [],
      "source": [
        "clf_boston_optimal = DecisionTreeRegressor(random_state=0, max_depth = 3)\n",
        "cv_results_optimal = cross_validate(clf_boston_optimal, x, y, cv = 7, scoring = ['neg_mean_squared_error'], return_train_score = True)"
      ]
    },
    {
      "cell_type": "code",
      "execution_count": null,
      "id": "900098d9",
      "metadata": {
        "id": "900098d9",
        "outputId": "eb985344-238a-4cf3-ae64-97ca1ad18f86"
      },
      "outputs": [
        {
          "data": {
            "text/html": [
              "<div>\n",
              "<style scoped>\n",
              "    .dataframe tbody tr th:only-of-type {\n",
              "        vertical-align: middle;\n",
              "    }\n",
              "\n",
              "    .dataframe tbody tr th {\n",
              "        vertical-align: top;\n",
              "    }\n",
              "\n",
              "    .dataframe thead th {\n",
              "        text-align: right;\n",
              "    }\n",
              "</style>\n",
              "<table border=\"1\" class=\"dataframe\">\n",
              "  <thead>\n",
              "    <tr style=\"text-align: right;\">\n",
              "      <th></th>\n",
              "      <th>test_neg_mean_squared_error</th>\n",
              "      <th>train_neg_mean_squared_error</th>\n",
              "    </tr>\n",
              "  </thead>\n",
              "  <tbody>\n",
              "    <tr>\n",
              "      <th>0</th>\n",
              "      <td>-20.119622</td>\n",
              "      <td>-16.477369</td>\n",
              "    </tr>\n",
              "    <tr>\n",
              "      <th>1</th>\n",
              "      <td>-10.179267</td>\n",
              "      <td>-16.397745</td>\n",
              "    </tr>\n",
              "    <tr>\n",
              "      <th>2</th>\n",
              "      <td>-31.103173</td>\n",
              "      <td>-13.513918</td>\n",
              "    </tr>\n",
              "    <tr>\n",
              "      <th>3</th>\n",
              "      <td>-45.752214</td>\n",
              "      <td>-15.937971</td>\n",
              "    </tr>\n",
              "    <tr>\n",
              "      <th>4</th>\n",
              "      <td>-21.084571</td>\n",
              "      <td>-16.131771</td>\n",
              "    </tr>\n",
              "    <tr>\n",
              "      <th>5</th>\n",
              "      <td>-86.145991</td>\n",
              "      <td>-9.689361</td>\n",
              "    </tr>\n",
              "    <tr>\n",
              "      <th>6</th>\n",
              "      <td>-22.062352</td>\n",
              "      <td>-15.415609</td>\n",
              "    </tr>\n",
              "  </tbody>\n",
              "</table>\n",
              "</div>"
            ],
            "text/plain": [
              "   test_neg_mean_squared_error  train_neg_mean_squared_error\n",
              "0                   -20.119622                    -16.477369\n",
              "1                   -10.179267                    -16.397745\n",
              "2                   -31.103173                    -13.513918\n",
              "3                   -45.752214                    -15.937971\n",
              "4                   -21.084571                    -16.131771\n",
              "5                   -86.145991                     -9.689361\n",
              "6                   -22.062352                    -15.415609"
            ]
          },
          "execution_count": 165,
          "metadata": {},
          "output_type": "execute_result"
        }
      ],
      "source": [
        "scores_neg_mse_optimal = pd.DataFrame(cv_results_optimal)[['test_neg_mean_squared_error', 'train_neg_mean_squared_error']]\n",
        "scores_neg_mse_optimal"
      ]
    },
    {
      "cell_type": "code",
      "execution_count": null,
      "id": "6bc26ae4",
      "metadata": {
        "id": "6bc26ae4",
        "outputId": "0565341f-7a28-4ba1-c48f-a03c05310c19"
      },
      "outputs": [
        {
          "data": {
            "text/html": [
              "<div>\n",
              "<style scoped>\n",
              "    .dataframe tbody tr th:only-of-type {\n",
              "        vertical-align: middle;\n",
              "    }\n",
              "\n",
              "    .dataframe tbody tr th {\n",
              "        vertical-align: top;\n",
              "    }\n",
              "\n",
              "    .dataframe thead th {\n",
              "        text-align: right;\n",
              "    }\n",
              "</style>\n",
              "<table border=\"1\" class=\"dataframe\">\n",
              "  <thead>\n",
              "    <tr style=\"text-align: right;\">\n",
              "      <th></th>\n",
              "      <th>test_mean_squared_error</th>\n",
              "      <th>train_mean_squared_error</th>\n",
              "    </tr>\n",
              "  </thead>\n",
              "  <tbody>\n",
              "    <tr>\n",
              "      <th>0</th>\n",
              "      <td>20.119622</td>\n",
              "      <td>16.477369</td>\n",
              "    </tr>\n",
              "    <tr>\n",
              "      <th>1</th>\n",
              "      <td>10.179267</td>\n",
              "      <td>16.397745</td>\n",
              "    </tr>\n",
              "    <tr>\n",
              "      <th>2</th>\n",
              "      <td>31.103173</td>\n",
              "      <td>13.513918</td>\n",
              "    </tr>\n",
              "    <tr>\n",
              "      <th>3</th>\n",
              "      <td>45.752214</td>\n",
              "      <td>15.937971</td>\n",
              "    </tr>\n",
              "    <tr>\n",
              "      <th>4</th>\n",
              "      <td>21.084571</td>\n",
              "      <td>16.131771</td>\n",
              "    </tr>\n",
              "    <tr>\n",
              "      <th>5</th>\n",
              "      <td>86.145991</td>\n",
              "      <td>9.689361</td>\n",
              "    </tr>\n",
              "    <tr>\n",
              "      <th>6</th>\n",
              "      <td>22.062352</td>\n",
              "      <td>15.415609</td>\n",
              "    </tr>\n",
              "  </tbody>\n",
              "</table>\n",
              "</div>"
            ],
            "text/plain": [
              "   test_mean_squared_error  train_mean_squared_error\n",
              "0                20.119622                 16.477369\n",
              "1                10.179267                 16.397745\n",
              "2                31.103173                 13.513918\n",
              "3                45.752214                 15.937971\n",
              "4                21.084571                 16.131771\n",
              "5                86.145991                  9.689361\n",
              "6                22.062352                 15.415609"
            ]
          },
          "execution_count": 166,
          "metadata": {},
          "output_type": "execute_result"
        }
      ],
      "source": [
        "scores_neg_mse_optimal['test_neg_mean_squared_error'] = -scores_neg_mse_optimal['test_neg_mean_squared_error']\n",
        "scores_neg_mse_optimal['train_neg_mean_squared_error'] = -scores_neg_mse_optimal['train_neg_mean_squared_error']\n",
        "scores_neg_mse_optimal.columns=['test_mean_squared_error', 'train_mean_squared_error']\n",
        "scores_neg_mse_optimal"
      ]
    },
    {
      "cell_type": "code",
      "execution_count": null,
      "id": "5ac79d67",
      "metadata": {
        "id": "5ac79d67",
        "outputId": "2eb8b094-c03b-4971-c511-917ebc171204"
      },
      "outputs": [
        {
          "data": {
            "text/plain": [
              "test_mean_squared_error     33.778170\n",
              "train_mean_squared_error    14.794821\n",
              "dtype: float64"
            ]
          },
          "execution_count": 167,
          "metadata": {},
          "output_type": "execute_result"
        }
      ],
      "source": [
        "scores_neg_mse_optimal.mean(axis = 0)"
      ]
    },
    {
      "cell_type": "markdown",
      "id": "1f83495f",
      "metadata": {
        "id": "1f83495f"
      },
      "source": [
        "8. Убедитесь, что переобучение больше нет, построив соответствующие графики при помощи функции plot_cv_scores."
      ]
    },
    {
      "cell_type": "code",
      "execution_count": null,
      "id": "29f9f90d",
      "metadata": {
        "id": "29f9f90d",
        "outputId": "d8e77906-d7bf-4265-e331-7962da4f4d35"
      },
      "outputs": [
        {
          "data": {
            "image/png": "[encoded data removed]",
            "text/plain": [
              "<Figure size 600x400 with 1 Axes>"
            ]
          },
          "metadata": {},
          "output_type": "display_data"
        }
      ],
      "source": [
        "plot_cv_scores(scores_neg_mse_optimal, 'neg_mse_optimal')"
      ]
    },
    {
      "cell_type": "code",
      "execution_count": null,
      "id": "5b8de257",
      "metadata": {
        "id": "5b8de257"
      },
      "outputs": [],
      "source": []
    }
  ],
  "metadata": {
    "colab": {
      "provenance": []
    },
    "kernelspec": {
      "display_name": "Python 3 (ipykernel)",
      "language": "python",
      "name": "python3"
    },
    "language_info": {
      "codemirror_mode": {
        "name": "ipython",
        "version": 3
      },
      "file_extension": ".py",
      "mimetype": "text/x-python",
      "name": "python",
      "nbconvert_exporter": "python",
      "pygments_lexer": "ipython3",
      "version": "3.11.5"
    }
  },
  "nbformat": 4,
  "nbformat_minor": 5
}